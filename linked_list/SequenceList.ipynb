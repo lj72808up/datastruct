{
 "cells": [
  {
   "cell_type": "markdown",
   "metadata": {},
   "source": [
    "#### 一. 顺序表数据结构\n",
    "1. `ListNode` : 顺序表中的每个节点, 有前驱和后继  \n",
    "2. `List` : 由`ListNode`组成的顺序表"
   ]
  },
  {
   "cell_type": "code",
   "execution_count": 7,
   "metadata": {},
   "outputs": [],
   "source": [
    "class ListNode(object):\n",
    "    \n",
    "    def __init__(self,data=None,pred=None,succ=None):\n",
    "        self.data = data\n",
    "        self.pred = pred\n",
    "        self.succ = succ\n",
    "        \n",
    "    ### 插入\n",
    "    def insertAsPred(self,data):\n",
    "        new_node = ListNode(data,pred=self.pred,succ=self)\n",
    "        self.pred.succ = new_node\n",
    "        self.pred = new_node\n",
    "        return new_node\n",
    "    \n",
    "    def insertAsSucc(self,data):\n",
    "        new_node = ListNode(data,pred=self,succ=self.succ)\n",
    "        self.succ.pred = new_node\n",
    "        self.succ = new_node\n",
    "        return new_node"
   ]
  },
  {
   "cell_type": "code",
   "execution_count": 12,
   "metadata": {},
   "outputs": [],
   "source": [
    "class List(object):\n",
    "    def __init__(self):\n",
    "        self.header = ListNode()  # 头哨兵\n",
    "        self.tailer = ListNode()    # 尾哨兵\n",
    "        self.header.succ = self.tailer  # 连接首尾\n",
    "        self.tailer.pred = self.header\n",
    "        self.header.pred = None\n",
    "        self.tailer.succ = None\n",
    "        self.size = 0\n",
    "        \n",
    "    def first(self):\n",
    "        return self.header.succ\n",
    "    \n",
    "    def last(self):\n",
    "        return self.tailer.pred\n",
    "    \n",
    "    def valid(self,node):\n",
    "        '''判断该位置是否合法'''\n",
    "        return (node is not None) and (self.tailer is not node) and (self.header is not node)\n",
    "    \n",
    "    def size(self):\n",
    "        return self.size\n",
    "    \n",
    "    def empty(self):\n",
    "        return self.size<=0\n",
    "    \n",
    "    ### 查找\n",
    "    def find(self,data,n_range,node):\n",
    "        '''在顺序表内的节点node的前n个真子集中, 查找元素值为data的节点'''\n",
    "        while(n_range>0):\n",
    "            node = node.pred\n",
    "            if data==node.data:\n",
    "                return node\n",
    "            n_range = n_range-1\n",
    "        return None\n",
    "    \n",
    "    ### 插入\n",
    "    def insertAsFirst(self,data):\n",
    "        self.size = self.size+1\n",
    "        return self.header.insertAsSucc(data)\n",
    "    \n",
    "    def insertAsLast(self,data):\n",
    "        self.size = self.size+1\n",
    "        return self.tailer.insertAsPred(data)\n",
    "    \n",
    "    def insertA(self,node,data):\n",
    "        '''后插'''\n",
    "        self.size = self.size+1\n",
    "        return node.insertAsSucc(data)\n",
    "    \n",
    "    def insertB(self,node,data):\n",
    "        '''前插'''\n",
    "        self.size = self.size+1\n",
    "        return node.insertAsPred(data)\n",
    "    \n",
    "    def traverse(self,visit):\n",
    "        node = self.header.succ\n",
    "        while(node is not self.tailer):\n",
    "            visit(node.data)\n",
    "            node = node.succ"
   ]
  },
  {
   "cell_type": "code",
   "execution_count": 13,
   "metadata": {},
   "outputs": [
    {
     "name": "stdout",
     "output_type": "stream",
     "text": [
      "a\n",
      "b\n",
      "c\n"
     ]
    }
   ],
   "source": [
    "if __name__==\"__main__\":\n",
    "    l = List()\n",
    "    a = l.insertAsFirst('a')\n",
    "    b = l.insertA(a,'b')\n",
    "    c = l.insertA(b,'c')\n",
    "    def visit(data):\n",
    "        print data\n",
    "    l.traverse(visit)"
   ]
  }
 ],
 "metadata": {
  "kernelspec": {
   "display_name": "Python 2",
   "language": "python",
   "name": "python2"
  },
  "language_info": {
   "codemirror_mode": {
    "name": "ipython",
    "version": 2
   },
   "file_extension": ".py",
   "mimetype": "text/x-python",
   "name": "python",
   "nbconvert_exporter": "python",
   "pygments_lexer": "ipython2",
   "version": "2.7.15"
  }
 },
 "nbformat": 4,
 "nbformat_minor": 2
}

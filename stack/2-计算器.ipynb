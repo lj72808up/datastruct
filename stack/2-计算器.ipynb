{
 "cells": [
  {
   "cell_type": "code",
   "execution_count": 4,
   "metadata": {},
   "outputs": [],
   "source": [
    "import pandas as pd"
   ]
  },
  {
   "cell_type": "markdown",
   "metadata": {
    "collapsed": true
   },
   "source": [
    "## 计算器\n",
    "### 一. 计算器的实现有几个问题  \n",
    "#### 1. 读取操作数:  \n",
    "因为表达式中的操作数可能是多位实数.这就要求读到一个数字时,先不能参与运算,要进入一个`操作数缓存栈`中,直到读取的表达式字符不是数字时,再把这个操作数缓存栈中的数字一次弹出\\*${10}^n$,结果加入真正的`操作数栈`  \n",
    "#### 2. 何时执行操作符运算:  \n",
    "读到操作符时也不能直接运算,因为后面可能有操作级别更高的操作符. 此时只能先把操作符进入`操作符栈`,直到遇到表达式中的字符优先级,比`操作符栈`栈顶元素的优先级低时,才能对操作符栈顶的运算符运算 (只要出现的操作符比前一个操作符优先级低,就可以对前一个运算符进行计算)\n",
    "#### 3. 对于括号的处理\n",
    "1. '('的优先级比其他所有操作符的优先级都低 :  \n",
    " 因为'('没有运算的意思, 所以优先级比所有操作符都低\n",
    "2. ')'可不设置优先级, 直接弹栈"
   ]
  },
  {
   "cell_type": "code",
   "execution_count": 12,
   "metadata": {},
   "outputs": [
    {
     "data": {
      "text/html": [
       "<div>\n",
       "<style scoped>\n",
       "    .dataframe tbody tr th:only-of-type {\n",
       "        vertical-align: middle;\n",
       "    }\n",
       "\n",
       "    .dataframe tbody tr th {\n",
       "        vertical-align: top;\n",
       "    }\n",
       "\n",
       "    .dataframe thead th {\n",
       "        text-align: right;\n",
       "    }\n",
       "</style>\n",
       "<table border=\"1\" class=\"dataframe\">\n",
       "  <thead>\n",
       "    <tr style=\"text-align: right;\">\n",
       "      <th>stack_top</th>\n",
       "      <th>+</th>\n",
       "      <th>-</th>\n",
       "      <th>*</th>\n",
       "      <th>/</th>\n",
       "      <th>(</th>\n",
       "    </tr>\n",
       "    <tr>\n",
       "      <th>current</th>\n",
       "      <th></th>\n",
       "      <th></th>\n",
       "      <th></th>\n",
       "      <th></th>\n",
       "      <th></th>\n",
       "    </tr>\n",
       "  </thead>\n",
       "  <tbody>\n",
       "    <tr>\n",
       "      <th>+</th>\n",
       "      <td>0</td>\n",
       "      <td>0</td>\n",
       "      <td>0</td>\n",
       "      <td>0</td>\n",
       "      <td>0</td>\n",
       "    </tr>\n",
       "    <tr>\n",
       "      <th>-</th>\n",
       "      <td>0</td>\n",
       "      <td>0</td>\n",
       "      <td>0</td>\n",
       "      <td>0</td>\n",
       "      <td>0</td>\n",
       "    </tr>\n",
       "    <tr>\n",
       "      <th>*</th>\n",
       "      <td>1</td>\n",
       "      <td>1</td>\n",
       "      <td>0</td>\n",
       "      <td>0</td>\n",
       "      <td>0</td>\n",
       "    </tr>\n",
       "    <tr>\n",
       "      <th>/</th>\n",
       "      <td>1</td>\n",
       "      <td>1</td>\n",
       "      <td>0</td>\n",
       "      <td>0</td>\n",
       "      <td>0</td>\n",
       "    </tr>\n",
       "    <tr>\n",
       "      <th>(</th>\n",
       "      <td>0</td>\n",
       "      <td>0</td>\n",
       "      <td>0</td>\n",
       "      <td>0</td>\n",
       "      <td>0</td>\n",
       "    </tr>\n",
       "  </tbody>\n",
       "</table>\n",
       "</div>"
      ],
      "text/plain": [
       "stack_top  +  -  *  /  (\n",
       "current                 \n",
       "+          0  0  0  0  0\n",
       "-          0  0  0  0  0\n",
       "*          1  1  0  0  0\n",
       "/          1  1  0  0  0\n",
       "(          0  0  0  0  0"
      ]
     },
     "execution_count": 12,
     "metadata": {},
     "output_type": "execute_result"
    }
   ],
   "source": [
    "# 定有运算符优先级表. 1表示优先级高\n",
    "#   横轴 : 当前运算符\n",
    "#   纵轴 : 栈顶运算符\n",
    "opt_prior = pd.DataFrame([[0,0,0,0,0],\n",
    "                          [0,0,0,0,0],\n",
    "                          [1,1,0,0,0],\n",
    "                          [1,1,0,0,0],\n",
    "                          [0,0,0,0,0]\n",
    "                         ],\n",
    "                         columns=['+','-','*','/','('],\n",
    "                         index=  ['+','-','*','/','('])\n",
    "opt_prior.index.name = 'current'\n",
    "opt_prior.columns.name = 'stack_top'\n",
    "opt_prior"
   ]
  },
  {
   "cell_type": "code",
   "execution_count": 34,
   "metadata": {},
   "outputs": [],
   "source": [
    "def read_num(stack):\n",
    "    '''从操作数缓存栈读取操作数'''\n",
    "    tmp = 0\n",
    "    for index,n in enumerate(range(len(stack)-1,-1,-1)): #从(n-1)到0的逆序\n",
    "        tmp = tmp + stack[index]*(10**n)\n",
    "    return tmp"
   ]
  },
  {
   "cell_type": "code",
   "execution_count": 51,
   "metadata": {},
   "outputs": [],
   "source": [
    "def pop(stack):\n",
    "    res = stack[-1]\n",
    "    stack = stack[:-1]\n",
    "    return res,stack"
   ]
  },
  {
   "cell_type": "code",
   "execution_count": 33,
   "metadata": {},
   "outputs": [
    {
     "data": {
      "text/plain": [
       "1239"
      ]
     },
     "execution_count": 33,
     "metadata": {},
     "output_type": "execute_result"
    }
   ],
   "source": [
    "def evaluate(expression):\n",
    "    number_cache = []\n",
    "    numbers = []\n",
    "    operaters = ['\\0']\n",
    "    while len(operaters)!=0:\n",
    "        c = expression[0]\n",
    "        expression = expression[1:]\n",
    "        if c.isdigit: # 数字\n",
    "            number_cache.append(c)\n",
    "        else: # 操作符\n",
    "            # 1.遇到操作符时, 先从操作数缓存栈中提取操作数\n",
    "            number = read_num(number_cache)\n",
    "            numbers.append(number)\n",
    "            number_cache = []\n",
    "            # 2.根据操作符选择进行的操作  \n",
    "            if c == ')':\n",
    "                #TODO\n",
    "            else:\n",
    "                if len(operaters)==1: # 只有\\0\n",
    "                    operaters.append(c)\n",
    "                else:\n",
    "                    stack_top = operaters[-1]\n",
    "                    if opt_prior[c][stack_top]==0:\n",
    "                        "
   ]
  },
  {
   "cell_type": "code",
   "execution_count": null,
   "metadata": {},
   "outputs": [],
   "source": []
  }
 ],
 "metadata": {
  "kernelspec": {
   "display_name": "Python 3",
   "language": "python",
   "name": "python3"
  },
  "language_info": {
   "codemirror_mode": {
    "name": "ipython",
    "version": 3
   },
   "file_extension": ".py",
   "mimetype": "text/x-python",
   "name": "python",
   "nbconvert_exporter": "python",
   "pygments_lexer": "ipython3",
   "version": "3.6.5"
  }
 },
 "nbformat": 4,
 "nbformat_minor": 1
}

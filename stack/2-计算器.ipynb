{
 "cells": [
  {
   "cell_type": "markdown",
   "metadata": {
    "collapsed": true
   },
   "source": [
    "## 计算器\n",
    "1. 计算器的实现有几个问题  \n",
    "( 1 )读取操作数:  \n",
    "因为表达式中的操作数可能是多位实数.这就要求督导一个数字时,线不能参与运算,要进入一个操作数缓存栈中,知道读取的表达式字符不是数字时,再把这个操作数缓存栈中的数字一次弹出*10的n次方,结果加入真正的操作数栈  \n",
    "( 2 )操作符优先级问题:  \n",
    "督导操作符时也不能直接运算,因为后面可能有操作界别更高的操作,此时只能先把操作符入栈,知道遇到表达式中的字符优先级比操作符栈顶元素的优先级低时,才能对操作符栈顶的运算符运算 (只要出现的操作符比前一个操作符优先级低,就可以对前一个运算符进行计算.只要对比上一个运算符)"
   ]
  },
  {
   "cell_type": "code",
   "execution_count": 1,
   "metadata": {},
   "outputs": [
    {
     "name": "stdout",
     "output_type": "stream",
     "text": [
      "@\n",
      "99.0 已经入栈\n",
      "1.0 已经入栈\n"
     ]
    },
    {
     "ename": "IndexError",
     "evalue": "string index out of range",
     "output_type": "error",
     "traceback": [
      "\u001b[0;31m---------------------------------------------------------------------------\u001b[0m",
      "\u001b[0;31mIndexError\u001b[0m                                Traceback (most recent call last)",
      "\u001b[0;32m<ipython-input-1-cb7036374dfe>\u001b[0m in \u001b[0;36m<module>\u001b[0;34m()\u001b[0m\n\u001b[1;32m     65\u001b[0m     \u001b[0;32mprint\u001b[0m \u001b[0;34m'\\100'\u001b[0m\u001b[0;34m\u001b[0m\u001b[0m\n\u001b[1;32m     66\u001b[0m     \u001b[0mexpression\u001b[0m \u001b[0;34m=\u001b[0m \u001b[0;34m\"99+1*2\"\u001b[0m\u001b[0;34m\u001b[0m\u001b[0m\n\u001b[0;32m---> 67\u001b[0;31m     \u001b[0;32mprint\u001b[0m \u001b[0mcaculate\u001b[0m\u001b[0;34m(\u001b[0m\u001b[0mexpression\u001b[0m\u001b[0;34m)\u001b[0m\u001b[0;34m\u001b[0m\u001b[0m\n\u001b[0m",
      "\u001b[0;32m<ipython-input-1-cb7036374dfe>\u001b[0m in \u001b[0;36mcaculate\u001b[0;34m(expression)\u001b[0m\n\u001b[1;32m     28\u001b[0m     \u001b[0;32mwhile\u001b[0m \u001b[0mlen\u001b[0m\u001b[0;34m(\u001b[0m\u001b[0moperatorStack\u001b[0m\u001b[0;34m)\u001b[0m\u001b[0;34m!=\u001b[0m\u001b[0;36m1\u001b[0m \u001b[0;32mor\u001b[0m \u001b[0mi\u001b[0m\u001b[0;34m<=\u001b[0m\u001b[0mlen\u001b[0m\u001b[0;34m(\u001b[0m\u001b[0mexpression\u001b[0m\u001b[0;34m)\u001b[0m\u001b[0;34m-\u001b[0m\u001b[0;36m1\u001b[0m\u001b[0;34m:\u001b[0m\u001b[0;34m\u001b[0m\u001b[0m\n\u001b[1;32m     29\u001b[0m         \u001b[0;31m# 如果是数字,就加入暂存栈中\u001b[0m\u001b[0;34m\u001b[0m\u001b[0;34m\u001b[0m\u001b[0m\n\u001b[0;32m---> 30\u001b[0;31m         \u001b[0m_char\u001b[0m \u001b[0;34m=\u001b[0m \u001b[0mexpression\u001b[0m\u001b[0;34m[\u001b[0m\u001b[0mi\u001b[0m\u001b[0;34m]\u001b[0m\u001b[0;34m\u001b[0m\u001b[0m\n\u001b[0m\u001b[1;32m     31\u001b[0m         \u001b[0;32mif\u001b[0m \u001b[0;34m(\u001b[0m\u001b[0m_char\u001b[0m\u001b[0;34m.\u001b[0m\u001b[0misdigit\u001b[0m\u001b[0;34m(\u001b[0m\u001b[0;34m)\u001b[0m\u001b[0;34m)\u001b[0m\u001b[0;34m:\u001b[0m\u001b[0;34m\u001b[0m\u001b[0m\n\u001b[1;32m     32\u001b[0m             \u001b[0mnumberTmp\u001b[0m\u001b[0;34m.\u001b[0m\u001b[0mappend\u001b[0m\u001b[0;34m(\u001b[0m\u001b[0mexpression\u001b[0m\u001b[0;34m[\u001b[0m\u001b[0mi\u001b[0m\u001b[0;34m]\u001b[0m\u001b[0;34m)\u001b[0m\u001b[0;34m;\u001b[0m\u001b[0mi\u001b[0m\u001b[0;34m=\u001b[0m\u001b[0mi\u001b[0m\u001b[0;34m+\u001b[0m\u001b[0;36m1\u001b[0m\u001b[0;34m\u001b[0m\u001b[0m\n",
      "\u001b[0;31mIndexError\u001b[0m: string index out of range"
     ]
    }
   ],
   "source": [
    "# -*- coding: UTF-8 -*-\n",
    "import math\n",
    "\n",
    "\n",
    "# 从栈中读取完整操作数\n",
    "def readNumber(l):\n",
    "    i = 0\n",
    "    sum = 0\n",
    "    while (len(l) > 0):\n",
    "        num1 = int(l.pop())\n",
    "        num2 = math.pow(10,i)\n",
    "        sum = sum + num1 * num2\n",
    "        i = i + 1\n",
    "    return sum\n",
    "\n",
    "\n",
    "# 计算表达式:一个字符串\n",
    "# 搞一个运算符栈,只有当'栈顶的运算'符级别高于'当前遇到的运算符'级别,才能运算栈顶的操作\n",
    "def caculate(expression):\n",
    "    # 运算符优先级\n",
    "    priority = {'(': 99, ')': -1, '+': 1,\n",
    "                '-': 1, '*': 2, '/': 2,\n",
    "                '\\100':-2}\n",
    "    numberStack = []\n",
    "    operatorStack = ['\\100']\n",
    "    numberTmp = []\n",
    "    i = 0\n",
    "    while len(operatorStack)!=1 or i<=len(expression)-1:\n",
    "        # 如果是数字,就加入暂存栈中\n",
    "        _char = expression[i]\n",
    "        if (_char.isdigit()):\n",
    "            numberTmp.append(expression[i]);i=i+1\n",
    "        # 如果是操作符,证明操作数读取完毕,先进行完整操作数的组装,在进行后续计算\n",
    "        else:\n",
    "            number = readNumber(numberTmp)\n",
    "            numberStack.append(number)\n",
    "            print \"%s 已经入栈\"% number\n",
    "            topOperator = operatorStack[-1]  # 栈顶操作符\n",
    "            # 连续的两个左右括号,直接删除栈顶的左括号\n",
    "            if (topOperator == \"(\" and _char == \")\"):\n",
    "                operatorStack.pop()\n",
    "            if (priority[topOperator] > priority[_char]):\n",
    "                result = compute(numberStack, topOperator)  # 引用传递,numberStack栈顶两个元素已被pop\n",
    "                numberStack.append(result)\n",
    "            if (priority[topOperator] <= priority[_char]):\n",
    "                operatorStack.append(expression[i]);i=i+1\n",
    "    # 最终操作数栈只有一个元素,就是计算后的结果\n",
    "    return numberStack[0]\n",
    "\n",
    "\n",
    "def compute(numberStack, topOperator):\n",
    "    i = numberStack.pop()\n",
    "    j = numberStack.pop()\n",
    "    if topOperator==\"+\":\n",
    "        return j+i\n",
    "    if topOperator==\"-\":\n",
    "        return j-i\n",
    "    if topOperator==\"*\":\n",
    "        return j-i\n",
    "    if topOperator==\"/\":\n",
    "        return j-i\n",
    "\n",
    "\n",
    "if __name__ == \"__main__\":\n",
    "    print '\\100'\n",
    "    expression = \"99+1*2\"\n",
    "    print caculate(expression)"
   ]
  },
  {
   "cell_type": "code",
   "execution_count": null,
   "metadata": {},
   "outputs": [],
   "source": []
  }
 ],
 "metadata": {
  "kernelspec": {
   "display_name": "Python 2",
   "language": "python",
   "name": "python2"
  },
  "language_info": {
   "codemirror_mode": {
    "name": "ipython",
    "version": 2
   },
   "file_extension": ".py",
   "mimetype": "text/x-python",
   "name": "python",
   "nbconvert_exporter": "python",
   "pygments_lexer": "ipython2",
   "version": "2.7.14"
  }
 },
 "nbformat": 4,
 "nbformat_minor": 1
}

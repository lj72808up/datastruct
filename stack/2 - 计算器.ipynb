{
 "cells": [
  {
   "cell_type": "code",
   "execution_count": 1,
   "metadata": {},
   "outputs": [],
   "source": [
    "import pandas as pd\n",
    "from __future__ import division"
   ]
  },
  {
   "cell_type": "markdown",
   "metadata": {
    "collapsed": true
   },
   "source": [
    "## 计算器\n",
    "### 一. 计算器的实现有几个问题  \n",
    "#### 1. 读取操作数:  \n",
    "因为表达式中的操作数可能是多位实数.这就要求读到一个数字时,先不能参与运算,要进入一个`操作数缓存栈`中,直到读取的表达式字符不是数字时,再把这个操作数缓存栈中的数字一次弹出\\*${10}^n$,结果加入真正的`操作数栈`  \n",
    "#### 2. 何时执行操作符运算:  \n",
    "读到操作符时也不能直接运算,因为后面可能有操作级别更高的操作符. 此时只能先把操作符进入`操作符栈`,直到遇到表达式中的字符优先级,比`操作符栈`栈顶元素的优先级低时,才能对操作符栈顶的运算符运算 (只要出现的操作符比前一个操作符优先级低,就可以对前一个运算符进行计算)\n",
    "#### 3. 对于括号的处理\n",
    "1. '('前面的式子可以单独计算, 因此'('的优先级对比其他运算符低. \n",
    " 而'('里先遇到的运算符也不能直接运算, 因为括号内也是作为独立的式子运算, 因此其他运算符对比'('的优先级低\n",
    "2. ')'的操作 \n",
    " 1. ')'的优先级比所有有意义的操作符都低, 可执行栈顶操作符运算\n",
    " 2. 若果当前运算符是')', 遇到'('时, 弹栈. 为了识别这种情况, 让')'与'('比较的结果为2"
   ]
  },
  {
   "cell_type": "code",
   "execution_count": 2,
   "metadata": {},
   "outputs": [
    {
     "data": {
      "text/html": [
       "<div>\n",
       "<style scoped>\n",
       "    .dataframe tbody tr th:only-of-type {\n",
       "        vertical-align: middle;\n",
       "    }\n",
       "\n",
       "    .dataframe tbody tr th {\n",
       "        vertical-align: top;\n",
       "    }\n",
       "\n",
       "    .dataframe thead th {\n",
       "        text-align: right;\n",
       "    }\n",
       "</style>\n",
       "<table border=\"1\" class=\"dataframe\">\n",
       "  <thead>\n",
       "    <tr style=\"text-align: right;\">\n",
       "      <th>stack_top</th>\n",
       "      <th>+</th>\n",
       "      <th>-</th>\n",
       "      <th>*</th>\n",
       "      <th>/</th>\n",
       "      <th>(</th>\n",
       "      <th>#</th>\n",
       "    </tr>\n",
       "    <tr>\n",
       "      <th>current</th>\n",
       "      <th></th>\n",
       "      <th></th>\n",
       "      <th></th>\n",
       "      <th></th>\n",
       "      <th></th>\n",
       "      <th></th>\n",
       "    </tr>\n",
       "  </thead>\n",
       "  <tbody>\n",
       "    <tr>\n",
       "      <th>+</th>\n",
       "      <td>0</td>\n",
       "      <td>0</td>\n",
       "      <td>0</td>\n",
       "      <td>0</td>\n",
       "      <td>1</td>\n",
       "      <td>1</td>\n",
       "    </tr>\n",
       "    <tr>\n",
       "      <th>-</th>\n",
       "      <td>0</td>\n",
       "      <td>0</td>\n",
       "      <td>0</td>\n",
       "      <td>0</td>\n",
       "      <td>1</td>\n",
       "      <td>1</td>\n",
       "    </tr>\n",
       "    <tr>\n",
       "      <th>*</th>\n",
       "      <td>1</td>\n",
       "      <td>1</td>\n",
       "      <td>0</td>\n",
       "      <td>0</td>\n",
       "      <td>1</td>\n",
       "      <td>1</td>\n",
       "    </tr>\n",
       "    <tr>\n",
       "      <th>/</th>\n",
       "      <td>1</td>\n",
       "      <td>1</td>\n",
       "      <td>0</td>\n",
       "      <td>0</td>\n",
       "      <td>1</td>\n",
       "      <td>1</td>\n",
       "    </tr>\n",
       "    <tr>\n",
       "      <th>(</th>\n",
       "      <td>1</td>\n",
       "      <td>1</td>\n",
       "      <td>1</td>\n",
       "      <td>1</td>\n",
       "      <td>1</td>\n",
       "      <td>1</td>\n",
       "    </tr>\n",
       "    <tr>\n",
       "      <th>)</th>\n",
       "      <td>0</td>\n",
       "      <td>0</td>\n",
       "      <td>0</td>\n",
       "      <td>0</td>\n",
       "      <td>2</td>\n",
       "      <td>1</td>\n",
       "    </tr>\n",
       "    <tr>\n",
       "      <th>#</th>\n",
       "      <td>0</td>\n",
       "      <td>0</td>\n",
       "      <td>0</td>\n",
       "      <td>0</td>\n",
       "      <td>0</td>\n",
       "      <td>2</td>\n",
       "    </tr>\n",
       "  </tbody>\n",
       "</table>\n",
       "</div>"
      ],
      "text/plain": [
       "stack_top  +  -  *  /  (  #\n",
       "current                    \n",
       "+          0  0  0  0  1  1\n",
       "-          0  0  0  0  1  1\n",
       "*          1  1  0  0  1  1\n",
       "/          1  1  0  0  1  1\n",
       "(          1  1  1  1  1  1\n",
       ")          0  0  0  0  2  1\n",
       "#          0  0  0  0  0  2"
      ]
     },
     "execution_count": 2,
     "metadata": {},
     "output_type": "execute_result"
    }
   ],
   "source": [
    "# 定有运算符优先级表. 1表示优先级高\n",
    "#   横轴 : 当前运算符\n",
    "#   纵轴 : 栈顶运算符\n",
    "opt_prior = pd.DataFrame([[0,0,0,0,1,1],\n",
    "                          [0,0,0,0,1,1],\n",
    "                          [1,1,0,0,1,1],\n",
    "                          [1,1,0,0,1,1],\n",
    "                          [1,1,1,1,1,1],\n",
    "                          [0,0,0,0,2,1],\n",
    "                          [0,0,0,0,0,2]\n",
    "                          ],\n",
    "                         columns=['+','-','*','/','(','#'],\n",
    "                         index=  ['+','-','*','/','(',')','#'])\n",
    "opt_prior.index.name = 'current'\n",
    "opt_prior.columns.name = 'stack_top'\n",
    "opt_prior"
   ]
  },
  {
   "cell_type": "code",
   "execution_count": 3,
   "metadata": {},
   "outputs": [],
   "source": [
    "def read_num(stack):\n",
    "    '''从操作数缓存栈读取操作数'''\n",
    "    flag = True\n",
    "    if len(stack)==0:\n",
    "        flag = False\n",
    "    tmp = 0\n",
    "    for index,n in enumerate(range(len(stack)-1,-1,-1)): #从(n-1)到0的逆序\n",
    "        tmp = tmp + int(stack[index])*(10**n)\n",
    "    return flag,tmp"
   ]
  },
  {
   "cell_type": "code",
   "execution_count": 4,
   "metadata": {},
   "outputs": [],
   "source": [
    "def pop(stack):\n",
    "    '''弹栈'''\n",
    "    res = stack[-1]\n",
    "    stack = stack[:-1]\n",
    "    return res,stack\n",
    "def caculate(caculator,stack):\n",
    "    '''弹出栈顶2个字符'''\n",
    "    print('stack:',stack,'caculator:',caculator)\n",
    "    elem1 = stack[-2]\n",
    "    elem2 = stack[-1]\n",
    "    stack = stack[:-2]\n",
    "    if caculator=='+':\n",
    "        res = elem2 + elem1\n",
    "    if caculator=='-':\n",
    "        res = elem2-elem1\n",
    "    if caculator=='*':\n",
    "        res = elem2 * elem1\n",
    "    if caculator=='/':\n",
    "        res = elem2/elem1\n",
    "    stack.insert(0,res)\n",
    "    return stack"
   ]
  },
  {
   "cell_type": "code",
   "execution_count": 5,
   "metadata": {},
   "outputs": [],
   "source": [
    "def evaluate(expression):\n",
    "    # 表达式先补#, 便于匹配\n",
    "    expression = list(expression)\n",
    "    expression.append('#')\n",
    "    number_cache = []\n",
    "    numbers = []\n",
    "    operaters = ['#']\n",
    "    idx = 0 #指向表达式的当前字符\n",
    "    while len(operaters)!=0:\n",
    "        c = expression[idx] # 查看当前表达式的字符,idx在后面分情况是否后移\n",
    "        if c.isdigit(): # 数字\n",
    "            number_cache.append(c)\n",
    "            idx = idx+1\n",
    "        else: # 操作符\n",
    "            # 1.遇到操作符时, 先从操作数缓存栈中提取操作数\n",
    "            flag,number = read_num(number_cache)\n",
    "            if flag:\n",
    "                numbers.append(number)\n",
    "            number_cache = []\n",
    "            # 2.根据操作符选择进行的操作\n",
    "            stack_top = operaters[-1]\n",
    "            if opt_prior.loc[c,stack_top]==0: # 当前操作符优先级比栈顶优先级低, 则可计算栈顶操作\n",
    "                calculator,operaters = pop(operaters)\n",
    "                numbers = caculate(calculator,numbers) # 计算\n",
    "            if opt_prior.loc[c,stack_top]==1: # 当前操作符优先级更高\n",
    "                operaters.append(c)\n",
    "                idx = idx + 1\n",
    "            if opt_prior.loc[c,stack_top]==2:\n",
    "                # 有2种情况导致比较结果为2. 左右括号比较或者2个\\0比较\n",
    "                _,operaters = pop(operaters)\n",
    "                idx = idx+1\n",
    "    # 返回运算结果\n",
    "    return numbers[0]"
   ]
  },
  {
   "cell_type": "code",
   "execution_count": 6,
   "metadata": {},
   "outputs": [
    {
     "name": "stdout",
     "output_type": "stream",
     "text": [
      "stack: [3, 3] caculator: *\n",
      "stack: [9, 2] caculator: +\n",
      "stack: [11, 1, 2, 3] caculator: *\n",
      "stack: [6, 11, 1] caculator: +\n",
      "stack: [12, 6] caculator: +\n"
     ]
    },
    {
     "data": {
      "text/plain": [
       "18"
      ]
     },
     "execution_count": 6,
     "metadata": {},
     "output_type": "execute_result"
    }
   ],
   "source": [
    "s = '3*3+2+(1+2*3)'\n",
    "evaluate(s)"
   ]
  }
 ],
 "metadata": {
  "kernelspec": {
   "display_name": "Python 3",
   "language": "python",
   "name": "python3"
  },
  "language_info": {
   "codemirror_mode": {
    "name": "ipython",
    "version": 3
   },
   "file_extension": ".py",
   "mimetype": "text/x-python",
   "name": "python",
   "nbconvert_exporter": "python",
   "pygments_lexer": "ipython3",
   "version": "3.6.5"
  }
 },
 "nbformat": 4,
 "nbformat_minor": 1
}

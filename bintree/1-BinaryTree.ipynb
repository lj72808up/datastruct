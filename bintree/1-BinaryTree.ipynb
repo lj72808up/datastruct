{
 "cells": [
  {
   "cell_type": "markdown",
   "metadata": {},
   "source": [
    "#### 1. 二叉树节点类"
   ]
  },
  {
   "cell_type": "code",
   "execution_count": 86,
   "metadata": {},
   "outputs": [
    {
     "name": "stdout",
     "output_type": "stream",
     "text": [
      "False\n"
     ]
    }
   ],
   "source": [
    "# -*- coding: UTF-8 -*-\n",
    "class BinNode(object):\n",
    "    def __init__(self, data, parent=None, lc=None, rc=None, height=0,):\n",
    "        self.data = data\n",
    "        self.parent = parent\n",
    "        self.height = height\n",
    "        self.lc = lc\n",
    "        self.rc = rc\n",
    "\n",
    "    def __eq__(self, other):\n",
    "        return self.data == other.data\n",
    "\n",
    "    def __lt__(self, other):\n",
    "        return self.data < other.data\n",
    "    \n",
    "    def insert_aslchild(self,data):\n",
    "        new_node = BinNode(data,self)\n",
    "        self.lc = new_node\n",
    "        return new_node\n",
    "    \n",
    "    def insert_asrchild(self,data):\n",
    "        new_node = BinNode(data,self)\n",
    "        self.rc = new_node\n",
    "        return new_node\n",
    "\n",
    "\n",
    "if __name__ == \"__main__\":\n",
    "    n = BinNode(2)\n",
    "    k = BinNode(2)\n",
    "    m = n.insert_aslchild(3)\n",
    "    print m is n.rc\n",
    "    \n",
    "    \n",
    "    "
   ]
  },
  {
   "cell_type": "markdown",
   "metadata": {},
   "source": [
    "#### 2. 二叉树节点工具类\n",
    "将判断二叉节点状态,性质. 定位与之相关的叔叔,兄弟节点等逻辑封装"
   ]
  },
  {
   "cell_type": "code",
   "execution_count": 63,
   "metadata": {},
   "outputs": [],
   "source": [
    "class BinNodeUtil(object):\n",
    "    @staticmethod\n",
    "    def is_root(node):\n",
    "        return not node.parent\n",
    "    @staticmethod\n",
    "    def is_lchild(node):\n",
    "        return (not BinNodeUtil.is_root(node))&(node.parent.lc is node)\n",
    "    @staticmethod\n",
    "    def is_rchild(node):\n",
    "        return (not BinNodeUtil.is_root(node))&(node.parent.rc is node)\n",
    "    @staticmethod\n",
    "    def has_parent(node):\n",
    "        return not BinNodeUtil.is_root(node)\n",
    "    @staticmethod\n",
    "    def has_lchild(node):\n",
    "        return not node.lc is None\n",
    "    @staticmethod\n",
    "    def has_rchild(node):\n",
    "        return not node.rc is None\n",
    "    @staticmethod\n",
    "    def has_child(node):\n",
    "        return BinNodeUtil.has_lchild(node) or BinNodeUtil.has_rchild(node)\n",
    "    @staticmethod\n",
    "    def has_bothchild(node):\n",
    "        return BinNodeUtil.has_lchild(node) & BinNodeUtil.has_rchild(node)\n",
    "    @staticmethod\n",
    "    def is_leaf(node):\n",
    "        return not BinNodeUtil.has_child(node)\n",
    "    @staticmethod\n",
    "    def sibling(node):\n",
    "        try:\n",
    "            return  node.parent.rc if BinNodeUtil.is_lchild(node) else node.parent.lc\n",
    "        except  AttributeError:\n",
    "            return None\n",
    "    @staticmethod\n",
    "    def uncile(node):\n",
    "        try:\n",
    "            parent = node.parent\n",
    "            return parent.parent.rc if BinNodeUtil.is_lchild(parent) else parent.parent.lc\n",
    "        except  AttributeError:\n",
    "            return None"
   ]
  },
  {
   "cell_type": "markdown",
   "metadata": {},
   "source": [
    "#### 3. 二叉树类"
   ]
  },
  {
   "cell_type": "code",
   "execution_count": null,
   "metadata": {},
   "outputs": [],
   "source": []
  }
 ],
 "metadata": {
  "kernelspec": {
   "display_name": "Python 2",
   "language": "python",
   "name": "python2"
  },
  "language_info": {
   "codemirror_mode": {
    "name": "ipython",
    "version": 2
   },
   "file_extension": ".py",
   "mimetype": "text/x-python",
   "name": "python",
   "nbconvert_exporter": "python",
   "pygments_lexer": "ipython2",
   "version": "2.7.14"
  }
 },
 "nbformat": 4,
 "nbformat_minor": 2
}

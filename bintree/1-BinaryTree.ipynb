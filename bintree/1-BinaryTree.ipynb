{
 "cells": [
  {
   "cell_type": "markdown",
   "metadata": {},
   "source": [
    "#### 1. 二叉树节点类"
   ]
  },
  {
   "cell_type": "code",
   "execution_count": 1,
   "metadata": {},
   "outputs": [],
   "source": [
    "# -*- coding: UTF-8 -*-\n",
    "class BinNode(object):\n",
    "    def __init__(self, data, parent=None, lc=None, rc=None, height=0,):\n",
    "        self.data = data\n",
    "        self.parent = parent\n",
    "        self.height = height\n",
    "        self.lc = lc\n",
    "        self.rc = rc\n",
    "\n",
    "    def __eq__(self, other):\n",
    "        return self.data == other.data\n",
    "\n",
    "    def __lt__(self, other):\n",
    "        return self.data < other.data\n",
    "    \n",
    "    def insert_aslchild(self,data):\n",
    "        new_node = BinNode(data,self)\n",
    "        self.lc = new_node\n",
    "        return new_node\n",
    "    \n",
    "    def insert_asrchild(self,data):\n",
    "        new_node = BinNode(data,self)\n",
    "        self.rc = new_node\n",
    "        return new_node\n",
    "\n",
    "if __name__ == \"__main__\":\n",
    "    n = BinNode(2)\n",
    "    k = BinNode(2)"
   ]
  },
  {
   "cell_type": "markdown",
   "metadata": {},
   "source": [
    "#### 2. 二叉树节点工具类\n",
    "将判断二叉节点状态,性质. 定位与之相关的叔叔,兄弟节点等逻辑封装"
   ]
  },
  {
   "cell_type": "code",
   "execution_count": 2,
   "metadata": {},
   "outputs": [],
   "source": [
    "class BinNodeUtil(object):\n",
    "    @staticmethod\n",
    "    def is_root(node):\n",
    "        return not node.parent\n",
    "    @staticmethod\n",
    "    def is_lchild(node):\n",
    "        return (not BinNodeUtil.is_root(node))&(node.parent.lc is node)\n",
    "    @staticmethod\n",
    "    def is_rchild(node):\n",
    "        return (not BinNodeUtil.is_root(node))&(node.parent.rc is node)\n",
    "    @staticmethod\n",
    "    def has_parent(node):\n",
    "        return not BinNodeUtil.is_root(node)\n",
    "    @staticmethod\n",
    "    def has_lchild(node):\n",
    "        return not node.lc is None\n",
    "    @staticmethod\n",
    "    def has_rchild(node):\n",
    "        return not node.rc is None\n",
    "    @staticmethod\n",
    "    def has_child(node):\n",
    "        return BinNodeUtil.has_lchild(node) or BinNodeUtil.has_rchild(node)\n",
    "    @staticmethod\n",
    "    def has_bothchild(node):\n",
    "        return BinNodeUtil.has_lchild(node) & BinNodeUtil.has_rchild(node)\n",
    "    @staticmethod\n",
    "    def is_leaf(node):\n",
    "        return not BinNodeUtil.has_child(node)\n",
    "    @staticmethod\n",
    "    def sibling(node):\n",
    "        try:\n",
    "            return  node.parent.rc if BinNodeUtil.is_lchild(node) else node.parent.lc\n",
    "        except  AttributeError:\n",
    "            return None\n",
    "    @staticmethod\n",
    "    def uncile(node):\n",
    "        try:\n",
    "            parent = node.parent\n",
    "            return parent.parent.rc if BinNodeUtil.is_lchild(parent) else parent.parent.lc\n",
    "        except  AttributeError:\n",
    "            return None\n",
    "    @staticmethod\n",
    "    def from_parent_to(node,value=None):\n",
    "        '''来自父亲的引用'''\n",
    "        if (BinNodeUtil.is_lchild(node)):\n",
    "            node.parent.lc = None\n",
    "        if (BinNodeUtil.is_rchild(node)):\n",
    "            node.parent.rc = None\n",
    "    "
   ]
  },
  {
   "cell_type": "markdown",
   "metadata": {},
   "source": [
    "#### 3. 二叉树类\n",
    "1. 二叉树类包含二叉树的常用操作  \n",
    "  1. 更新树中, 每个节点的高度  \n",
    "    1. 二叉树任意节点的高度 = 其孩子节点的最大高度+1  `update_height`  \n",
    "    2. 一旦有节点插入或删除, 要更新其所有祖先的高度  `update_height_above`   \n",
    "  2. 插入结点到二叉树中, 3种方式  :  \n",
    "    1. 插入根节点`insert_root`    \n",
    "    2. 插入树中某个节点的左孩子`insert_as_lc`  \n",
    "    3. 插入树中某个节点的右孩子`insert_as_rc`\n",
    "  3. 子树接入  \n",
    "   任意二叉树, 都可以作为另一个二叉树的左子树/右子树插入`attach_as_lc`\n",
    "  4. 子树删除  \n",
    "   子树删除要删除该节点和节点的所有孩子节点, 并更新树的size和height\n"
   ]
  },
  {
   "cell_type": "code",
   "execution_count": 3,
   "metadata": {},
   "outputs": [],
   "source": [
    "class BinTree(object):\n",
    "    def __init__(self):\n",
    "        self.size = 0\n",
    "        self.root = None\n",
    "        \n",
    "    def empty(self):\n",
    "        return self.root is None\n",
    "    \n",
    "    def __eq__(self,other):\n",
    "        return (self.root is not None) and (other.root is not None) and (self.root is other.root)\n",
    "    \n",
    "    def stature(self,node):\n",
    "        return -1 if node is None else node.height\n",
    "    \n",
    "    def update_height(self,node):\n",
    "        node.height = 1 + max(self.stature(node.lc), self.stature(node.rc))\n",
    "        return node.height\n",
    "    \n",
    "    def update_height_above(self,node):\n",
    "        while node is not None:\n",
    "            self.update_height(node)\n",
    "            node = node.parent\n",
    "            \n",
    "    def insert_root(self,data):\n",
    "        self.size = 1\n",
    "        self.root = BinNode(data)\n",
    "        return self.root\n",
    "    \n",
    "    def insert_as_lc(self, node,data):\n",
    "        self.size = self.size + 1\n",
    "        lc = node.insert_aslchild(data)\n",
    "        self.update_height_above(node)\n",
    "        return lc\n",
    "    \n",
    "    def insert_as_rc(self, node , data):\n",
    "        self.size = self.size + 1\n",
    "        rc = node.insert_asrchild(data)\n",
    "        self.update_height_above(node)\n",
    "        return rc\n",
    "    \n",
    "    def attach_as_lc(self, node,other_tree):\n",
    "        '''node: 该二叉树中的节点\n",
    "           other_tree : 作为子树接入该二叉树. 接入点为node节点的左孩子'''\n",
    "        node.lc = other_tree.root\n",
    "        other_tree.root.parent = node\n",
    "        self.size = self.size + other_tree.size\n",
    "        self.update_height_above(node)\n",
    "        return node\n",
    "    \n",
    "    def attach_as_rc(self, node,other_tree):\n",
    "        '''node: 该二叉树中的节点\n",
    "           other_tree : 作为子树接入该二叉树. 接入点为node节点的右孩子'''\n",
    "        node.rc = other_tree.root\n",
    "        other_tree.root.parent = node\n",
    "        self.size = self.size + other_tree.size\n",
    "        self.update_height_above(node)\n",
    "        return node\n",
    "    \n",
    "    def remove(self,node):\n",
    "        '''删除该二叉树中节点node及其后代'''\n",
    "        n = self.removeAt(node)\n",
    "        \n",
    "        BinNodeUtil.from_parent_to(node,None)\n",
    "        self.update_height_above(node.parent)\n",
    "        self.size = self.size - n\n",
    "        return n\n",
    "        \n",
    "    def removeAt(self,node):\n",
    "        '''删除节点node及其后代'''\n",
    "        if node is None:\n",
    "            return 0\n",
    "        n = 1 + self.removeAt(node.lc) + self.removeAt(node.rc)\n",
    "        node = None \n",
    "        return n\n",
    "    "
   ]
  },
  {
   "cell_type": "markdown",
   "metadata": {},
   "source": [
    "#### 4. 二叉树工具类   \n",
    "2. 遍历 , 树形如下 : \n",
    "  <img src='img/bintreeinR.png' width='50%' height='50%'>\n",
    "   1. 递归版中序遍历`travIn_R` \n",
    "   2. 层次遍历 `travLevel`\n",
    "   3. 中序遍历下, 节点的直接后继 `succ`  \n",
    "    中序遍历下直接后继有两种情况  \n",
    "     1. 若当前节点有右孩子  \n",
    "      则其直接后继为右子树的最左节点. 因此, 可以从右孩子节点开始, 一直向左深入, 知道达到最左侧节点\n",
    "     2. 若当前节点无右孩子  \n",
    "      则其直接后继为将该节点作为左子树的最低祖先. 因此, 可以从该节点开始, 沿着右侧通路朝左上方不断上升, 知道不能前进时, 向右上方移动一步. 如下图所示 <img src='img/succ.png' width='30%' height='30%'>"
   ]
  },
  {
   "cell_type": "code",
   "execution_count": 4,
   "metadata": {},
   "outputs": [],
   "source": [
    "class  BinTreeUtility(object):\n",
    "    @staticmethod\n",
    "    def travIn_R(node , visit):\n",
    "        if node is None : \n",
    "            return \n",
    "        BinTreeUtility.travIn_R(node.lc , visit)\n",
    "        visit (node.data)\n",
    "        BinTreeUtility.travIn_R(node.rc , visit)\n",
    "        \n",
    "    @staticmethod\n",
    "    def travLevel(node,visit):\n",
    "        queue = [node]\n",
    "        while len(queue)>0 :\n",
    "            top_node = queue[0]  # 取队列第一个元素\n",
    "            queue = queue[1:]\n",
    "            visit (top_node.data)\n",
    "            if top_node.lc is not None : \n",
    "                queue.append(top_node.lc)\n",
    "            if top_node.rc is not None : \n",
    "                queue.append(top_node.rc)\n",
    "                \n",
    "    @staticmethod\n",
    "    def succ(node):\n",
    "        if node.rc is not None :\n",
    "            node_now = node.rc\n",
    "            while node_now.lc is not None:\n",
    "                node_now = node_now.lc\n",
    "        else : \n",
    "            node_now = node\n",
    "            while BinNodeUtil.is_rchild(node_now):  # 一直向左上方提升\n",
    "                node_now = node_now.parent \n",
    "            node_now = node_now.parent \n",
    "        return node_now\n",
    "            "
   ]
  },
  {
   "cell_type": "code",
   "execution_count": 5,
   "metadata": {},
   "outputs": [
    {
     "name": "stdout",
     "output_type": "stream",
     "text": [
      "层次遍历 ['i', 'd', 'l', 'c', 'h', 'k', 'n', 'a', 'f', 'j', 'm', 'p', 'b', 'e', 'g', 'o']\n",
      "中序遍历下, i 的直接后继:  j\n"
     ]
    }
   ],
   "source": [
    "## 测试二叉树工具类\n",
    "if __name__ == \"__main__\":\n",
    "    # 构建树\n",
    "    tree = BinTree()\n",
    "    i = tree.insert_root('i')\n",
    "    d =  tree.insert_as_lc(i,'d')\n",
    "    l =  tree.insert_as_rc(i,'l')\n",
    "    c = tree.insert_as_lc(d,'c')\n",
    "    h = tree.insert_as_rc(d,'h')\n",
    "    a = tree.insert_as_lc(c,'a')\n",
    "    b = tree.insert_as_rc(a,'b')\n",
    "    f = tree.insert_as_lc(h,'f')\n",
    "    e =tree.insert_as_lc(f,'e')\n",
    "    g = tree.insert_as_rc(f,'g')\n",
    "    k = tree.insert_as_lc(l,'k')\n",
    "    n = tree.insert_as_rc(l,'n')\n",
    "    j = tree.insert_as_lc(k,'j')\n",
    "    m = tree.insert_as_lc(n,'m')\n",
    "    p = tree.insert_as_rc(n,'p')\n",
    "    o = tree.insert_as_lc(p,'o')\n",
    "   \n",
    "    orders = []\n",
    "    def visit(x):\n",
    "        orders.append(x)\n",
    "    # 遍历树\n",
    "    BinTreeUtility.travLevel(tree.root,visit)\n",
    "    print '层次遍历', orders\n",
    "    print '中序遍历下, i 的直接后继: ', BinTreeUtility.succ(i).data"
   ]
  },
  {
   "cell_type": "markdown",
   "metadata": {},
   "source": [
    "#### 5. 二进制编码\n",
    "1. 什么是二进制编码  \n",
    " 将字符转变为01编码成为编码. 将所有字符都找到对应的01编码, 形成编码表. \n",
    " <img src='img/bianmabiao.png' height='70%' width='70%'>\n",
    "2. 何为解码  \n",
    " 相应的, 将01编码转变为字符的过程成为解码  \n",
    "3. 前缀无歧义编码 PFC  \n",
    "  1. 什么时候产生歧义  \n",
    "   假设字符A被编码成'11', M编码成'111', 则编码串'111111'产生歧义. 可译做\"AAA\"或\"MM\". 因为字符M的编码是字符A的编码的前缀  \n",
    "  2. 反过来, 只要各字符的编码互不为前缀, 就不会产生歧义. 前缀无歧义编码也称PFC编码\n",
    "4. PFC编码树  \n",
    " PFC编码要求前缀无歧义, 因此, 可采用树形结构. 从根节点出发, 每次向左/向右都对应一个0/1比特位, 从而形成编码树  \n",
    " 只要所有字符都处于编码树的叶子节点, 奇异现象自然消除\n",
    " <img src='img/pfcyzjd.png' height='50%' width='50%'>\n",
    "5. PFC解码  \n",
    "  1. 设对编码串${110}^{01}{111}^{111}{00}^{10}{01}$解码. 只要从前向后扫面编码串, 同时在编码树中相应移动, 从根节点出发, 按照各比特位取值选择向左或向右深入一层, 直到抵达叶子节点. 从而解码出一个字符. 然后重新回到根节点, 继续解码编码串的剩余部分  \n",
    "  2. 因为解码过程可以在接受编码串时实时进行, 因此PFC解码过程也称在线算法\n",
    "  \n"
   ]
  },
  {
   "cell_type": "markdown",
   "metadata": {},
   "source": [
    "#### 6. PFC编码解码编程实现\n",
    "1. 因为每个PFC编码树, 都是对一个字符集的全部字符进行了编码.所以, 若2个字符集${ \\Sigma  }_{ 1 }$与${ \\Sigma  }_{ 2 }$没有公共字符, 则这2个字符集对应2个不同的编码树$T_1$和$T_2$. 要想得到${ \\Sigma  }_{ 1 }\\bigcup { { \\Sigma  }_{ 2 } } $的编码树, 只要引入一个根节点, 然后合并$T_1$和$T_2$即可. \n",
    "2. PFC编码编程逻辑  \n",
    " 有了上述性质, 在字符集$\\Sigma$编码  \n",
    "  1. 首先把每个字符构造成单节点的二叉树, 形成大小为$\\left| \\Sigma  \\right| $的森林\n",
    "  2. 反复从上面构造的森林中去除两棵树, 将其合二为一 . 经过$\\left| \\Sigma  \\right|-1$次迭代后, 形成PFC编码树  \n",
    "  3. 将PFC编码树译为编码表\n",
    "3. PFC解码  \n",
    " 同第5点"
   ]
  },
  {
   "cell_type": "code",
   "execution_count": 25,
   "metadata": {},
   "outputs": [],
   "source": [
    "class PFCUtil(object):\n",
    "    \n",
    "    @classmethod\n",
    "    def __initPFCForest(self,character_set):\n",
    "        '''把字符集变成森林'''\n",
    "        pfc_forest = []\n",
    "        for character in character_set : \n",
    "            tree = BinTree()\n",
    "            tree.insert_root(character)\n",
    "            pfc_forest.append(tree)\n",
    "        return pfc_forest\n",
    "   \n",
    "\n",
    "    @classmethod\n",
    "    def pfc_tree(self,character_set):\n",
    "        '''构建编码树'''\n",
    "        pfc_forest = self.__initPFCForest(character_set)\n",
    "        \n",
    "        while len(pfc_forest)>1:\n",
    "            tree1 = pfc_forest[0]\n",
    "            tree2 = pfc_forest[1]\n",
    "            \n",
    "            merge_tree = BinTree()\n",
    "            merge_tree.insert_root('^')  # 合并后的树, 根节点为'^'\n",
    "            merge_tree.attach_as_lc(merge_tree.root,tree1)\n",
    "            merge_tree.attach_as_rc(merge_tree.root,tree2)\n",
    "            \n",
    "            pfc_forest.remove(tree1)\n",
    "            pfc_forest.remove(tree2)\n",
    "            pfc_forest.append(merge_tree)\n",
    "        code_tree = pfc_forest[0]\n",
    "        return code_tree\n",
    "    \n",
    "\n",
    "    @classmethod\n",
    "    def generate_code_table(self,pfc_tree):\n",
    "        '''按照编码树生辰美好'''\n",
    "        code_table = {}\n",
    "        def gen_code(node,code):\n",
    "            if (BinNodeUtil.is_leaf(node)):\n",
    "                code_table[node.data] = code\n",
    "                return \n",
    "            if BinNodeUtil.has_lchild(node):\n",
    "                gen_code(node.lc,code+'0') \n",
    "            if BinNodeUtil.has_rchild(node):\n",
    "                gen_code(node.rc,code+'1')\n",
    "        root = pfc_tree.root\n",
    "        gen_code(root,'')\n",
    "        return code_table\n",
    "        \n",
    "    @classmethod\n",
    "    def encode(self,sentence , pfc_tree):\n",
    "        '''对字符串加密, 按照密码表'''\n",
    "        code_table = self.generate_code_table(pfc_tree)\n",
    "        code = ''\n",
    "        for c in sentence : \n",
    "            code = code + code_table[c]\n",
    "        return code\n",
    "    \n",
    "    @classmethod\n",
    "    def decode(self,code,pfc_tree):\n",
    "        '''将pfc编码按照pfc编码树解码成字符串'''\n",
    "        node = pfc_tree.root\n",
    "        sentence = ''\n",
    "        while len(code)>0 :\n",
    "            if code[0]=='0':\n",
    "                node = node.lc\n",
    "                code = code[1:]\n",
    "            elif code[0] == '1':\n",
    "                node = node.rc\n",
    "                code = code[1:]\n",
    "                \n",
    "            if BinNodeUtil.is_leaf(node) : \n",
    "                # 已经是叶子节点时, 解码出一个字符. 下次循环再次从编码树根节点出发, 解析下一个字符\n",
    "                sentence = sentence+node.data\n",
    "                node = pfc_tree.root\n",
    "            \n",
    "        return sentence"
   ]
  },
  {
   "cell_type": "code",
   "execution_count": 26,
   "metadata": {},
   "outputs": [
    {
     "name": "stdout",
     "output_type": "stream",
     "text": [
      "10010010010101110001111101110010000101100011110\n"
     ]
    },
    {
     "data": {
      "text/plain": [
       "'i love you'"
      ]
     },
     "execution_count": 26,
     "metadata": {},
     "output_type": "execute_result"
    }
   ],
   "source": [
    "pfc_tree = PFCUtil.pfc_tree('abcdefghigklmnopqrstuvwxyz ')\n",
    "code = PFCUtil.encode('i love you',pfc_tree)\n",
    "print code\n",
    "PFCUtil.decode(code,pfc_tree)"
   ]
  },
  {
   "cell_type": "markdown",
   "metadata": {},
   "source": [
    "#### 7. 最优编码树\n",
    "1. 高效的编码算法, 生成的编码序列应该尽可能的短   \n",
    " 使用`平均编码长度`度量编码质量. `平均编码长度`为所有字符编码长度的平均值. 该平均值越小越好  \n",
    "2. 最优编码树  \n",
    " 因为字符的编码长度 = 该字符叶子节点的深度, 所以`平均编码长度`最小的编码树, 就是`最优编码树`"
   ]
  },
  {
   "cell_type": "code",
   "execution_count": null,
   "metadata": {},
   "outputs": [],
   "source": []
  },
  {
   "cell_type": "code",
   "execution_count": null,
   "metadata": {},
   "outputs": [],
   "source": []
  },
  {
   "cell_type": "code",
   "execution_count": null,
   "metadata": {},
   "outputs": [],
   "source": []
  },
  {
   "cell_type": "code",
   "execution_count": null,
   "metadata": {},
   "outputs": [],
   "source": []
  },
  {
   "cell_type": "code",
   "execution_count": null,
   "metadata": {},
   "outputs": [],
   "source": []
  },
  {
   "cell_type": "code",
   "execution_count": null,
   "metadata": {
    "collapsed": true
   },
   "outputs": [],
   "source": []
  },
  {
   "cell_type": "code",
   "execution_count": null,
   "metadata": {
    "collapsed": true
   },
   "outputs": [],
   "source": []
  },
  {
   "cell_type": "code",
   "execution_count": null,
   "metadata": {
    "collapsed": true
   },
   "outputs": [],
   "source": []
  },
  {
   "cell_type": "code",
   "execution_count": null,
   "metadata": {
    "collapsed": true
   },
   "outputs": [],
   "source": []
  },
  {
   "cell_type": "code",
   "execution_count": null,
   "metadata": {
    "collapsed": true
   },
   "outputs": [],
   "source": []
  },
  {
   "cell_type": "code",
   "execution_count": null,
   "metadata": {
    "collapsed": true
   },
   "outputs": [],
   "source": []
  },
  {
   "cell_type": "code",
   "execution_count": null,
   "metadata": {
    "collapsed": true
   },
   "outputs": [],
   "source": []
  },
  {
   "cell_type": "code",
   "execution_count": null,
   "metadata": {
    "collapsed": true
   },
   "outputs": [],
   "source": []
  }
 ],
 "metadata": {
  "kernelspec": {
   "display_name": "Python 2",
   "language": "python",
   "name": "python2"
  },
  "language_info": {
   "codemirror_mode": {
    "name": "ipython",
    "version": 2
   },
   "file_extension": ".py",
   "mimetype": "text/x-python",
   "name": "python",
   "nbconvert_exporter": "python",
   "pygments_lexer": "ipython2",
   "version": "2.7.14"
  }
 },
 "nbformat": 4,
 "nbformat_minor": 2
}

{
 "cells": [
  {
   "cell_type": "markdown",
   "metadata": {},
   "source": [
    "#### 1. 二叉树节点类"
   ]
  },
  {
   "cell_type": "code",
   "execution_count": 40,
   "metadata": {},
   "outputs": [],
   "source": [
    "# -*- coding: UTF-8 -*-\n",
    "class BinNode(object):\n",
    "    def __init__(self, data, parent=None, lc=None, rc=None, height=0,):\n",
    "        self.data = data\n",
    "        self.parent = parent\n",
    "        self.height = height\n",
    "        self.lc = lc\n",
    "        self.rc = rc\n",
    "\n",
    "    def __eq__(self, other):\n",
    "        return self.data == other.data\n",
    "\n",
    "    def __lt__(self, other):\n",
    "        return self.data < other.data\n",
    "    \n",
    "    def insert_aslchild(self,data):\n",
    "        new_node = BinNode(data,self)\n",
    "        self.lc = new_node\n",
    "        return new_node\n",
    "    \n",
    "    def insert_asrchild(self,data):\n",
    "        new_node = BinNode(data,self)\n",
    "        self.rc = new_node\n",
    "        return new_node\n",
    "\n",
    "if __name__ == \"__main__\":\n",
    "    n = BinNode(2)\n",
    "    k = BinNode(2)"
   ]
  },
  {
   "cell_type": "markdown",
   "metadata": {},
   "source": [
    "#### 2. 二叉树节点工具类\n",
    "将判断二叉节点状态,性质. 定位与之相关的叔叔,兄弟节点等逻辑封装"
   ]
  },
  {
   "cell_type": "code",
   "execution_count": 60,
   "metadata": {},
   "outputs": [],
   "source": [
    "class BinNodeUtil(object):\n",
    "    @staticmethod\n",
    "    def is_root(node):\n",
    "        return not node.parent\n",
    "    @staticmethod\n",
    "    def is_lchild(node):\n",
    "        return (not BinNodeUtil.is_root(node))&(node.parent.lc is node)\n",
    "    @staticmethod\n",
    "    def is_rchild(node):\n",
    "        return (not BinNodeUtil.is_root(node))&(node.parent.rc is node)\n",
    "    @staticmethod\n",
    "    def has_parent(node):\n",
    "        return not BinNodeUtil.is_root(node)\n",
    "    @staticmethod\n",
    "    def has_lchild(node):\n",
    "        return not node.lc is None\n",
    "    @staticmethod\n",
    "    def has_rchild(node):\n",
    "        return not node.rc is None\n",
    "    @staticmethod\n",
    "    def has_child(node):\n",
    "        return BinNodeUtil.has_lchild(node) or BinNodeUtil.has_rchild(node)\n",
    "    @staticmethod\n",
    "    def has_bothchild(node):\n",
    "        return BinNodeUtil.has_lchild(node) & BinNodeUtil.has_rchild(node)\n",
    "    @staticmethod\n",
    "    def is_leaf(node):\n",
    "        return not BinNodeUtil.has_child(node)\n",
    "    @staticmethod\n",
    "    def sibling(node):\n",
    "        try:\n",
    "            return  node.parent.rc if BinNodeUtil.is_lchild(node) else node.parent.lc\n",
    "        except  AttributeError:\n",
    "            return None\n",
    "    @staticmethod\n",
    "    def uncile(node):\n",
    "        try:\n",
    "            parent = node.parent\n",
    "            return parent.parent.rc if BinNodeUtil.is_lchild(parent) else parent.parent.lc\n",
    "        except  AttributeError:\n",
    "            return None\n",
    "    @staticmethod\n",
    "    def from_parent_to(node,value=None):\n",
    "        '''来自父亲的引用'''\n",
    "        if (BinNodeUtil.is_lchild(node)):\n",
    "            node.parent.lc = None\n",
    "        if (BinNodeUtil.is_rchild(node)):\n",
    "            node.parent.rc = None\n",
    "    "
   ]
  },
  {
   "cell_type": "markdown",
   "metadata": {},
   "source": [
    "#### 3. 二叉树类\n",
    "1. 二叉树类包含二叉树的常用操作  \n",
    "  1. 更新树中, 每个节点的高度  \n",
    "    1. 二叉树任意节点的高度 = 其孩子节点的最大高度+1  `update_height`  \n",
    "    2. 一旦有节点插入或删除, 要更新其所有祖先的高度  `update_height_above`   \n",
    "  2. 插入结点到二叉树中, 3种方式  :  \n",
    "    1. 插入根节点`insert_root`    \n",
    "    2. 插入树中某个节点的左孩子`insert_as_lc`  \n",
    "    3. 插入树中某个节点的右孩子`insert_as_rc`\n",
    "  3. 子树接入  \n",
    "   任意二叉树, 都可以作为另一个二叉树的左子树/右子树插入`attach_as_lc`\n",
    "  4. 子树删除  \n",
    "   子树删除要删除该节点和节点的所有孩子节点, 并更新树的size和height\n"
   ]
  },
  {
   "cell_type": "code",
   "execution_count": 61,
   "metadata": {},
   "outputs": [],
   "source": [
    "class BinTree(object):\n",
    "    def __init__(self):\n",
    "        self.size = 0\n",
    "        self.root = None\n",
    "        \n",
    "    def empty(self):\n",
    "        return self.root is None\n",
    "    \n",
    "    def __eq__(self,other):\n",
    "        return (self.root is not None) and (other.root is not None) and (self.root is other.root)\n",
    "    \n",
    "    def stature(self,node):\n",
    "        return -1 if node is None else node.height\n",
    "    \n",
    "    def update_height(self,node):\n",
    "        node.height = 1 + max(self.stature(node.lc), self.stature(node.rc))\n",
    "        return node.height\n",
    "    \n",
    "    def update_height_above(self,node):\n",
    "        while node is not None:\n",
    "            self.update_height(node)\n",
    "            node = node.parent\n",
    "            \n",
    "    def insert_root(self,data):\n",
    "        self.size = 1\n",
    "        self.root = BinNode(data)\n",
    "        return self.root\n",
    "    \n",
    "    def insert_as_lc(self, node,data):\n",
    "        self.size = self.size + 1\n",
    "        lc = node.insert_aslchild(data)\n",
    "        self.update_height_above(node)\n",
    "        return lc\n",
    "    \n",
    "    def insert_as_rc(self, node , data):\n",
    "        self.size = self.size + 1\n",
    "        rc = node.insert_asrchild(data)\n",
    "        self.update_height_above(node)\n",
    "        return rc\n",
    "    \n",
    "    def attach_as_lc(self, node,other_tree):\n",
    "        '''node: 该二叉树中的节点\n",
    "           other_tree : 作为子树接入该二叉树. 接入点为node节点的左孩子'''\n",
    "        node.lc = other_tree.root\n",
    "        other_tree.root.parent = node\n",
    "        self.size = self.size + other_tree.size\n",
    "        self.update_height_above(node)\n",
    "        return node\n",
    "    \n",
    "    def attach_as_rc(self, node,other_tree):\n",
    "        '''node: 该二叉树中的节点\n",
    "           other_tree : 作为子树接入该二叉树. 接入点为node节点的右孩子'''\n",
    "        node.rc = other_tree.root\n",
    "        other_tree.root.parent = node\n",
    "        self.size = self.size + other_tree.size\n",
    "        self.update_height_above(node)\n",
    "        return node\n",
    "    \n",
    "    def remove(self,node):\n",
    "        '''删除该二叉树中节点node及其后代'''\n",
    "        n = self.removeAt(node)\n",
    "        \n",
    "        BinNodeUtil.from_parent_to(node,None)\n",
    "        self.update_height_above(node.parent)\n",
    "        self.size = self.size - n\n",
    "        return n\n",
    "        \n",
    "    def removeAt(self,node):\n",
    "        '''删除节点node及其后代'''\n",
    "        if node is None:\n",
    "            return 0\n",
    "        n = 1 + self.removeAt(node.lc) + self.removeAt(node.rc)\n",
    "        node = None \n",
    "        return n\n",
    "    "
   ]
  },
  {
   "cell_type": "markdown",
   "metadata": {},
   "source": [
    "#### 4. 二叉树工具类   \n",
    "2. 遍历 , 树形如下 : \n",
    "  <img src='img/bintreeinR.png' width='50%' height='50%'>\n",
    "   1. 递归版中序遍历`travIn_R` "
   ]
  },
  {
   "cell_type": "code",
   "execution_count": 70,
   "metadata": {},
   "outputs": [],
   "source": [
    "class  BinTreeUtility(object):\n",
    "    @staticmethod\n",
    "    def travIn_R(node , visit):\n",
    "        if node is None : \n",
    "            return \n",
    "        BinTreeUtility.travIn_R(node.lc , visit)\n",
    "        visit (node.data)\n",
    "        BinTreeUtility.travIn_R(node.rc , visit)"
   ]
  },
  {
   "cell_type": "code",
   "execution_count": 76,
   "metadata": {},
   "outputs": [
    {
     "name": "stdout",
     "output_type": "stream",
     "text": [
      "['a', 'b', 'c', 'd', 'e', 'f', 'g', 'h', 'i', 'j', 'k', 'l', 'm', 'n', 'o', 'p']\n"
     ]
    }
   ],
   "source": [
    "if __name__ == \"__main__\":\n",
    "    # 构建树\n",
    "    tree = BinTree()\n",
    "    i = tree.insert_root('i')\n",
    "    d =  tree.insert_as_lc(i,'d')\n",
    "    l =  tree.insert_as_rc(i,'l')\n",
    "    c = tree.insert_as_lc(d,'c')\n",
    "    h = tree.insert_as_rc(d,'h')\n",
    "    a = tree.insert_as_lc(c,'a')\n",
    "    b = tree.insert_as_rc(a,'b')\n",
    "    f = tree.insert_as_lc(h,'f')\n",
    "    e =tree.insert_as_lc(f,'e')\n",
    "    g = tree.insert_as_rc(f,'g')\n",
    "    k = tree.insert_as_lc(l,'k')\n",
    "    n = tree.insert_as_rc(l,'n')\n",
    "    j = tree.insert_as_lc(k,'j')\n",
    "    m = tree.insert_as_lc(n,'m')\n",
    "    p = tree.insert_as_rc(n,'p')\n",
    "    o = tree.insert_as_lc(p,'o')\n",
    "   \n",
    "    orders = []\n",
    "    def visit(x):\n",
    "        orders.append(x)\n",
    "    # 遍历树\n",
    "    BinTreeUtility.travIn_R(tree.root,visit)\n",
    "    print orders"
   ]
  },
  {
   "cell_type": "code",
   "execution_count": null,
   "metadata": {},
   "outputs": [],
   "source": []
  },
  {
   "cell_type": "code",
   "execution_count": null,
   "metadata": {},
   "outputs": [],
   "source": []
  },
  {
   "cell_type": "code",
   "execution_count": null,
   "metadata": {},
   "outputs": [],
   "source": []
  },
  {
   "cell_type": "code",
   "execution_count": null,
   "metadata": {},
   "outputs": [],
   "source": []
  },
  {
   "cell_type": "code",
   "execution_count": null,
   "metadata": {},
   "outputs": [],
   "source": []
  },
  {
   "cell_type": "code",
   "execution_count": null,
   "metadata": {},
   "outputs": [],
   "source": []
  },
  {
   "cell_type": "code",
   "execution_count": null,
   "metadata": {},
   "outputs": [],
   "source": []
  },
  {
   "cell_type": "code",
   "execution_count": null,
   "metadata": {},
   "outputs": [],
   "source": []
  },
  {
   "cell_type": "code",
   "execution_count": null,
   "metadata": {},
   "outputs": [],
   "source": []
  },
  {
   "cell_type": "code",
   "execution_count": null,
   "metadata": {},
   "outputs": [],
   "source": []
  }
 ],
 "metadata": {
  "kernelspec": {
   "display_name": "Python 2",
   "language": "python",
   "name": "python2"
  },
  "language_info": {
   "codemirror_mode": {
    "name": "ipython",
    "version": 2
   },
   "file_extension": ".py",
   "mimetype": "text/x-python",
   "name": "python",
   "nbconvert_exporter": "python",
   "pygments_lexer": "ipython2",
   "version": "2.7.14"
  }
 },
 "nbformat": 4,
 "nbformat_minor": 2
}

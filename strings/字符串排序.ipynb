{
 "cells": [
  {
   "cell_type": "markdown",
   "metadata": {},
   "source": [
    "#### LSD string sort  \n",
    "right to left"
   ]
  },
  {
   "cell_type": "code",
   "execution_count": 33,
   "metadata": {},
   "outputs": [],
   "source": [
    "import numpy as np\n",
    "def lsd_sort(strs,W):\n",
    "    '''strs: 字符串数组,待排序\n",
    "       W: 每个字符串的长度'''\n",
    "    R = 256  # 每个字符有256中可能\n",
    "    for w in range(W-1,-1,-1):\n",
    "        count = [0 for i in range(0,R+1)] # 预留一个起始位置,方便后面的counts to indices\n",
    "        aux = [\"\" for i in range(0,len(strs))] # 辅助数组\n",
    "        for _str in strs:     # count\n",
    "            idx = ord(_str[w])\n",
    "            count[idx] = count[idx]+1\n",
    "        for i in range(0,R): # transform count to indices\n",
    "            count[i+1] = count[i]+count[i+1]\n",
    "        for _str in strs:\n",
    "            idx = ord(_str[w])\n",
    "            aux[count[idx-1]] = _str\n",
    "            count[idx-1] = count[idx-1]+1\n",
    "        for i in range(0,len(strs)):\n",
    "            strs[i] = aux[i]"
   ]
  },
  {
   "cell_type": "code",
   "execution_count": 34,
   "metadata": {
    "scrolled": true
   },
   "outputs": [
    {
     "name": "stdout",
     "output_type": "stream",
     "text": [
      "['abc', 'acb', 'bca', 'caa', 'cba']\n"
     ]
    }
   ],
   "source": [
    "strs = ['abc','acb','bca','caa','cba']\n",
    "lsd_sort(strs,3)\n",
    "print(strs)"
   ]
  },
  {
   "cell_type": "markdown",
   "metadata": {},
   "source": [
    "#### MSD string sort \n",
    "recursive left to right"
   ]
  },
  {
   "cell_type": "code",
   "execution_count": null,
   "metadata": {},
   "outputs": [],
   "source": []
  }
 ],
 "metadata": {
  "kernelspec": {
   "display_name": "Python 3",
   "language": "python",
   "name": "python3"
  },
  "language_info": {
   "codemirror_mode": {
    "name": "ipython",
    "version": 3
   },
   "file_extension": ".py",
   "mimetype": "text/x-python",
   "name": "python",
   "nbconvert_exporter": "python",
   "pygments_lexer": "ipython3",
   "version": "3.6.5"
  }
 },
 "nbformat": 4,
 "nbformat_minor": 2
}

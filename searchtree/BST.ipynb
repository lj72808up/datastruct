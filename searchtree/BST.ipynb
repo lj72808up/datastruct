{
 "cells": [
  {
   "cell_type": "markdown",
   "metadata": {
    "collapsed": true
   },
   "source": [
    "### 1.1 二叉搜索树模板\n",
    "\n",
    "#### 一. 二叉搜索树的性质\n",
    "1. 二叉搜索树处处满足顺序性 :   \n",
    "  任一节点$r$的左(右)子树中, 所有节点(若存在)均不大于(不小于)$r$ \n",
    "2. 若按照\"左子树<父节点<右子树\"的顺序组织节点, 则该二叉搜索树的中序遍历序列单调非降\n",
    "\n",
    "#### 二. 二叉搜索树结构\n",
    "1. 二叉搜索树BST继承自前文介绍的二叉树类  \n",
    " [二叉树类](http://nbviewer.jupyter.org/github/lj72808up/datastruct/blob/master/bintree/1-BinaryTree.ipynb)"
   ]
  },
  {
   "cell_type": "code",
   "execution_count": null,
   "metadata": {
    "collapsed": true
   },
   "outputs": [],
   "source": [
    "# -*- coding: UTF-8 -*-\n",
    "from bintree import BinNode,BinTree\n",
    "\n",
    "class BST(BinTree):\n",
    "    def search(node,data):\n",
    "        '''从节点node开始查找关键码为data的节点'''\n",
    "        if (v is None) or (data==node.data):\n",
    "            return v\n",
    "        # 记录下当前节点, 然后再递归查找\n",
    "        self.hot = v\n",
    "        next_node = node.lc if data<node.data else node.rc\n",
    "        return self.search(next_node,data,hot)\n",
    "    def search_from_bst(data):\n",
    "        '''从BST中查找关键码为data的节点'''\n",
    "        self.hot = None   # hot记录cha'zha\n",
    "        self.search_from_bst(self.root,data)"
   ]
  },
  {
   "cell_type": "code",
   "execution_count": 3,
   "metadata": {},
   "outputs": [],
   "source": []
  },
  {
   "cell_type": "code",
   "execution_count": null,
   "metadata": {
    "collapsed": true
   },
   "outputs": [],
   "source": []
  }
 ],
 "metadata": {
  "kernelspec": {
   "display_name": "Python 2",
   "language": "python",
   "name": "python2"
  },
  "language_info": {
   "codemirror_mode": {
    "name": "ipython",
    "version": 2
   },
   "file_extension": ".py",
   "mimetype": "text/x-python",
   "name": "python",
   "nbconvert_exporter": "python",
   "pygments_lexer": "ipython2",
   "version": "2.7.14"
  }
 },
 "nbformat": 4,
 "nbformat_minor": 2
}

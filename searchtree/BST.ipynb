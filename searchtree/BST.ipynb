{
 "cells": [
  {
   "cell_type": "markdown",
   "metadata": {
    "collapsed": true
   },
   "source": [
    "### 1.1 二叉搜索树模板\n",
    "\n",
    "#### 一. 二叉搜索树的结构\n",
    "1. 二叉搜索树处处满足顺序性 :   \n",
    "  任一节点$r$的左(右)子树中, 所有节点(若存在)均不大于(不小于)$r$ \n",
    "2. 若按照\"左子树<父节点<右子树\"的顺序组织节点, 则该二叉搜索树的中序遍历序列单调非降  \n",
    "3. 1. 二叉搜索树BST继承自前文介绍的二叉树类  \n",
    " [二叉树类](http://nbviewer.jupyter.org/github/lj72808up/datastruct/blob/master/bintree/1-BinaryTree.ipynb)\n",
    "\n",
    "#### 二. BST关键码查找\n",
    "1. BST查找  \n",
    "  1. 从根节点开始, 按照关键码比较结果决定递归查找左子树或右子树  \n",
    "  2. BST类的属性hot, 记录查找节点的父节点(该位置可作为后面插入节点到BST的接入位置)   \n",
    "  3. BST查找, 一般将叶子节点的None孩子节点也看做\"真实节点\",便于递归  \n",
    "2. 查找效率  \n",
    " BST的每一层, 算法至多访问1个节点, 只需常数时间. 然而不幸的是, 规模为n的BST, 其深度可能为n. 此时退化成一个有序列表, 此时的查找等效于顺序查找, 因此提高BST的搜索效率, 关键在于减小树的高度\n",
    " \n",
    "#### 三. BST节点插入\n",
    "1. 插入步骤  \n",
    "  1. 首先, 利用BST查找算法, 找到插入位置及方向, 然后将新节点作为叶子节点插入  \n",
    "  2. 从节点hot开始, 更新其父节点的高度  \n",
    "  \n",
    "#### 四. BST节点删除\n",
    "节点删除的情况比较复杂, 需要分情况讨论待删除节点的状态, 找到能够替换掉该节点的节点  \n",
    "1. 待删除节点只有单分支  \n",
    " 当待删除节点只有单分支, 将该待删除节点替换为该节点的孩子节点即可  \n",
    "2. 待删除节点有双分支  \n",
    " 当待删除节点有双分支, 为保证BST的顺序定义(左孩子<节点<右孩子), 该节点的data属性应被替换为其右子树的最左节点的data, 因为右子树的最左节点必无左孩子, 所以删除该最左节点的情形同只有一个分支的情况"
   ]
  },
  {
   "cell_type": "code",
   "execution_count": 1,
   "metadata": {},
   "outputs": [],
   "source": [
    "# -*- coding: UTF-8 -*-\n",
    "from bintree import BinNode,BinTree,BinNodeUtil,BinTreeUtility\n",
    "\n",
    "class BST(BinTree):\n",
    "    def search(self,node,data,flag):\n",
    "        '''从节点node开始查找关键码为data的节点'''\n",
    "        if (node is None):  # 查找失败返回待查找节点出与左子树(-1)还是右子树(1)\n",
    "            return (False,flag)\n",
    "        if data==node.data: # 查找成功返回找到的节点\n",
    "            return (True,node)\n",
    "        # 记录下当前节点, 然后再递归查找\n",
    "        self.hot = v\n",
    "        if data<node.data:\n",
    "            next_node = node.lc \n",
    "            flag = -1 # -1: 表示下次遍历在左子树\n",
    "        else:\n",
    "            next_node = node.rc\n",
    "            flag = 1  # 1:表示下次遍历在右子树\n",
    "        return self.search(next_node,data,flag)\n",
    "    def search_from_bst(data):\n",
    "        '''从BST中查找关键码为data的节点'''\n",
    "        self.hot = None   # hot记录cha'zha\n",
    "        return self.search_from_bst(self.root,data)\n",
    "    \n",
    "    def insert(self,data):\n",
    "        flag,x = self.search_from_bst(data)\n",
    "        if flag:\n",
    "            return x\n",
    "        else:\n",
    "            new_node = BinNode(data,parent=self.hot)\n",
    "            self.size = self.size + 1\n",
    "            self.update_height_above(hot)\n",
    "            if x == -1:\n",
    "                self.hot.lc = new_node\n",
    "            if x == 1:\n",
    "                self.hot.rc = new_node\n",
    "        return new_node\n",
    "    \n",
    "    def removeAt(self,node):\n",
    "        '''删除节点:\n",
    "           succ : 返回值,为实际被删除节点的接替者\n",
    "           self.hot : 实际被删除节点的parent. \n",
    "                      单分支下hot为被删除节点的父节点\n",
    "                      双分支下hot为右子树最左节点的parent \n",
    "        '''\n",
    "        # 1. 判断分支个数\n",
    "        if (node.lc is not None) and (node.rc is not None):\n",
    "            branch_num = 2\n",
    "        elif (node.lc is None) and (node.rc is None):\n",
    "            branch_num = 0\n",
    "        else:\n",
    "            branch_num = 1\n",
    "            \n",
    "        # 2. 单分支的情况\n",
    "        if branch_num == 1:\n",
    "            succ = node.rc if not BinNodeUtil.has_lchild(node) else node.lc\n",
    "            succ.parent = node.parent\n",
    "            if (node.parent is not None) and (BinNodeUtil.is_lchild(node)):\n",
    "                node.parent.lc = succ\n",
    "            if (node.parent is not None) and (BinNodeUtil.is_rchild(node)):  \n",
    "                node.parent.rc = succ\n",
    "            if node.parent is None:\n",
    "                self.root = succ\n",
    "\n",
    "            self.hot = node.parent\n",
    "\n",
    "        # 3. 双分支的情况\n",
    "        if branch_num == 2: # 双分枝情况\n",
    "            w = BinTreeUtility.succ(node) # 右子树最左节点\n",
    "            # 交换节点data属性\n",
    "            data = node.data\n",
    "            w.data = node.data\n",
    "            node.data = tmp\n",
    "            # 接上右子树最左节点的parent和右子树最左节点的右子树\n",
    "            u = w.parent\n",
    "            if u is node:\n",
    "                u.rc = w.rc\n",
    "                succ = w.rc \n",
    "            else:\n",
    "                u.lc = w.rc\n",
    "                succ = w.rc\n",
    "            self.hot = succ.parent\n",
    "            \n",
    "        # 4. 没有分支的情况"
   ]
  },
  {
   "cell_type": "code",
   "execution_count": 3,
   "metadata": {},
   "outputs": [],
   "source": []
  },
  {
   "cell_type": "code",
   "execution_count": null,
   "metadata": {},
   "outputs": [],
   "source": []
  },
  {
   "cell_type": "code",
   "execution_count": null,
   "metadata": {},
   "outputs": [],
   "source": []
  },
  {
   "cell_type": "code",
   "execution_count": null,
   "metadata": {},
   "outputs": [],
   "source": []
  },
  {
   "cell_type": "code",
   "execution_count": null,
   "metadata": {},
   "outputs": [],
   "source": []
  },
  {
   "cell_type": "code",
   "execution_count": null,
   "metadata": {},
   "outputs": [],
   "source": []
  },
  {
   "cell_type": "code",
   "execution_count": null,
   "metadata": {},
   "outputs": [],
   "source": []
  },
  {
   "cell_type": "code",
   "execution_count": null,
   "metadata": {},
   "outputs": [],
   "source": []
  },
  {
   "cell_type": "code",
   "execution_count": null,
   "metadata": {},
   "outputs": [],
   "source": []
  },
  {
   "cell_type": "code",
   "execution_count": null,
   "metadata": {},
   "outputs": [],
   "source": []
  },
  {
   "cell_type": "code",
   "execution_count": null,
   "metadata": {},
   "outputs": [],
   "source": []
  },
  {
   "cell_type": "code",
   "execution_count": null,
   "metadata": {},
   "outputs": [],
   "source": []
  },
  {
   "cell_type": "code",
   "execution_count": null,
   "metadata": {},
   "outputs": [],
   "source": []
  },
  {
   "cell_type": "code",
   "execution_count": null,
   "metadata": {},
   "outputs": [],
   "source": []
  },
  {
   "cell_type": "code",
   "execution_count": null,
   "metadata": {},
   "outputs": [],
   "source": []
  },
  {
   "cell_type": "code",
   "execution_count": null,
   "metadata": {},
   "outputs": [],
   "source": []
  }
 ],
 "metadata": {
  "kernelspec": {
   "display_name": "Python 3",
   "language": "python",
   "name": "python3"
  },
  "language_info": {
   "codemirror_mode": {
    "name": "ipython",
    "version": 3
   },
   "file_extension": ".py",
   "mimetype": "text/x-python",
   "name": "python",
   "nbconvert_exporter": "python",
   "pygments_lexer": "ipython3",
   "version": "3.6.5"
  }
 },
 "nbformat": 4,
 "nbformat_minor": 2
}

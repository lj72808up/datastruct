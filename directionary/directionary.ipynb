{
 "cells": [
  {
   "cell_type": "markdown",
   "metadata": {},
   "source": [
    "#### 一. 何为词典\n",
    "1. 词典是一个集合, 其中个元素由\"关键码\"和\"数据\"组成\n",
    "2. 逻辑上讲, 词典元素中的关键码可以是相同的, 且无大小关系. 但数据结构中的'词典', 其关键码往往有次序关系  \n",
    " 例如: `java.util.TreeMap`是基于红黑树实现的词典结构, 这类实现方法, 都预示着\"关键码可以比大小\". 故其并非严格意义的词典\n"
   ]
  },
  {
   "cell_type": "markdown",
   "metadata": {},
   "source": [
    "### 1.1 跳转表\n",
    "\n",
    "#### 一. 跳转表的定义  \n",
    "1. 调准表是一种高效的词典结构, 其查询和维护的平均时间复杂度仅需要$O(logn)$\n",
    "2. 跳转表的宏观结构为 : 内部由横向分层, 纵向层对一个元素之间存在引用的多个顺序表结构. 如下图所示  \n",
    "    1. 其中最底层为$S_0$层, 顶层为$S_n$层  \n",
    "    2. 同层节点之间按照`次序`形成前驱后继关系. 每层顺序表, 为简化操作, 都定义有头哨兵, 尾哨兵   \n",
    "    3. 不同层次的节点按纵向组成塔(tower), 同一塔内的节点以高度为序, 也可以定义前驱后继关系  \n",
    "    4. 高层的顺序表总是底层顺序表的子集. 特别的$S_0$层包括全部词条, 而$S_0$层除了包含头尾节点外不包含任何实际词条.    \n",
    "    \n",
    "<img src='img/skiplist.png' heihgt='65%' width='65%'>\n",
    "   \n",
    "#### 二. 四联表定义  \n",
    " 1. 按照上述定义, 跳转表的每层的内部节点, 在水平和垂直方向上都有定义. 是4个方向的引用. 所以将支持这种连接方式的顺序表称为四联表  \n",
    "  即: 跳转表的每层都是一个四联表  \n",
    " 2. 如下, 我们开始定义四联表节点, 四联表, 跳转表"
   ]
  },
  {
   "cell_type": "code",
   "execution_count": 1,
   "metadata": {},
   "outputs": [],
   "source": [
    "# from sequencelist import List,ListNode\n",
    "\n",
    "class QuadlistNode(object):\n",
    "    '''四联表节点'''\n",
    "    def __init__(self,entry,pred,succ,above,below):\n",
    "        self.entry = entry\n",
    "        self.pred = pred\n",
    "        self.succ = succ\n",
    "        self.above = above\n",
    "        self.below = below\n",
    "        "
   ]
  },
  {
   "cell_type": "code",
   "execution_count": 2,
   "metadata": {},
   "outputs": [],
   "source": [
    "class QuadList(object):\n",
    "    def __init__(self):\n",
    "        '''四联表'''\n",
    "        self.header = QuadlistNode()  #头哨兵,尾哨兵\n",
    "        self.trailer = QuadlistNode()   \n",
    "        #横向连接哨兵\n",
    "        self.header.succ = self.trailer  \n",
    "        self.header.pred = None\n",
    "        self.trailer.pred = self.header\n",
    "        self.trailer.succ = None\n",
    "        #纵向连接哨兵\n",
    "        self.header.above = None \n",
    "        self.header.below = None \n",
    "        self.trailer.above = None \n",
    "        self.trailer.below = None \n",
    "        self.size = 0\n",
    "        \n",
    "    def first(self):\n",
    "        return self.header.succ\n",
    "    \n",
    "    def last(self):\n",
    "        return self.trailer.pred\n",
    "    \n",
    "    def valid(self,node): \n",
    "        '''判断node位置是否合法'''\n",
    "        return (node is not None) and (self.trailer is not node) and (self.header is not node)"
   ]
  },
  {
   "cell_type": "code",
   "execution_count": null,
   "metadata": {},
   "outputs": [],
   "source": [
    "class "
   ]
  },
  {
   "cell_type": "code",
   "execution_count": null,
   "metadata": {},
   "outputs": [],
   "source": [
    "#### 三."
   ]
  },
  {
   "cell_type": "code",
   "execution_count": null,
   "metadata": {},
   "outputs": [],
   "source": []
  },
  {
   "cell_type": "code",
   "execution_count": null,
   "metadata": {},
   "outputs": [],
   "source": []
  },
  {
   "cell_type": "code",
   "execution_count": null,
   "metadata": {},
   "outputs": [],
   "source": []
  },
  {
   "cell_type": "code",
   "execution_count": null,
   "metadata": {},
   "outputs": [],
   "source": []
  },
  {
   "cell_type": "code",
   "execution_count": null,
   "metadata": {},
   "outputs": [],
   "source": []
  },
  {
   "cell_type": "code",
   "execution_count": null,
   "metadata": {},
   "outputs": [],
   "source": []
  },
  {
   "cell_type": "code",
   "execution_count": null,
   "metadata": {},
   "outputs": [],
   "source": []
  },
  {
   "cell_type": "code",
   "execution_count": null,
   "metadata": {},
   "outputs": [],
   "source": []
  },
  {
   "cell_type": "code",
   "execution_count": null,
   "metadata": {},
   "outputs": [],
   "source": []
  },
  {
   "cell_type": "code",
   "execution_count": null,
   "metadata": {},
   "outputs": [],
   "source": []
  },
  {
   "cell_type": "code",
   "execution_count": null,
   "metadata": {},
   "outputs": [],
   "source": []
  },
  {
   "cell_type": "code",
   "execution_count": null,
   "metadata": {},
   "outputs": [],
   "source": []
  },
  {
   "cell_type": "code",
   "execution_count": null,
   "metadata": {},
   "outputs": [],
   "source": []
  }
 ],
 "metadata": {
  "kernelspec": {
   "display_name": "Python 2",
   "language": "python",
   "name": "python2"
  },
  "language_info": {
   "codemirror_mode": {
    "name": "ipython",
    "version": 2
   },
   "file_extension": ".py",
   "mimetype": "text/x-python",
   "name": "python",
   "nbconvert_exporter": "python",
   "pygments_lexer": "ipython2",
   "version": "2.7.15"
  }
 },
 "nbformat": 4,
 "nbformat_minor": 2
}

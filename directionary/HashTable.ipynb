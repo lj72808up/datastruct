{
 "cells": [
  {
   "cell_type": "markdown",
   "metadata": {},
   "source": [
    "#### 一. 惰性删除\n",
    "1. 哈希表往往采用闭散列策略处理冲突.  \n",
    "2. 闭散列的策略通常为为线性试探,所以相同hash值的key会集中在哈希表的某一段.  \n",
    " 由于这种局部性, 导致在删除节点时产生空桶二破坏这种局部性. 因此可谓每个桶设置一个标记, 指示该桶虽然目前为空, 但此前曾存放过词条"
   ]
  },
  {
   "cell_type": "code",
   "execution_count": 1,
   "metadata": {},
   "outputs": [],
   "source": [
    "class HashTable(object):\n",
    "    def __init__(self,bucket_number=5):\n",
    "        '''bucket_number:哈希表长,也是桶的数量\n",
    "           entry_number:词条数量'''\n",
    "        self.bucket_number = bucket_number\n",
    "        self.entry_number = 0 #词条数量\n",
    "        self.ht = [] # 桶数组\n",
    "        self.lazy_removal = [0 for i in range(bucket_number)] # 懒删除标记"
   ]
  }
 ],
 "metadata": {
  "kernelspec": {
   "display_name": "Python 2",
   "language": "python",
   "name": "python2"
  },
  "language_info": {
   "codemirror_mode": {
    "name": "ipython",
    "version": 2
   },
   "file_extension": ".py",
   "mimetype": "text/x-python",
   "name": "python",
   "nbconvert_exporter": "python",
   "pygments_lexer": "ipython2",
   "version": "2.7.15"
  }
 },
 "nbformat": 4,
 "nbformat_minor": 2
}

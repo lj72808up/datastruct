{
 "cells": [
  {
   "cell_type": "markdown",
   "metadata": {},
   "source": [
    "### 1.1 线性探查闭散列下的哈希表\n",
    "#### 一. 惰性删除\n",
    "1. 哈希表往往采用闭散列策略处理冲突.  \n",
    "2. 闭散列的策略通常为为线性试探,所以相同hash值的key会集中在哈希表的某一段.  \n",
    " 由于这种局部性, 导致在删除节点时产生空桶二破坏这种局部性. 因此可谓每个桶设置一个标记, 指示该桶虽然目前为空, 但此前曾存放过词条\n",
    " \n",
    "#### 二. 哈希表查找  \n",
    "1. 在线性探查下, 查找命中位置.   \n",
    " 有两种试探终止的可能`(__probe4hit(self,key))`:   \n",
    "   1. 在一个非空桶内查找到关键码   \n",
    "   2. 线性探查到一个懒删除标记为0的空桶(表示该桶的元素从未被删除过)  \n",
    "2. 哈希表的查找首先使用`__probe4hit(self,key)`查找命中位置, 若该位置上有元素, 则查找成功; 若该位置上桶为空, 则查找失败\n",
    "\n",
    "#### 三. 哈希表插入\n",
    "1. 哈希表插入需要先找到可插入的位置  \n",
    " 只要可插入位置上没有元素, 就插入. 这个插入与lazy_removal标记无关  \n",
    "2. 为什么线性探查下, 总能找到能插入的空桶, 而不会出现所有桶都有元素的情况 ?   \n",
    " 因为哈希表的装填因子只要不是100%, 就一定会留下空桶. 所以装填因子在哈希表的处理上至关重要.  \n",
    " 只要哈希表的装填因子大于50%, 就要进行二次哈希  \n",
    "3. 二次哈希保证装填因子小于50%\n",
    " 当发现元素数量到达表长的一半时, 说明装填因子已经达到50%, 此时应该进行二次哈希  \n",
    " 二次哈希的步骤为将元素整体搬迁到扩容后的新散列表下, 其步骤为将原来的元素依次`put`到新的哈希表下\n",
    " "
   ]
  },
  {
   "cell_type": "code",
   "execution_count": 15,
   "metadata": {},
   "outputs": [],
   "source": [
    "import numpy as np\n",
    "\n",
    "class Entry(object):\n",
    "    def __init__(self,k,v):\n",
    "        self.key = k\n",
    "        self.value = v\n",
    "    def __str__(self):\n",
    "        return '%s->%s'%(self.key,self.value)\n",
    "\n",
    "class HashTable(object):\n",
    "    def __init__(self,bucket_number=5):\n",
    "        '''bucket_number:哈希表长,也是桶的数量\n",
    "           entry_number:词条数量'''\n",
    "        self.M = bucket_number\n",
    "        self.N = 0  # 词条数量\n",
    "        self.ht = np.array([None for i in range(bucket_number)],dtype=object) # key数组\n",
    "        self.lazy_removal = np.array([0 for i in range(bucket_number)])       # 懒删除标记\n",
    "\n",
    "    def __hashcode(self,k):\n",
    "        '''哈希函数: 计算哈希值有多种方法:如强制转换整数,对象成员求和,多项式散列码\n",
    "           此处仅以强制转换整数为例'''\n",
    "        return int(k)\n",
    "\n",
    "    def __probe4hit(self,key):\n",
    "        '''探查命中位置:\n",
    "           此处以线性探查为例子(惰性删除下的查找策略)'''\n",
    "        r = self.__hashcode(key) % self.M  # 根据key的哈希值计算桶的位置\n",
    "        while (self.ht[r] is not None and key!=self.ht[r].key) or (self.ht[r] is None and self.lazy_removal[r]==1):\n",
    "            print r\n",
    "            r = (r+1) % self.M\n",
    "        return r\n",
    "\n",
    "    def get(self,k):\n",
    "        r = self.__probe4hit(k)\n",
    "        return None if self.ht[r] is None else self.ht[r].value\n",
    "\n",
    "    def remove(self,key):\n",
    "        r = self.__probe4hit(k)\n",
    "        if ht[r].key is None:\n",
    "            raise RuntimeError('not key in this hashtable')\n",
    "        else:\n",
    "            ht[r]=None\n",
    "            self.N = self.N-1\n",
    "            self.lazy_removal[r] = 1\n",
    "            return True\n",
    "\n",
    "    def __probe4Free(self,key):\n",
    "        r = self.__hashcode(key) % self.M\n",
    "        while self.ht[r] is not None:\n",
    "            r = (r+1)%self.M\n",
    "        return r\n",
    "\n",
    "    def __rehash(self):\n",
    "        '''二次哈希'''\n",
    "        old_capacity = self.M\n",
    "        old_ht = self.ht\n",
    "        self.M = old_capacity * 2 # 简单的进行2倍扩容,应该是在找到2*M后的一个素数\n",
    "        self.N = 0\n",
    "        self.ht = np.array([None for i in range(self.M)],dtype=object) # key数组\n",
    "        self.lazy_removal = np.array([0 for i in range(self.M)]) # 懒删除标记\n",
    "        for i in range(old_capacity):\n",
    "            if old_ht[i] is not None:\n",
    "                self.put(old_ht[i].key,old_ht[i].value)\n",
    "\n",
    "\n",
    "    def put(self,k,v):\n",
    "        if self.ht[self.__probe4hit(k)] is not None:\n",
    "            raise RuntimeError('don\\'t insert same key')\n",
    "        r = self.__probe4Free(k)\n",
    "        self.ht[r] = Entry(k,v)\n",
    "        self.N = self.N + 1\n",
    "        if self.N*2 > self.M:\n",
    "            self.__rehash()\n",
    "        return\n",
    "    \n",
    "    def __str__(self):\n",
    "        return [entry.__str__() for entry in self.ht].__str__()"
   ]
  },
  {
   "cell_type": "code",
   "execution_count": 16,
   "metadata": {},
   "outputs": [
    {
     "name": "stdout",
     "output_type": "stream",
     "text": [
      "key:1,value: a\n",
      "hash table: ['None', '1->a', '2->b', '3->c', 'None', 'None', 'None', 'None', 'None', 'None']\n"
     ]
    }
   ],
   "source": [
    "if __name__ == '__main__':\n",
    "    ht = HashTable()\n",
    "    ht.put(1,'a')\n",
    "    ht.put(2,'b')\n",
    "    ht.put(3,'c') # 触发rehash\n",
    "    print 'key:1,value:',ht.get(1)\n",
    "    print 'hash table:',ht"
   ]
  },
  {
   "cell_type": "markdown",
   "metadata": {},
   "source": [
    "### 1.2 其他三列策略和哈希计算函数"
   ]
  }
 ],
 "metadata": {
  "kernelspec": {
   "display_name": "Python 2",
   "language": "python",
   "name": "python2"
  },
  "language_info": {
   "codemirror_mode": {
    "name": "ipython",
    "version": 2
   },
   "file_extension": ".py",
   "mimetype": "text/x-python",
   "name": "python",
   "nbconvert_exporter": "python",
   "pygments_lexer": "ipython2",
   "version": "2.7.15"
  }
 },
 "nbformat": 4,
 "nbformat_minor": 2
}

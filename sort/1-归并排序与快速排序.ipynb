{
 "cells": [
  {
   "cell_type": "markdown",
   "metadata": {},
   "source": [
    "## 归并排序\n",
    "1. 归并排序的核心是,把两个已经有序的列表,合并成一个大的整体有序的列表.因为合并两个有序列表,只要比较这两个有序列表的首元素即可,所以其复杂度为$O(n)$  \n",
    "2. 基于以上,我们要排序一个大的无序列表,先用二分法,地柜拆成单个元素(自然有序)的小列表,在归并排序这些小列表.而这些小列表,一定是原列表中相邻的两个,因为在二分递归拆列表时,我们使用了[low,mid]和[mid,high]作为拆分.最后进行一次将相邻两个小列表合并为一个大列表的归并操作"
   ]
  },
  {
   "cell_type": "code",
   "execution_count": 1,
   "metadata": {},
   "outputs": [
    {
     "name": "stdout",
     "output_type": "stream",
     "text": [
      "[0, 1, 2, 4, 5, 8]\n"
     ]
    }
   ],
   "source": [
    "# -*- coding: UTF-8 -*-\n",
    "\n",
    "# l:待排序列表,用角标,截取出待排列表\n",
    "def mergeSort(l,low,high):\n",
    "    # 单个元素自然有序\n",
    "    if(high-low<=1):\n",
    "        return\n",
    "    mid = (low+high)>>1\n",
    "    mergeSort(l,low,mid)\n",
    "    mergeSort(l,mid,high)\n",
    "    merge(l,low,mid,high)\n",
    "\n",
    "\n",
    "# 排序两个有序列表\n",
    "# 两个有序列表为l[low,mid]和l[mid,high]\n",
    "# 以下python的列表截取和赋值操作,都是基于深copy\n",
    "# python的参数传递都是对象的引用\n",
    "def merge(l,low,mid,high):\n",
    "    # 第一个列表为l[low:mid]\n",
    "    # 第二个列表为l[mid:high]\n",
    "    # 以下i,j分别记录列表的起始位置\n",
    "    i = low\n",
    "    j = mid\n",
    "    combineList = []\n",
    "    for k in range(low,high):\n",
    "        # 如果l1已经用完,l2还有元素,则直接并入l2\n",
    "        if(i==mid and j<high):\n",
    "            combineList.append(l[j]);j=j+1\n",
    "        # 如果l2已经用完,l1还有元素,则直接并入l1\n",
    "        elif(j==high and i<mid):\n",
    "            combineList.append(l[i]);i=i+1\n",
    "        # 如果l1和l2都还有元素,就比较首元素大小\n",
    "        else:\n",
    "            if(l[i]<=l[j]):\n",
    "                combineList.append(l[i]);i = i+1\n",
    "            else:\n",
    "                combineList.append(l[j]);j = j+1\n",
    "    l[low:high] = combineList\n",
    "\n",
    "\n",
    "if __name__==\"__main__\":\n",
    "    l = [5,2,1,8,4,0]\n",
    "    mergeSort(l,0,len(l))\n",
    "    print l"
   ]
  },
  {
   "cell_type": "markdown",
   "metadata": {
    "collapsed": true
   },
   "source": [
    "## 快速排序\n",
    "1. 快速排序采用\"分治\"的思路,即把待排无序列表,划分成两个子序列并行进行排序,分而治之.\n",
    "2. 分治的思路基于:我们把序列中的一个数称为\"轴点\",若该数所在列表中,其左侧位置所有元素都小于等于该元素,右侧位置所有元素都大于等于该元素.因此轴点的制造尤为关键\n",
    "3. 如何构造轴点,并划分列表为左右两个子列表?  \n",
    "用low和high标记列表的范围index.选取首元素m=l[low]作为带构造的轴点.然后不断移动low和high使其互相靠拢.整个移动过程中,始终保证lo左侧的元素小于等于m,high右侧的元素大于等于m.最后当low和high合并时,将原备份的m回填到这一位置."
   ]
  },
  {
   "cell_type": "code",
   "execution_count": 2,
   "metadata": {},
   "outputs": [
    {
     "name": "stdout",
     "output_type": "stream",
     "text": [
      "[1, 3, 4, 4, 6, 8, 12]\n"
     ]
    }
   ],
   "source": [
    "# -*- coding: UTF-8 -*-\n",
    "\n",
    "# 我们要构造轴点,然后以轴点左侧和右侧形成的列表各自进行排序\n",
    "def quickSort(l, low, high):\n",
    "    # 单个元素自然有序\n",
    "    if (high - low <= 1):\n",
    "        return\n",
    "    pivlot = findPivlot(l, low, high)\n",
    "    # 轴点的位置,满足排序前和排序后所处位置不变\n",
    "    quickSort(l, low, pivlot)\n",
    "    quickSort(l, pivlot + 1, high)\n",
    "\n",
    "\n",
    "def findPivlot(l, low, high):\n",
    "    # 选取首元素为待构造的轴点\n",
    "    m = l[low]\n",
    "    while (low < high):\n",
    "        while (l[high] >= m and low<high):\n",
    "            high = high - 1\n",
    "        l[low] = l[high]\n",
    "        while (l[low] <= m and low<high):\n",
    "            low = low + 1\n",
    "        l[high] = l[low]\n",
    "    # 循环结束时,low==high\n",
    "    l[low] = m\n",
    "    return low\n",
    "\n",
    "if __name__==\"__main__\":\n",
    "    l = [12,3,4,1,6,8,4]\n",
    "    quickSort(l,0,len(l)-1)\n",
    "    print l"
   ]
  }
 ],
 "metadata": {
  "kernelspec": {
   "display_name": "Python 2",
   "language": "python",
   "name": "python2"
  },
  "language_info": {
   "codemirror_mode": {
    "name": "ipython",
    "version": 2
   },
   "file_extension": ".py",
   "mimetype": "text/x-python",
   "name": "python",
   "nbconvert_exporter": "python",
   "pygments_lexer": "ipython2",
   "version": "2.7.14"
  }
 },
 "nbformat": 4,
 "nbformat_minor": 2
}

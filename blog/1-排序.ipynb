{
 "cells": [
  {
   "cell_type": "markdown",
   "metadata": {},
   "source": [
    "## 归并排序\n",
    "1. 归并排序的核心是,把两个已经有序的列表,合并成一个大的整体有序的列表.因为合并两个有序列表,只要比较这两个有序列表的首元素即可,所以其复杂度为$O(n)$  \n",
    "2. 基于以上,我们要排序一个大的无序列表,先用二分法,地柜拆成单个元素(自然有序)的小列表,在归并排序这些小列表.而这些小列表,一定是原列表中相邻的两个,因为在二分递归拆列表时,我们使用了[low,mid]和[mid,high]作为拆分.最后进行一次将相邻两个小列表合并为一个大列表的归并操作"
   ]
  },
  {
   "cell_type": "markdown",
   "metadata": {
    "collapsed": true
   },
   "source": [
    "## 快速排序\n",
    "1. 快速排序采用\"分治\"的思路,即把待排无序列表,划分成两个子序列并行进行排序,分而治之.\n",
    "2. 分治的思路基于:我们把序列中的一个数称为\"轴点\",若该数所在列表中,其左侧位置所有元素都小于等于该元素,右侧位置所有元素都大于等于该元素.因此轴点的制造尤为关键\n",
    "3. 如何构造轴点,并划分列表为左右两个子列表?  \n",
    "用low和high标记列表的范围index.选取首元素m=l[low]作为带构造的轴点.然后不断移动low和high使其互相靠拢.整个移动过程中,始终保证lo左侧的元素小于等于m,high右侧的元素大于等于m.最后当low和high合并时,将原备份的m回填到这一位置."
   ]
  }
 ],
 "metadata": {
  "kernelspec": {
   "display_name": "Python 2",
   "language": "python",
   "name": "python2"
  },
  "language_info": {
   "codemirror_mode": {
    "name": "ipython",
    "version": 2
   },
   "file_extension": ".py",
   "mimetype": "text/x-python",
   "name": "python",
   "nbconvert_exporter": "python",
   "pygments_lexer": "ipython2",
   "version": "2.7.14"
  }
 },
 "nbformat": 4,
 "nbformat_minor": 2
}

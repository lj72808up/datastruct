{
 "cells": [
  {
   "cell_type": "markdown",
   "metadata": {},
   "source": [
    "## 归并排序\n",
    "### 一 整体思路\n",
    "1. 归并排序的核心是,把两个已经有序的列表,合并成一个大的整体有序的列表.因为合并两个有序列表,只要比较这两个有序列表的首元素即可,所以其复杂度为$O(n)$  \n",
    "2. 基于以上,我们要排序一个大的无序列表,先用二分法,地柜拆成单个元素(自然有序)的小列表,在归并排序这些小列表.而这些小列表,一定是原列表中相邻的两个,因为在二分递归拆列表时,我们使用了[low,mid]和[mid,high]作为拆分.最后进行一次将相邻两个小列表合并为一个大列表的归并操作"
   ]
  },
  {
   "cell_type": "code",
   "execution_count": null,
   "metadata": {
    "collapsed": true
   },
   "outputs": [],
   "source": []
  }
 ],
 "metadata": {
  "kernelspec": {
   "display_name": "Python 2",
   "language": "python",
   "name": "python2"
  },
  "language_info": {
   "codemirror_mode": {
    "name": "ipython",
    "version": 2
   },
   "file_extension": ".py",
   "mimetype": "text/x-python",
   "name": "python",
   "nbconvert_exporter": "python",
   "pygments_lexer": "ipython2",
   "version": "2.7.14"
  }
 },
 "nbformat": 4,
 "nbformat_minor": 2
}

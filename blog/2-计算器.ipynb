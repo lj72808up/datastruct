{
 "cells": [
  {
   "cell_type": "markdown",
   "metadata": {
    "collapsed": true
   },
   "source": [
    "## 计算器\n",
    "1. 计算器的实现有几个问题  \n",
    "( 1 )读取操作数:  \n",
    "因为表达式中的操作数可能是多位实数.这就要求督导一个数字时,线不能参与运算,要进入一个操作数缓存栈中,知道读取的表达式字符不是数字时,再把这个操作数缓存栈中的数字一次弹出*10的n次方,结果加入真正的操作数栈  \n",
    "( 2 )操作符优先级问题:  \n",
    "督导操作符时也不能直接运算,因为后面可能有操作界别更高的操作,此时只能先把操作符入栈,知道遇到表达式中的字符优先级比操作符栈顶元素的优先级低时,才能对操作符栈顶的运算符运算 (只要出现的操作符比前一个操作符优先级低,就可以对前一个运算符进行计算.只要对比上一个运算符)"
   ]
  }
 ],
 "metadata": {
  "kernelspec": {
   "display_name": "Python 2",
   "language": "python",
   "name": "python2"
  },
  "language_info": {
   "codemirror_mode": {
    "name": "ipython",
    "version": 2
   },
   "file_extension": ".py",
   "mimetype": "text/x-python",
   "name": "python",
   "nbconvert_exporter": "python",
   "pygments_lexer": "ipython2",
   "version": "2.7.14"
  }
 },
 "nbformat": 4,
 "nbformat_minor": 1
}

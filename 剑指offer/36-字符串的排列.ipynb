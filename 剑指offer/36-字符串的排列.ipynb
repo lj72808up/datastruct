{
 "cells": [
  {
   "cell_type": "code",
   "execution_count": 1,
   "metadata": {},
   "outputs": [],
   "source": [
    "class Solution:\n",
    "    '''字符串的全排列'''\n",
    "    def Permutation(self, ss):\n",
    "        start = 0 # 开头第一个字符\n",
    "        begin = 0 # 除开头外, 后部分的第一个字符\n",
    "        ss = list(ss)\n",
    "        res = []\n",
    "        self.perm_core(ss,start,begin,res)\n",
    "        return res\n",
    "    def perm_core(self, ss,start,begin,res):\n",
    "        if begin==len(ss):\n",
    "            res.append(\"\".join(ss))\n",
    "        for i in range(begin,len(ss)):\n",
    "            ss[start],ss[i] = ss[i],ss[start]\n",
    "            self.perm_core(ss,begin,begin+1,res)\n",
    "            ss[start],ss[i] = ss[i],ss[start]  "
   ]
  },
  {
   "cell_type": "code",
   "execution_count": 2,
   "metadata": {},
   "outputs": [
    {
     "data": {
      "text/plain": [
       "['bca', 'cab', 'acb', 'cba', 'bac', 'acb']"
      ]
     },
     "execution_count": 2,
     "metadata": {},
     "output_type": "execute_result"
    }
   ],
   "source": [
    "Solution().Permutation(\"abc\")"
   ]
  },
  {
   "cell_type": "code",
   "execution_count": 3,
   "metadata": {},
   "outputs": [],
   "source": [
    "class Solution2:\n",
    "    '''字符串的组合'''\n",
    "    def Combine(self, ss):\n",
    "        cur = 0\n",
    "        res = []\n",
    "        for m in range(1,len(ss)+1):\n",
    "            self.combine_core(ss,cur,m,res)\n",
    "        \n",
    "    def combine_core(self, ss,cur,m,res):\n",
    "        if m>len(ss)-cur:\n",
    "            return\n",
    "        if m == 0:\n",
    "            print(\"\".join(res))\n",
    "            return\n",
    "        res.append(ss[cur]) # 当前字符加入组合, 则从剩下的字符串中选择m-1个字符\n",
    "        self.combine_core(ss,cur+1,m-1,res)\n",
    "        res.pop() # 当前字符不加入组合, 从剩下字符串中选择m个字符\n",
    "        self.combine_core(ss,cur+1,m,res)"
   ]
  },
  {
   "cell_type": "code",
   "execution_count": 4,
   "metadata": {},
   "outputs": [
    {
     "name": "stdout",
     "output_type": "stream",
     "text": [
      "a\n",
      "b\n",
      "c\n",
      "ab\n",
      "ac\n",
      "bc\n",
      "abc\n"
     ]
    }
   ],
   "source": [
    "Solution2().Combine(\"abc\")"
   ]
  },
  {
   "cell_type": "code",
   "execution_count": null,
   "metadata": {},
   "outputs": [],
   "source": []
  }
 ],
 "metadata": {
  "kernelspec": {
   "display_name": "Python 3",
   "language": "python",
   "name": "python3"
  },
  "language_info": {
   "codemirror_mode": {
    "name": "ipython",
    "version": 3
   },
   "file_extension": ".py",
   "mimetype": "text/x-python",
   "name": "python",
   "nbconvert_exporter": "python",
   "pygments_lexer": "ipython3",
   "version": "3.6.5"
  }
 },
 "nbformat": 4,
 "nbformat_minor": 2
}

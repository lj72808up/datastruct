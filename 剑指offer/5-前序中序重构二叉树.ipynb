{
 "cells": [
  {
   "cell_type": "markdown",
   "metadata": {},
   "source": [
    "#### 一. 根据先序遍历和中序遍历重构二叉树"
   ]
  },
  {
   "cell_type": "code",
   "execution_count": 1,
   "metadata": {},
   "outputs": [],
   "source": [
    "class TreeNode:\n",
    "    def __init__(self, x):\n",
    "        self.val = x\n",
    "        self.left = None\n",
    "        self.right = None"
   ]
  },
  {
   "cell_type": "code",
   "execution_count": 7,
   "metadata": {},
   "outputs": [],
   "source": [
    "def reConstructBinaryTree(pre, tin):\n",
    "    rootVal = pre[0]  # 先序遍历第一个值\n",
    "    rootIndex_tin = tin.index(rootVal) # 中序遍历中根节点的位置\n",
    "    left_length = rootIndex_tin        # 根据中序遍历确定的左子树长度\n",
    "    right_length = len(tin)-rootIndex_tin-1 # 根据中序遍历确定的右子树长度\n",
    "    \n",
    "    root = TreeNode(pre[0])\n",
    "    \n",
    "    left_pre = pre[1:1+left_length]\n",
    "    right_pre = pre[1+left_length:1+left_length+right_length]\n",
    "    \n",
    "    if left_length>0:\n",
    "        left_pre = pre[1:1+left_length]\n",
    "        root.left = reConstructBinaryTree(left_pre,tin[0:rootIndex_tin])\n",
    "\n",
    "    if right_length>0:\n",
    "        right_pre = pre[1+left_length:1+left_length+right_length]\n",
    "        root.right = reConstructBinaryTree(right_pre,tin[rootIndex_tin+1:])\n",
    "    \n",
    "    return root\n",
    "\n",
    "def traverseLevel(node):\n",
    "    arr = []\n",
    "    arr.append(node)\n",
    "    while len(arr)!=0:\n",
    "        length = len(arr)\n",
    "        print(\"$\")\n",
    "        for i in range(0,length):\n",
    "            if arr[i].left is not None:\n",
    "                arr.append(arr[i].left)\n",
    "            if arr[i].right is not None:\n",
    "                arr.append(arr[i].right)\n",
    "            print(arr[i].val)\n",
    "        arr = arr[length:]"
   ]
  },
  {
   "cell_type": "code",
   "execution_count": 8,
   "metadata": {},
   "outputs": [
    {
     "name": "stdout",
     "output_type": "stream",
     "text": [
      "$\n",
      "1\n",
      "$\n",
      "2\n",
      "5\n",
      "$\n",
      "3\n",
      "4\n",
      "6\n",
      "7\n"
     ]
    }
   ],
   "source": [
    "root = reConstructBinaryTree([1,2,3,4,5,6,7],[3,2,4,1,6,5,7])\n",
    "traverseLevel(root)"
   ]
  },
  {
   "cell_type": "markdown",
   "metadata": {},
   "source": [
    "#### 二. 中序遍历下的后一个节点"
   ]
  },
  {
   "cell_type": "code",
   "execution_count": 16,
   "metadata": {},
   "outputs": [],
   "source": [
    "class TreeLinkNode:\n",
    "    def __init__(self, x):\n",
    "        self.val = x\n",
    "        self.left = None\n",
    "        self.right = None\n",
    "        self.next = None"
   ]
  },
  {
   "cell_type": "code",
   "execution_count": 18,
   "metadata": {},
   "outputs": [],
   "source": [
    "def isLChild(pNode):\n",
    "    return pNode.next.left is pNode\n",
    "def isRChild(pNode):\n",
    "    return pNode.next.right is pNode"
   ]
  },
  {
   "cell_type": "code",
   "execution_count": null,
   "metadata": {},
   "outputs": [],
   "source": [
    "def GetNext(pNode):\n",
    "    if pNode.right is not None: # 有右孩子\n",
    "        res = pNode.right\n",
    "        while(res.left is not None):\n",
    "            res = res.left\n",
    "        return res\n",
    "    if isLChild(pNode):\n",
    "        return pNode.next\n",
    "    if isRChild(pNode):  # 一直向左上方提升\n",
    "        res = pNode.next\n",
    "        if (res.next is not None) and (isRChild(res)):\n",
    "            res = res.next\n",
    "        if isLChild(res):\n",
    "            return res.next\n",
    "        else:\n",
    "            return None\n",
    "        \n",
    "    return None "
   ]
  }
 ],
 "metadata": {
  "kernelspec": {
   "display_name": "Python 3",
   "language": "python",
   "name": "python3"
  },
  "language_info": {
   "codemirror_mode": {
    "name": "ipython",
    "version": 3
   },
   "file_extension": ".py",
   "mimetype": "text/x-python",
   "name": "python",
   "nbconvert_exporter": "python",
   "pygments_lexer": "ipython3",
   "version": "3.6.5"
  }
 },
 "nbformat": 4,
 "nbformat_minor": 2
}

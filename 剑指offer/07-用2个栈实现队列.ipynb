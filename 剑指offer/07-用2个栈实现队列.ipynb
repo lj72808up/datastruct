{
 "cells": [
  {
   "cell_type": "markdown",
   "metadata": {},
   "source": [
    "### 2个栈实现队列  \n",
    "队列的实现主要是appendTail和deleteHead方法, 即尾部插入, 头部删除.   \n",
    "首先规定, 插入元素都在stack1上执行, 弹出元素都在stac2上执行.  \n",
    "插入时, 按照栈的插入方法, 假设依次插入\"a,b,c\";     \n",
    "弹出时, 先把stack1的元素依次弹出插入stack2中, 此时stack2中的元素为\"c,b,a\".再从stack2中依次弹出,. 此时弹出顺序就变为\"a,b,c\"   \n",
    "<img src=\"img/2stack.png\">"
   ]
  },
  {
   "cell_type": "markdown",
   "metadata": {},
   "source": [
    "### 2个队列实现栈  \n",
    "栈的实现, 主要是压栈和弹栈操作  \n",
    "压栈时, 选择一个非空的队列插入;  \n",
    "弹栈时, 将非空队列的元素依次从头部delete然后插入另一个空的队列, 直到这个非空队列中只剩一个元素.再detele这个元素作为弹栈.   \n",
    "压栈和弹栈是操作的队列依据空与非空动态切换\n",
    "<img src=\"img/2queue.png\">"
   ]
  }
 ],
 "metadata": {
  "kernelspec": {
   "display_name": "Python 3",
   "language": "python",
   "name": "python3"
  },
  "language_info": {
   "codemirror_mode": {
    "name": "ipython",
    "version": 3
   },
   "file_extension": ".py",
   "mimetype": "text/x-python",
   "name": "python",
   "nbconvert_exporter": "python",
   "pygments_lexer": "ipython3",
   "version": "3.6.5"
  }
 },
 "nbformat": 4,
 "nbformat_minor": 2
}

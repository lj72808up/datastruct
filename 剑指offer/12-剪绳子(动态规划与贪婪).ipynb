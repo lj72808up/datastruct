{
 "cells": [
  {
   "cell_type": "markdown",
   "metadata": {},
   "source": [
    "### 动态规划 - 划分子问题求解"
   ]
  },
  {
   "cell_type": "code",
   "execution_count": 17,
   "metadata": {},
   "outputs": [],
   "source": [
    "import numpy as np\n",
    "def maxProductAfterCutting(length):\n",
    "    if length<2: # 要求至少剪一刀\n",
    "        return 0\n",
    "    if length==2:\n",
    "        return 1\n",
    "    if length==3:\n",
    "        return 2\n",
    "    products = np.zeros(length+1)\n",
    "    products[0] = 0  # 长度为i的子段,所有剪法的最大product\n",
    "    products[1] = 1\n",
    "    products[2] = 2\n",
    "    products[3] = 3\n",
    "    for i in range(4,length+1):\n",
    "        candidates = []\n",
    "        for j in range(0,int(i/2)+1):\n",
    "            print(\"长度%s的切法:%s,%s\"%(i,j,i-j))\n",
    "            caditate = products[j]*products[i-j]\n",
    "            candidates.append(caditate)\n",
    "        print (\"长度%s各种切法的面积:%s\"%(i,candidates))\n",
    "        products[i] = max(candidates)\n",
    "    return products[length]"
   ]
  },
  {
   "cell_type": "code",
   "execution_count": 18,
   "metadata": {},
   "outputs": [
    {
     "name": "stdout",
     "output_type": "stream",
     "text": [
      "长度4的切法:0,4\n",
      "长度4的切法:1,3\n",
      "长度4的切法:2,2\n",
      "长度4各种切法的面积:[0.0, 3.0, 4.0]\n",
      "长度5的切法:0,5\n",
      "长度5的切法:1,4\n",
      "长度5的切法:2,3\n",
      "长度5各种切法的面积:[0.0, 4.0, 6.0]\n"
     ]
    },
    {
     "data": {
      "text/plain": [
       "6.0"
      ]
     },
     "execution_count": 18,
     "metadata": {},
     "output_type": "execute_result"
    }
   ],
   "source": [
    "maxProductAfterCutting(5)"
   ]
  },
  {
   "cell_type": "markdown",
   "metadata": {},
   "source": [
    "### 贪婪算法 - 尽可能多的剪长度为3的段\n",
    "\n",
    "长度为4的段可以分成2个长度为2的段"
   ]
  },
  {
   "cell_type": "code",
   "execution_count": 21,
   "metadata": {},
   "outputs": [],
   "source": [
    "def maxProductAfterCutting(length):\n",
    "    timesOf3 = int(length/3)\n",
    "    if length-pow(3,timesOf3) == 1:\n",
    "        timesOf3 = timesOf3-1 # 此时会留下长度为4的绳子\n",
    "    timesOf2 = (length-pow(3,timesOf3))/2 #length-所有长度为3的段,结果只能为1或2\n",
    "    return pow(3,timesOf3)*pow(2,timesOf2)"
   ]
  },
  {
   "cell_type": "code",
   "execution_count": 22,
   "metadata": {},
   "outputs": [
    {
     "data": {
      "text/plain": [
       "6.0"
      ]
     },
     "execution_count": 22,
     "metadata": {},
     "output_type": "execute_result"
    }
   ],
   "source": [
    "maxProductAfterCutting(5)"
   ]
  }
 ],
 "metadata": {
  "kernelspec": {
   "display_name": "Python 3",
   "language": "python",
   "name": "python3"
  },
  "language_info": {
   "codemirror_mode": {
    "name": "ipython",
    "version": 3
   },
   "file_extension": ".py",
   "mimetype": "text/x-python",
   "name": "python",
   "nbconvert_exporter": "python",
   "pygments_lexer": "ipython3",
   "version": "3.6.5"
  }
 },
 "nbformat": 4,
 "nbformat_minor": 2
}

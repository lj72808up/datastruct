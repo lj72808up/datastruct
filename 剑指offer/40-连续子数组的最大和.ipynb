{
 "cells": [
  {
   "cell_type": "code",
   "execution_count": 41,
   "metadata": {},
   "outputs": [],
   "source": [
    "def maxSubArraySum(arr):\n",
    "    if arr is None or len(arr)==0:\n",
    "        return None\n",
    "    curSum = 0\n",
    "    maxSum = arr[0]\n",
    "    for index,e in enumerate(arr):\n",
    "        if curSum<0 and e>0:\n",
    "            curSum = e\n",
    "        else:\n",
    "            curSum = curSum + e\n",
    "        if curSum>maxSum:\n",
    "            maxSum = curSum\n",
    "    return maxSum"
   ]
  },
  {
   "cell_type": "code",
   "execution_count": 42,
   "metadata": {},
   "outputs": [
    {
     "data": {
      "text/plain": [
       "19"
      ]
     },
     "execution_count": 42,
     "metadata": {},
     "output_type": "execute_result"
    }
   ],
   "source": [
    "maxSubArraySum([1,-2,3,10,-4,7,2,-5,6,-99,1])"
   ]
  },
  {
   "cell_type": "code",
   "execution_count": null,
   "metadata": {},
   "outputs": [],
   "source": []
  },
  {
   "cell_type": "code",
   "execution_count": 43,
   "metadata": {},
   "outputs": [],
   "source": [
    "def maxSubArraySum(arr):\n",
    "    '''记录角标的写法'''\n",
    "    if arr is None or len(arr)==0:\n",
    "        return None\n",
    "    curSum = 0\n",
    "    maxSum = arr[0]\n",
    "    start,end = 0,0\n",
    "    flags = [(start,end)] # 记录更新的角标\n",
    "    count = 0 # 记录最大值第几次更新\n",
    "    for index,e in enumerate(arr):\n",
    "        if curSum<0 and e>0:\n",
    "            curSum = e\n",
    "            start = index # 更新start\n",
    "            flags.append((start,end))\n",
    "        else:\n",
    "            curSum = curSum + e\n",
    "        if curSum>maxSum:\n",
    "            maxSum = curSum\n",
    "            end = index   # 更新end\n",
    "            count = count+1\n",
    "            flags.append((start,end))\n",
    "    print(\"(start,end):\",flags[count+1])\n",
    "    return maxSum"
   ]
  },
  {
   "cell_type": "code",
   "execution_count": null,
   "metadata": {},
   "outputs": [],
   "source": []
  }
 ],
 "metadata": {
  "kernelspec": {
   "display_name": "Python 3",
   "language": "python",
   "name": "python3"
  },
  "language_info": {
   "codemirror_mode": {
    "name": "ipython",
    "version": 3
   },
   "file_extension": ".py",
   "mimetype": "text/x-python",
   "name": "python",
   "nbconvert_exporter": "python",
   "pygments_lexer": "ipython3",
   "version": "3.6.5"
  }
 },
 "nbformat": 4,
 "nbformat_minor": 2
}

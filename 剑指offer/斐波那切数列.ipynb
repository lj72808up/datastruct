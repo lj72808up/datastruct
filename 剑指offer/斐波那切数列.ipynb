{
 "cells": [
  {
   "cell_type": "markdown",
   "metadata": {},
   "source": [
    "### 一. 求斐波那切数列的第n项\n",
    "\n",
    "#### 1. 为什么一般的递归求解会造成计算大量重复\n",
    "斐波那切数列的特点是$f(n)=f(n-1)+f(n-2)$, 形成的递归计算图如下<img src=\"img/fib.png\" height=\"40%\" width=\"40%\">可以看出, 图中存在大量重复计算. 为避免这种重复计算, 而且计算时间复杂度随着n的增大呈指数级增长. 可以使用数组将中间结果保存起来. 当然更简单的方法是使用动态规划自底向上求解"
   ]
  },
  {
   "cell_type": "code",
   "execution_count": 10,
   "metadata": {},
   "outputs": [
    {
     "name": "stdout",
     "output_type": "stream",
     "text": [
      "fib(2):1\n",
      "fib(3):2\n",
      "fib(4):3\n",
      "fib(5):5\n",
      "fib(6):8\n",
      "fib(7):13\n",
      "fib(8):21\n",
      "fib(9):34\n",
      "fib(10):55\n"
     ]
    },
    {
     "data": {
      "text/plain": [
       "55"
      ]
     },
     "execution_count": 10,
     "metadata": {},
     "output_type": "execute_result"
    }
   ],
   "source": [
    "def fib(n):\n",
    "    a = 0  # f(0)\n",
    "    b = 1  # f(1)\n",
    "    i = 2\n",
    "    while i<=n:\n",
    "        c = a+b\n",
    "        print(\"fib(%s):%s\"%(i,c))\n",
    "        a = b\n",
    "        b = c\n",
    "        i = i+1\n",
    "    return c\n",
    "\n",
    "fib(10)"
   ]
  },
  {
   "cell_type": "markdown",
   "metadata": {},
   "source": [
    "#### 2. 斐波那切数列的形变问题\n",
    "1. 青蛙跳台阶\n",
    "2. 矩形覆盖"
   ]
  },
  {
   "cell_type": "code",
   "execution_count": null,
   "metadata": {},
   "outputs": [],
   "source": []
  }
 ],
 "metadata": {
  "kernelspec": {
   "display_name": "Python 3",
   "language": "python",
   "name": "python3"
  },
  "language_info": {
   "codemirror_mode": {
    "name": "ipython",
    "version": 3
   },
   "file_extension": ".py",
   "mimetype": "text/x-python",
   "name": "python",
   "nbconvert_exporter": "python",
   "pygments_lexer": "ipython3",
   "version": "3.6.5"
  }
 },
 "nbformat": 4,
 "nbformat_minor": 2
}

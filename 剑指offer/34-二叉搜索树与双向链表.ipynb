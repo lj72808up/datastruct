{
 "cells": [
  {
   "cell_type": "code",
   "execution_count": null,
   "metadata": {},
   "outputs": [],
   "source": [
    "class TreeNode:\n",
    "    def __init__(self, x):\n",
    "        self.val = x\n",
    "        self.left = None\n",
    "        self.right = None\n",
    "        \n",
    "def Convert(pRootOfTree): \n",
    "    leftNode = None\n",
    "#     rightNode = None\n",
    "    if pRootOfTree.left is not None:\n",
    "        leftNode = Convert(pRootOfTree.left)\n",
    "    leftNode.right = pRootOfTree\n",
    "    pRootOfTree.left = leftNode\n",
    "    if pRootOfTree.right is not None:\n",
    "        leftNode = Convert(pRootOfTree.right)\n",
    "    return pRootOfTree"
   ]
  }
 ],
 "metadata": {
  "kernelspec": {
   "display_name": "Python 3",
   "language": "python",
   "name": "python3"
  },
  "language_info": {
   "codemirror_mode": {
    "name": "ipython",
    "version": 3
   },
   "file_extension": ".py",
   "mimetype": "text/x-python",
   "name": "python",
   "nbconvert_exporter": "python",
   "pygments_lexer": "ipython3",
   "version": "3.6.5"
  }
 },
 "nbformat": 4,
 "nbformat_minor": 2
}

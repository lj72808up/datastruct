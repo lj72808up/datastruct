{
 "cells": [
  {
   "cell_type": "code",
   "execution_count": 8,
   "metadata": {},
   "outputs": [],
   "source": [
    "class Node:\n",
    "    def __init__(self,val):\n",
    "        self.val = val\n",
    "        self.next = None\n",
    "        \n",
    "class Stack:\n",
    "    def __init__(self,l=[]):\n",
    "        self.l = l\n",
    "        self.size = (len(l))\n",
    "    def popStack(self):\n",
    "        e = self.l.pop()\n",
    "        self.size = self.size -1\n",
    "        return e\n",
    "    def pushStack(self,e):\n",
    "        self.l.append(e)\n",
    "        self.size = self.size + 1"
   ]
  },
  {
   "cell_type": "code",
   "execution_count": 18,
   "metadata": {},
   "outputs": [],
   "source": [
    "def getListSize(l):\n",
    "    size = 0\n",
    "    while l is not None:\n",
    "        size = size + 1\n",
    "        l = l.next\n",
    "    return size\n",
    "def getFirstCommonNonde(l1,l2):\n",
    "    len1 = getListSize(l1)\n",
    "    len2 = getListSize(l2)\n",
    "    dif = len1 - len2\n",
    "    print(\"dif:\",dif)\n",
    "    if dif>0:\n",
    "        while dif != 0:\n",
    "            l1 = l1.next\n",
    "            dif = dif-1\n",
    "    if dif<0:\n",
    "        while dif != 0:\n",
    "            l2 = l2.next\n",
    "            dif = dif+1\n",
    "    while l1 is not l2:\n",
    "        l1 = l1.next\n",
    "        l2 = l2.next\n",
    "    return l1.val\n",
    "        "
   ]
  },
  {
   "cell_type": "code",
   "execution_count": 19,
   "metadata": {},
   "outputs": [],
   "source": [
    "a1 = Node(\"a1\")\n",
    "a2 = Node(\"a2\")\n",
    "b = Node(\"b\")\n",
    "c = Node(\"c\")\n",
    "d = Node(\"d\")\n",
    "f = Node(\"f\")\n",
    "\n",
    "a1.next = b\n",
    "a2.next = c\n",
    "b.next = d\n",
    "c.next = f\n",
    "d.next = f"
   ]
  },
  {
   "cell_type": "code",
   "execution_count": 20,
   "metadata": {},
   "outputs": [
    {
     "name": "stdout",
     "output_type": "stream",
     "text": [
      "dif: 1\n"
     ]
    },
    {
     "data": {
      "text/plain": [
       "'f'"
      ]
     },
     "execution_count": 20,
     "metadata": {},
     "output_type": "execute_result"
    }
   ],
   "source": [
    "getFirstCommonNonde(a1,a2)"
   ]
  }
 ],
 "metadata": {
  "kernelspec": {
   "display_name": "Python 3",
   "language": "python",
   "name": "python3"
  },
  "language_info": {
   "codemirror_mode": {
    "name": "ipython",
    "version": 3
   },
   "file_extension": ".py",
   "mimetype": "text/x-python",
   "name": "python",
   "nbconvert_exporter": "python",
   "pygments_lexer": "ipython3",
   "version": "3.6.5"
  }
 },
 "nbformat": 4,
 "nbformat_minor": 2
}

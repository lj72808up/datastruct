{
 "cells": [
  {
   "cell_type": "code",
   "execution_count": 1,
   "metadata": {},
   "outputs": [],
   "source": [
    "class TreeNode:\n",
    "    def __init__(self, x):\n",
    "        self.val = x\n",
    "        self.left = None\n",
    "        self.right = None"
   ]
  },
  {
   "cell_type": "code",
   "execution_count": null,
   "metadata": {},
   "outputs": [],
   "source": [
    "class Solution:\n",
    "    def TreeDepth(self, pRoot):\n",
    "        if pRoot is None:\n",
    "            return 0\n",
    "        left = self.TreeDepth(pRoot.left)+1\n",
    "        right = self.TreeDepth(pRoot.right)+1\n",
    "        return left if left>right else right"
   ]
  },
  {
   "cell_type": "code",
   "execution_count": 6,
   "metadata": {},
   "outputs": [],
   "source": [
    "class Solution2:\n",
    "    def IsBalanced_Solution(self, pRoot):\n",
    "        return self.balanceCore(pRoot,[-1])\n",
    "    def balanceCore(self,pRoot,deep):\n",
    "        if pRoot is None:\n",
    "            deep[0] = 0\n",
    "            return True\n",
    "        left,right = [-1],[-1]\n",
    "        if self.balanceCore(pRoot.left,left) and self.balanceCore(pRoot.right,right):\n",
    "            deep[0] = left[0]+1 if left[0]>right[0] else right[0]+1\n",
    "            dif = left[0]-right[0]\n",
    "            if dif>=-1 and dif<=1:\n",
    "                return True\n",
    "            else:\n",
    "                return False\n",
    "        else:\n",
    "            return False"
   ]
  },
  {
   "cell_type": "code",
   "execution_count": 7,
   "metadata": {},
   "outputs": [
    {
     "data": {
      "text/plain": [
       "True"
      ]
     },
     "execution_count": 7,
     "metadata": {},
     "output_type": "execute_result"
    }
   ],
   "source": [
    "a = TreeNode(8)\n",
    "b = TreeNode(6)\n",
    "c = TreeNode(10)\n",
    "d = TreeNode(5)\n",
    "e = TreeNode(7)\n",
    "f = TreeNode(9)\n",
    "g = TreeNode(11)\n",
    "a.left = b\n",
    "a.right =c\n",
    "b.left = d\n",
    "b.right = e\n",
    "c.left = f\n",
    "c.right = g\n",
    "\n",
    "s = Solution2()\n",
    "s.IsBalanced_Solution(a)"
   ]
  },
  {
   "cell_type": "code",
   "execution_count": 29,
   "metadata": {},
   "outputs": [
    {
     "data": {
      "text/plain": [
       "False"
      ]
     },
     "execution_count": 29,
     "metadata": {},
     "output_type": "execute_result"
    }
   ],
   "source": [
    "class Solution3:\n",
    "    def IsContinuous(self, numbers):\n",
    "        numbers = sorted(numbers)\n",
    "        zero_count = 0\n",
    "        start = 0\n",
    "        for i in numbers:\n",
    "            if i==0:\n",
    "                zero_count = zero_count+1\n",
    "                start = start+1\n",
    "            else:\n",
    "                break\n",
    "        end = start+1\n",
    "        gaps_count = 0\n",
    "        while end<len(numbers):\n",
    "            dif = (numbers[end]-numbers[start])\n",
    "            if dif ==0:\n",
    "                return False\n",
    "            if dif!=1:\n",
    "                gaps_count = gaps_count+(dif-1)\n",
    "            start,end = start+1,end+1\n",
    "        print (gaps_count,zero_count)\n",
    "        if zero_count==0:\n",
    "            return gaps_count == 0\n",
    "        else:\n",
    "            return zero_count>=gaps_count\n",
    "s = Solution3()\n",
    "s.IsContinuous([1,0,0,1,0])"
   ]
  },
  {
   "cell_type": "code",
   "execution_count": 14,
   "metadata": {},
   "outputs": [
    {
     "data": {
      "text/plain": [
       "[1, 2, 3, 1]"
      ]
     },
     "execution_count": 14,
     "metadata": {},
     "output_type": "execute_result"
    }
   ],
   "source": [
    "arr"
   ]
  },
  {
   "cell_type": "code",
   "execution_count": null,
   "metadata": {},
   "outputs": [],
   "source": []
  }
 ],
 "metadata": {
  "kernelspec": {
   "display_name": "Python 3",
   "language": "python",
   "name": "python3"
  },
  "language_info": {
   "codemirror_mode": {
    "name": "ipython",
    "version": 3
   },
   "file_extension": ".py",
   "mimetype": "text/x-python",
   "name": "python",
   "nbconvert_exporter": "python",
   "pygments_lexer": "ipython3",
   "version": "3.6.5"
  }
 },
 "nbformat": 4,
 "nbformat_minor": 2
}

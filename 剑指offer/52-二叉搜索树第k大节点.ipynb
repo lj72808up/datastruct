{
 "cells": [
  {
   "cell_type": "code",
   "execution_count": 29,
   "metadata": {},
   "outputs": [],
   "source": [
    "class TreeNode:\n",
    "    def __init__(self, x):\n",
    "        self.val = x\n",
    "        self.left = None\n",
    "        self.right = None\n",
    "        \n",
    "class Solution:\n",
    "    def __init__(self,k):\n",
    "        self.k = k\n",
    "    # 返回对应节点TreeNode\n",
    "    def KthNode(self, pRoot):\n",
    "        if pRoot is None:\n",
    "            return None\n",
    "        node = self.KthNode(pRoot.left)\n",
    "        if node is None:\n",
    "            self.k = self.k-1\n",
    "            if self.k ==0:\n",
    "                node = pRoot\n",
    "        print(\"k:\",self.k,\"node:\",pRoot.val)\n",
    "        if node is None:\n",
    "            node = self.KthNode(pRoot.right)\n",
    "        return node"
   ]
  },
  {
   "cell_type": "code",
   "execution_count": 30,
   "metadata": {},
   "outputs": [],
   "source": [
    "a = TreeNode(8)\n",
    "b = TreeNode(6)\n",
    "c = TreeNode(10)\n",
    "d = TreeNode(5)\n",
    "e = TreeNode(7)\n",
    "f = TreeNode(9)\n",
    "g = TreeNode(11)\n",
    "a.left = b\n",
    "a.right =c\n",
    "b.left = d\n",
    "b.right = e\n",
    "c.left = f\n",
    "c.right = g"
   ]
  },
  {
   "cell_type": "code",
   "execution_count": 36,
   "metadata": {},
   "outputs": [
    {
     "name": "stdout",
     "output_type": "stream",
     "text": [
      "k: -1 node: 5\n",
      "k: -2 node: 6\n",
      "k: -3 node: 7\n",
      "k: -4 node: 8\n",
      "k: -5 node: 9\n",
      "k: -6 node: 10\n",
      "k: -7 node: 11\n"
     ]
    },
    {
     "ename": "AttributeError",
     "evalue": "'NoneType' object has no attribute 'val'",
     "output_type": "error",
     "traceback": [
      "\u001b[0;31m---------------------------------------------------------------------------\u001b[0m",
      "\u001b[0;31mAttributeError\u001b[0m                            Traceback (most recent call last)",
      "\u001b[0;32m<ipython-input-36-8438278f9931>\u001b[0m in \u001b[0;36m<module>\u001b[0;34m()\u001b[0m\n\u001b[1;32m      1\u001b[0m \u001b[0ms\u001b[0m \u001b[0;34m=\u001b[0m \u001b[0mSolution\u001b[0m\u001b[0;34m(\u001b[0m\u001b[0;36m0\u001b[0m\u001b[0;34m)\u001b[0m\u001b[0;34m\u001b[0m\u001b[0m\n\u001b[0;32m----> 2\u001b[0;31m \u001b[0ms\u001b[0m\u001b[0;34m.\u001b[0m\u001b[0mKthNode\u001b[0m\u001b[0;34m(\u001b[0m\u001b[0ma\u001b[0m\u001b[0;34m)\u001b[0m\u001b[0;34m.\u001b[0m\u001b[0mval\u001b[0m\u001b[0;34m\u001b[0m\u001b[0m\n\u001b[0m",
      "\u001b[0;31mAttributeError\u001b[0m: 'NoneType' object has no attribute 'val'"
     ]
    }
   ],
   "source": [
    "s = Solution(0)\n",
    "s.KthNode(a).val"
   ]
  },
  {
   "cell_type": "code",
   "execution_count": null,
   "metadata": {},
   "outputs": [],
   "source": []
  }
 ],
 "metadata": {
  "kernelspec": {
   "display_name": "Python 3",
   "language": "python",
   "name": "python3"
  },
  "language_info": {
   "codemirror_mode": {
    "name": "ipython",
    "version": 3
   },
   "file_extension": ".py",
   "mimetype": "text/x-python",
   "name": "python",
   "nbconvert_exporter": "python",
   "pygments_lexer": "ipython3",
   "version": "3.6.5"
  }
 },
 "nbformat": 4,
 "nbformat_minor": 2
}

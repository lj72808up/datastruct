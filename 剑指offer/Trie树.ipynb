{
 "cells": [
  {
   "cell_type": "code",
   "execution_count": 1,
   "metadata": {},
   "outputs": [
    {
     "name": "stdout",
     "output_type": "stream",
     "text": [
      "['asd', 'das']\n"
     ]
    }
   ],
   "source": [
    "class TrieNode(object):\n",
    "    def __init__(self):\n",
    "        self.bwords = []\n",
    "        self.nexts = [None for i in range(26)]\n",
    "\n",
    "class Solver(object):\n",
    "    def insertNode(self,root,word):\n",
    "        if len(word)==0:\n",
    "            return\n",
    "        if root is None:\n",
    "            root = TrieNode()\n",
    "        sortedword = sorted(word)\n",
    "        for s in sortedword:\n",
    "            node = root.nexts[ord(s)-ord('a')]\n",
    "            if node is None:\n",
    "                root.nexts[ord(s)-ord('a')] = TrieNode()\n",
    "            root = root.nexts[ord(s)-ord('a')]\n",
    "        root.bwords.append(word)\n",
    "\n",
    "    def searchNode(self,root,word):\n",
    "        if root is None:\n",
    "            return False\n",
    "        sortedword = sorted(word)\n",
    "        for s in sortedword:\n",
    "            node = root.nexts[ord(s)-ord('a')]\n",
    "            if node is None:\n",
    "                return False\n",
    "            root = node\n",
    "        print(root.bwords)\n",
    "        return True\n",
    "\n",
    "if __name__ == \"__main__\":\n",
    "    s = Solver()\n",
    "    root = TrieNode()\n",
    "    s.insertNode(root,\"asd\")\n",
    "    s.insertNode(root,\"das\")\n",
    "    s.insertNode(root,\"dzz\")\n",
    "    s.searchNode(root,\"asd\")"
   ]
  },
  {
   "cell_type": "code",
   "execution_count": null,
   "metadata": {},
   "outputs": [],
   "source": []
  }
 ],
 "metadata": {
  "kernelspec": {
   "display_name": "Python 3",
   "language": "python",
   "name": "python3"
  },
  "language_info": {
   "codemirror_mode": {
    "name": "ipython",
    "version": 3
   },
   "file_extension": ".py",
   "mimetype": "text/x-python",
   "name": "python",
   "nbconvert_exporter": "python",
   "pygments_lexer": "ipython3",
   "version": "3.6.5"
  }
 },
 "nbformat": 4,
 "nbformat_minor": 2
}

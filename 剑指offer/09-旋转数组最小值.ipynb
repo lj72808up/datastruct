{
 "cells": [
  {
   "cell_type": "markdown",
   "metadata": {},
   "source": [
    "1. 属于什么问题  \n",
    "  这是一个查找问题， 想能否套用二分查找的思路  \n",
    "2. 问题的特点  \n",
    "  1. 旋转数组后， 形成2个递增子数组。 前面的子数组所有元素大于后面的子数组   \n",
    "3. 问题的边界  \n",
    "  1. 功能测试： 数组中有重复数字， 旋转的点是否在重复的数字之间  \n",
    "  2. 边界测试： 升序排序的数组， 只包含一个数字的数组"
   ]
  },
  {
   "cell_type": "code",
   "execution_count": 10,
   "metadata": {},
   "outputs": [],
   "source": [
    "def minNumberInRotateArray(rotateArray):\n",
    "    i = 0\n",
    "    j = len(rotateArray)-1\n",
    "    if rotateArray[i]<rotateArray[j]:\n",
    "        return rotateArray[i]\n",
    "    while(rotateArray[i]>=rotateArray[j]):\n",
    "        if j-i==1:\n",
    "            break\n",
    "        else:\n",
    "            mid = int((i+j)/2)\n",
    "            if rotateArray[i]==rotateArray[j] and rotateArray[j]==rotateArray[mid]:\n",
    "                return minInOrder(rotateArray[i,j+1])\n",
    "            if rotateArray[mid]>=rotateArray[i]:\n",
    "                i = mid\n",
    "            if rotateArray[mid]<=rotateArray[j]:\n",
    "                j = mid\n",
    "    return rotateArray[j]\n",
    "\n",
    "def minInOrder(rotateArray):\n",
    "    min_ele = rotateArray[0]\n",
    "    for elem in rotateArray:\n",
    "        if elem < min_ele:\n",
    "            min_ele = elem\n",
    "    return min_ele"
   ]
  },
  {
   "cell_type": "code",
   "execution_count": 12,
   "metadata": {},
   "outputs": [
    {
     "data": {
      "text/plain": [
       "3"
      ]
     },
     "execution_count": 12,
     "metadata": {},
     "output_type": "execute_result"
    }
   ],
   "source": [
    "l = [3,4,5,1,3]\n",
    "minNumberInRotateArray(l)"
   ]
  }
 ],
 "metadata": {
  "kernelspec": {
   "display_name": "Python 3",
   "language": "python",
   "name": "python3"
  },
  "language_info": {
   "codemirror_mode": {
    "name": "ipython",
    "version": 3
   },
   "file_extension": ".py",
   "mimetype": "text/x-python",
   "name": "python",
   "nbconvert_exporter": "python",
   "pygments_lexer": "ipython3",
   "version": "3.6.5"
  }
 },
 "nbformat": 4,
 "nbformat_minor": 2
}

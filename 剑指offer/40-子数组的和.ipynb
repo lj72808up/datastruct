{
 "cells": [
  {
   "cell_type": "code",
   "execution_count": 12,
   "metadata": {},
   "outputs": [],
   "source": [
    "def maxSubArraySum(arr):\n",
    "    if arr is None or len(arr)==0:\n",
    "        return None\n",
    "    curSum = 0\n",
    "    maxSum = 0\n",
    "    start,end = 0,0\n",
    "    for index,e in enumerate(arr):\n",
    "        if curSum<0 and e>0:\n",
    "            curSum = e\n",
    "            start = index # 更新start\n",
    "        else:\n",
    "            curSum = curSum + e\n",
    "        if curSum>maxSum:\n",
    "            maxSum = curSum\n",
    "            end = index   # 更新end\n",
    "    print(\"start:\",start,\"end:\",end)\n",
    "    return maxSum"
   ]
  },
  {
   "cell_type": "code",
   "execution_count": 13,
   "metadata": {},
   "outputs": [
    {
     "name": "stdout",
     "output_type": "stream",
     "text": [
      "start: 2 end: 8\n"
     ]
    },
    {
     "data": {
      "text/plain": [
       "19"
      ]
     },
     "execution_count": 13,
     "metadata": {},
     "output_type": "execute_result"
    }
   ],
   "source": [
    "maxSubArraySum([1,-2,3,10,-4,7,2,-5,6])"
   ]
  },
  {
   "cell_type": "code",
   "execution_count": null,
   "metadata": {},
   "outputs": [],
   "source": []
  }
 ],
 "metadata": {
  "kernelspec": {
   "display_name": "Python 3",
   "language": "python",
   "name": "python3"
  },
  "language_info": {
   "codemirror_mode": {
    "name": "ipython",
    "version": 3
   },
   "file_extension": ".py",
   "mimetype": "text/x-python",
   "name": "python",
   "nbconvert_exporter": "python",
   "pygments_lexer": "ipython3",
   "version": "3.6.5"
  }
 },
 "nbformat": 4,
 "nbformat_minor": 2
}

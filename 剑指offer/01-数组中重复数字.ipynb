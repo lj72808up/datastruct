{
 "cells": [
  {
   "cell_type": "markdown",
   "metadata": {},
   "source": [
    "#### 一. 问题描述\n",
    "长度为n的数组里, 所有元素都是(0~n-1)的数字. 数组中某些元素是重复的, 现在要找出那个数字重复\n",
    "\n",
    "#### 二. 解决思路\n",
    "1. 排序法:  \n",
    " 一种方法是把数组排序, 然后遍历这个有序数组找出重复数字.  \n",
    " 时间复杂度$O(nlogn+n)$  \n",
    "2. 哈希表法:  \n",
    " 还可以利用长度为n哈希表来解决, 每个元素映射到哈希表的一个位置上, 从而在$O(1)$内找到是否为重复元素  \n",
    " 算法总体时间复杂度为$O(n)$, 但他提高时间效率是以大小为$O(n)$的哈希表作为代价的\n",
    "3. 时间复杂度为$O(1)$,空间复杂度也为$O(1)$的算法  \n",
    "  1. 首先观察到, 数组中的数字都在(0,n-1), 因此如果数组中没有重复元素, 则当数组排序后, 数字$i$将出现在下标为$i$的位置  \n",
    "  2. 数组内依次遍历比较流程  \n",
    "  从头到尾扫描整个数组, 当扫描到下标为i的数字. 首先比较该数字(m表示)是否等于角标i;若是: 接着扫描下一个数字;若不是: 再拿它(m)和下标为m的数字比较. 如果它和下标为m的数字相等, 则找到一个重复数字(该数字在下标i和m的位置均出现了); 如果和下标为m的数字不等, 则把第i个数字和第m个数字交换, 把m放到属于他的位置. 接下来重复比较, 交换的过程, 直到找到一个重复的数字"
   ]
  },
  {
   "cell_type": "code",
   "execution_count": 1,
   "metadata": {},
   "outputs": [],
   "source": [
    "# 这里要特别注意~找到任意重复的一个值添加值到duplication, 重复多次的数值可能会多次添加到duplication中\n",
    "# 函数返回True/False\n",
    "def duplicate(arr, duplication):\n",
    "    flag = False\n",
    "    for i in range(0,len(arr)):\n",
    "        while i != arr[i]:\n",
    "            if arr[arr[i]] == arr[i]:\n",
    "                flag = True\n",
    "                duplication.append(arr[i])\n",
    "                break\n",
    "            else:\n",
    "                tmp = arr[arr[i]]\n",
    "                arr[arr[i]] = arr[i]\n",
    "                arr[i] = tmp\n",
    "    return flag"
   ]
  },
  {
   "cell_type": "code",
   "execution_count": 3,
   "metadata": {},
   "outputs": [
    {
     "name": "stdout",
     "output_type": "stream",
     "text": [
      "[3]\n"
     ]
    }
   ],
   "source": [
    "# 测试代码\n",
    "arr = [1,2,3,3,5,4]\n",
    "duplication = []\n",
    "duplicate(arr, duplication)\n",
    "print(duplication)"
   ]
  },
  {
   "cell_type": "code",
   "execution_count": null,
   "metadata": {},
   "outputs": [],
   "source": []
  }
 ],
 "metadata": {
  "kernelspec": {
   "display_name": "Python 3",
   "language": "python",
   "name": "python3"
  },
  "language_info": {
   "codemirror_mode": {
    "name": "ipython",
    "version": 3
   },
   "file_extension": ".py",
   "mimetype": "text/x-python",
   "name": "python",
   "nbconvert_exporter": "python",
   "pygments_lexer": "ipython3",
   "version": "3.6.5"
  }
 },
 "nbformat": 4,
 "nbformat_minor": 2
}

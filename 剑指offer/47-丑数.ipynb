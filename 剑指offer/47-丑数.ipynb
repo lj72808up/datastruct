{
 "cells": [
  {
   "cell_type": "code",
   "execution_count": 3,
   "metadata": {},
   "outputs": [],
   "source": [
    "class Solution:\n",
    "    def GetUglyNumber_Solution(self, index):\n",
    "        if index<=0:\n",
    "            return 0\n",
    "        res = [1] # 丑数结果,第1个元素为1\n",
    "        index2 = 0\n",
    "        index3 = 0\n",
    "        index5 = 0\n",
    "        count=index\n",
    "        while count>0:\n",
    "            nextUglyNumber = min(res[index2]*2,res[index3]*3,res[index5]*5)\n",
    "            res.append(nextUglyNumber)\n",
    "            while res[index2]*2 <= nextUglyNumber:\n",
    "                index2 = index2+1\n",
    "            while res[index3]*3 <= nextUglyNumber:\n",
    "                index3 = index3+1\n",
    "            while res[index5]*5 <= nextUglyNumber:\n",
    "                index5 = index5+1\n",
    "            count = count-1\n",
    "        print(res)\n",
    "        return res[index-1]"
   ]
  },
  {
   "cell_type": "code",
   "execution_count": 5,
   "metadata": {},
   "outputs": [
    {
     "name": "stdout",
     "output_type": "stream",
     "text": [
      "[1, 2, 3, 4, 5, 6]\n"
     ]
    },
    {
     "data": {
      "text/plain": [
       "5"
      ]
     },
     "execution_count": 5,
     "metadata": {},
     "output_type": "execute_result"
    }
   ],
   "source": [
    "Solution().GetUglyNumber_Solution(5)"
   ]
  },
  {
   "cell_type": "code",
   "execution_count": null,
   "metadata": {},
   "outputs": [],
   "source": []
  }
 ],
 "metadata": {
  "kernelspec": {
   "display_name": "Python 3",
   "language": "python",
   "name": "python3"
  },
  "language_info": {
   "codemirror_mode": {
    "name": "ipython",
    "version": 3
   },
   "file_extension": ".py",
   "mimetype": "text/x-python",
   "name": "python",
   "nbconvert_exporter": "python",
   "pygments_lexer": "ipython3",
   "version": "3.6.5"
  }
 },
 "nbformat": 4,
 "nbformat_minor": 2
}

{
 "cells": [
  {
   "cell_type": "code",
   "execution_count": 5,
   "metadata": {},
   "outputs": [
    {
     "name": "stdout",
     "output_type": "stream",
     "text": [
      "[3, 2, 1]\n"
     ]
    }
   ],
   "source": [
    "def swap(ss,i,j):\n",
    "    '''交换列表对应角标的元素'''\n",
    "    tmp = ss[i]\n",
    "    ss[i] = ss[j]\n",
    "    ss[j] = tmp\n",
    "ss = [1,2,3]\n",
    "swap(ss,0,2)\n",
    "print(ss)"
   ]
  },
  {
   "cell_type": "code",
   "execution_count": 17,
   "metadata": {},
   "outputs": [
    {
     "name": "stdout",
     "output_type": "stream",
     "text": [
      "['a', 'b', 'c', '\\n']\n",
      "['a', 'c', 'b', '\\n']\n",
      "['b', 'a', 'c', '\\n']\n",
      "['b', 'c', 'a', '\\n']\n",
      "['c', 'b', 'a', '\\n']\n",
      "['c', 'a', 'b', '\\n']\n"
     ]
    }
   ],
   "source": [
    "ss = [\"a\",\"b\",\"c\",\"\\n\"]\n",
    "_len = 3\n",
    "def Permutation(ss,i):\n",
    "    if ss[i] == \"\\n\":\n",
    "        print(ss)\n",
    "    else:\n",
    "        for j in range(i,len(ss)-1):\n",
    "#             print(\"i:\",i,\"j:\",j)\n",
    "            ss[i],ss[j] = ss[j],ss[i]\n",
    "            Permutation(ss,i+1)\n",
    "            ss[i],ss[j] = ss[j],ss[i]\n",
    "            \n",
    "Permutation(ss,0)"
   ]
  },
  {
   "cell_type": "code",
   "execution_count": null,
   "metadata": {},
   "outputs": [],
   "source": []
  }
 ],
 "metadata": {
  "kernelspec": {
   "display_name": "Python 3",
   "language": "python",
   "name": "python3"
  },
  "language_info": {
   "codemirror_mode": {
    "name": "ipython",
    "version": 3
   },
   "file_extension": ".py",
   "mimetype": "text/x-python",
   "name": "python",
   "nbconvert_exporter": "python",
   "pygments_lexer": "ipython3",
   "version": "3.6.5"
  }
 },
 "nbformat": 4,
 "nbformat_minor": 2
}

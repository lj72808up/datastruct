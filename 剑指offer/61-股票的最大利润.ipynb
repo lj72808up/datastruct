{
 "cells": [
  {
   "cell_type": "code",
   "execution_count": 6,
   "metadata": {},
   "outputs": [
    {
     "name": "stdout",
     "output_type": "stream",
     "text": [
      "start: 3 end: 6\n"
     ]
    },
    {
     "data": {
      "text/plain": [
       "11"
      ]
     },
     "execution_count": 6,
     "metadata": {},
     "output_type": "execute_result"
    }
   ],
   "source": [
    "def maxDiff(arr):\n",
    "    start,end = 0,1\n",
    "    minE = arr[0]\n",
    "    maxdif = arr[1] - minE\n",
    "    for i in range(2,len(arr)):\n",
    "        if arr[i-1]<minE:\n",
    "            minE = arr[i-1]\n",
    "            start = i-1\n",
    "        if arr[i]-minE > maxdif:\n",
    "            end = i\n",
    "            maxdif = arr[i]-minE\n",
    "    print(\"start:\",start,\"end:\",end)\n",
    "    return maxdif\n",
    "\n",
    "maxDiff([9,11,8,5,7,12,16,14])            "
   ]
  },
  {
   "cell_type": "code",
   "execution_count": null,
   "metadata": {},
   "outputs": [],
   "source": []
  }
 ],
 "metadata": {
  "kernelspec": {
   "display_name": "Python 3",
   "language": "python",
   "name": "python3"
  },
  "language_info": {
   "codemirror_mode": {
    "name": "ipython",
    "version": 3
   },
   "file_extension": ".py",
   "mimetype": "text/x-python",
   "name": "python",
   "nbconvert_exporter": "python",
   "pygments_lexer": "ipython3",
   "version": "3.6.5"
  }
 },
 "nbformat": 4,
 "nbformat_minor": 2
}

{
 "cells": [
  {
   "cell_type": "markdown",
   "metadata": {},
   "source": [
    "#### 一. 问题描述\n",
    "二维数组, 每一行从左到右顺序递增, 每一列从上到下顺序递增. 给定这样一个二维数组和1个整数, 判断数组中是否有该整数\n",
    "<img src=\"img/erweishuzuchazhao.png\" height=\"60%\" width=\"60%\">\n",
    "\n",
    "#### 二. 解决办法  \n",
    "观察矩阵发现, 每次选取数组右上角的数字和待查数字比较. 若相等则直接返回; 若待查数字比它大, 则其出现的位置在右上角数字的下一行, 因此可以剔除右上角数字所在行; 若待查数字比它小, 则其出现位置在右上角的左侧, 因此可以剔除右上角数字所在列. 也就是说, 如果待查数字不在数组的右上角, 则每次都在数组的查找范围内剔除一行或一列, 每一步缩小查找范围, 直到找到要查找的数字. 下图所示, 在二维数组中查找数字\"7\"    \n",
    "<img src=\"img/erweishuzu2.png\" height=\"60%\" width=\"60%\">"
   ]
  },
  {
   "cell_type": "code",
   "execution_count": 26,
   "metadata": {},
   "outputs": [],
   "source": [
    "def find(target, array):\n",
    "    rows = len(array)\n",
    "    columns = len(array[0])\n",
    "    m = 0\n",
    "    n = columns-1\n",
    "    while m<rows and n>=0:\n",
    "        if array[m][n]==target:\n",
    "            return True\n",
    "        if array[m][n]>target:\n",
    "            n = n-1 \n",
    "        if array[m][n]<target:\n",
    "            m = m+1\n",
    "    print(m,n)\n",
    "    return False"
   ]
  },
  {
   "cell_type": "code",
   "execution_count": 27,
   "metadata": {},
   "outputs": [
    {
     "data": {
      "text/plain": [
       "True"
      ]
     },
     "execution_count": 27,
     "metadata": {},
     "output_type": "execute_result"
    }
   ],
   "source": [
    "find(1,[[1,2,8,9],[2,4,9,12],[4,7,10,13],[6,8,11,15]])"
   ]
  }
 ],
 "metadata": {
  "kernelspec": {
   "display_name": "Python 3",
   "language": "python",
   "name": "python3"
  },
  "language_info": {
   "codemirror_mode": {
    "name": "ipython",
    "version": 3
   },
   "file_extension": ".py",
   "mimetype": "text/x-python",
   "name": "python",
   "nbconvert_exporter": "python",
   "pygments_lexer": "ipython3",
   "version": "3.6.5"
  }
 },
 "nbformat": 4,
 "nbformat_minor": 2
}

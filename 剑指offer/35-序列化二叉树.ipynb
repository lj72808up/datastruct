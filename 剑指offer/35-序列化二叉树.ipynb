{
 "cells": [
  {
   "cell_type": "code",
   "execution_count": 1,
   "metadata": {},
   "outputs": [],
   "source": [
    "from __future__ import print_function\n",
    "class BinNode(object):\n",
    "    '''二叉节点'''\n",
    "    def __init__(self, data, parent=None, left=None, right=None, height=0,):\n",
    "        self.val = data\n",
    "        self.left = None\n",
    "        self.right = None\n",
    "\n",
    "class BinNodeUtil:\n",
    "    @staticmethod\n",
    "    def traversePre(node):\n",
    "        '''先序遍历'''\n",
    "        if node is None:\n",
    "            return\n",
    "        print(node.val,end=\" \")\n",
    "        if node.left is not None:\n",
    "            BinNodeUtil.traversePre(node.left)\n",
    "        if node.right is not None:\n",
    "            BinNodeUtil.traversePre(node.right)\n",
    "\n"
   ]
  },
  {
   "cell_type": "code",
   "execution_count": 2,
   "metadata": {},
   "outputs": [],
   "source": [
    "# 构建一颗二叉树\n",
    "a = BinNode(1)\n",
    "b = BinNode(2)\n",
    "c = BinNode(3)\n",
    "d = BinNode(4)\n",
    "e = BinNode(5)\n",
    "f = BinNode(6)\n",
    "a.left = b\n",
    "a.right = c\n",
    "b.left = d\n",
    "c.left = e\n",
    "c.right = f"
   ]
  },
  {
   "cell_type": "code",
   "execution_count": 5,
   "metadata": {},
   "outputs": [
    {
     "name": "stdout",
     "output_type": "stream",
     "text": [
      "1,2,4,$,$,$,3,5,$,$,6,$,$,\n",
      "1 2 4 3 5 6 "
     ]
    }
   ],
   "source": [
    "class Solution:\n",
    "    def Serialize(self, root):\n",
    "        '''序列化二叉树'''\n",
    "        print(root.val,end=\",\")\n",
    "        if root.left is not None:\n",
    "            self.Serialize(root.left)\n",
    "        else:\n",
    "            print(\"$\",end=\",\")\n",
    "        if root.right is not None:\n",
    "            self.Serialize(root.right)\n",
    "        else:\n",
    "            print(\"$\",end=\",\")\n",
    "        \n",
    "    def Deserialize(self, s):\n",
    "        '''反序列化二叉树'''\n",
    "        strs = s.split(\",\")\n",
    "        self.index = 0\n",
    "        root = self.DeserializeCore(strs)\n",
    "        return root\n",
    "\n",
    "    def DeserializeCore(self,strs):\n",
    "        str = strs[self.index]\n",
    "        if str != \"$\":\n",
    "            node = BinNode(str)\n",
    "            self.index = self.index +1\n",
    "            node.left = self.DeserializeCore(strs)\n",
    "            node.right = self.DeserializeCore(strs)\n",
    "            return node\n",
    "        else:\n",
    "            self.index = self.index +1\n",
    "            return None\n",
    "\n",
    "\n",
    "s = Solution()\n",
    "s.Serialize(a)\n",
    "print(\"\")\n",
    "root = s.Deserialize(\"1,2,4,$,$,$,3,5,$,$,6,$,$\")\n",
    "BinNodeUtil.traversePre(root)"
   ]
  },
  {
   "cell_type": "code",
   "execution_count": null,
   "metadata": {},
   "outputs": [],
   "source": []
  },
  {
   "cell_type": "code",
   "execution_count": null,
   "metadata": {},
   "outputs": [],
   "source": []
  }
 ],
 "metadata": {
  "kernelspec": {
   "display_name": "Python 3",
   "language": "python",
   "name": "python3"
  },
  "language_info": {
   "codemirror_mode": {
    "name": "ipython",
    "version": 3
   },
   "file_extension": ".py",
   "mimetype": "text/x-python",
   "name": "python",
   "nbconvert_exporter": "python",
   "pygments_lexer": "ipython3",
   "version": "3.6.5"
  }
 },
 "nbformat": 4,
 "nbformat_minor": 2
}

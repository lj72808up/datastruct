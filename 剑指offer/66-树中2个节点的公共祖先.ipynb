{
 "cells": [
  {
   "cell_type": "code",
   "execution_count": 1,
   "metadata": {},
   "outputs": [],
   "source": [
    "from __future__ import print_function\n",
    "class BinNode(object):\n",
    "    def __init__(self, data, parent=None, left=None, right=None, height=0,):\n",
    "        self.val = data\n",
    "        self.left = None\n",
    "        self.right = None\n",
    "    def __str__(self):\n",
    "        return str(self.val)"
   ]
  },
  {
   "cell_type": "code",
   "execution_count": 2,
   "metadata": {},
   "outputs": [],
   "source": [
    "a = BinNode(1)\n",
    "b = BinNode(2)\n",
    "c = BinNode(3)\n",
    "d = BinNode(4)\n",
    "e = BinNode(5)\n",
    "f = BinNode(6)\n",
    "g = BinNode(7)\n",
    "h = BinNode(8)\n",
    "a.left = b\n",
    "a.right = c\n",
    "b.left = d\n",
    "b.right = e\n",
    "e.left = g\n",
    "c.right = f\n",
    "g.left = h\n",
    "\n",
    "z = BinNode(99)"
   ]
  },
  {
   "cell_type": "code",
   "execution_count": null,
   "metadata": {},
   "outputs": [],
   "source": [
    "class Solution(object):\n",
    "    def findPath(self,root,node,arr):\n",
    "        if root is None:\n",
    "            return False\n",
    "        print(\"visit:\",root.val)\n",
    "        if root is not node:\n",
    "            arr.append(root.val)\n",
    "        else:\n",
    "            arr.append(root.val)\n",
    "            return True\n",
    "        flag = self.findPath(root.left,node,arr) or self.findPath(root.right,node,arr)\n",
    "        # 如果该节点不在到node的路径中, 则从arr中删除该节点\n",
    "        if not flag:\n",
    "            arr.pop()\n",
    "        return flag"
   ]
  },
  {
   "cell_type": "code",
   "execution_count": null,
   "metadata": {},
   "outputs": [],
   "source": [
    "s = Solution()\n",
    "arr = []\n",
    "print(s.findPath(a,f,arr))\n",
    "print(arr)\n",
    "arr = []\n",
    "print(s.findPath(a,b,arr))\n",
    "print(arr)"
   ]
  },
  {
   "cell_type": "code",
   "execution_count": 35,
   "metadata": {},
   "outputs": [],
   "source": [
    "class Solution(object):\n",
    "    def __init__(self,n=0):\n",
    "        self.sum_val = 0\n",
    "    def getNum(self,arr):\n",
    "        num = 0\n",
    "        for idx,e in enumerate(arr):\n",
    "            num = num + pow(10,(len(arr)-1-idx))*e\n",
    "        return num\n",
    "    def add(self,node,arr):\n",
    "        if node is None:\n",
    "            return\n",
    "        arr.append(node.val)\n",
    "        if node.left is None and node.right is None:\n",
    "            print(arr)\n",
    "            number = self.getNum(arr)\n",
    "            self.sum_val = self.sum_val+number\n",
    "        else:\n",
    "            self.add(node.left,arr)\n",
    "            self.add(node.right,arr)\n",
    "        arr.pop()"
   ]
  },
  {
   "cell_type": "code",
   "execution_count": 36,
   "metadata": {},
   "outputs": [],
   "source": [
    "s1 =  Solution()"
   ]
  },
  {
   "cell_type": "code",
   "execution_count": 37,
   "metadata": {},
   "outputs": [
    {
     "name": "stdout",
     "output_type": "stream",
     "text": [
      "[1, 2, 4]\n",
      "[1, 2, 5, 7, 8]\n",
      "[1, 3, 6]\n",
      "12838\n"
     ]
    }
   ],
   "source": [
    "s1.add(a,[])\n",
    "print(s1.sum_val)"
   ]
  }
 ],
 "metadata": {
  "kernelspec": {
   "display_name": "Python 3",
   "language": "python",
   "name": "python3"
  },
  "language_info": {
   "codemirror_mode": {
    "name": "ipython",
    "version": 3
   },
   "file_extension": ".py",
   "mimetype": "text/x-python",
   "name": "python",
   "nbconvert_exporter": "python",
   "pygments_lexer": "ipython3",
   "version": "3.6.5"
  }
 },
 "nbformat": 4,
 "nbformat_minor": 2
}

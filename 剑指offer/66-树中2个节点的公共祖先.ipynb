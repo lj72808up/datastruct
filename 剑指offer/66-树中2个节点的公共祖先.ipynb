{
 "cells": [
  {
   "cell_type": "code",
   "execution_count": 18,
   "metadata": {},
   "outputs": [],
   "source": [
    "from __future__ import print_function\n",
    "class BinNode(object):\n",
    "    def __init__(self, data, parent=None, left=None, right=None, height=0,):\n",
    "        self.val = data\n",
    "        self.left = None\n",
    "        self.right = None\n",
    "    def __str__(self):\n",
    "        return str(self.val)"
   ]
  },
  {
   "cell_type": "code",
   "execution_count": 22,
   "metadata": {},
   "outputs": [],
   "source": [
    "a = BinNode(1)\n",
    "b = BinNode(2)\n",
    "c = BinNode(3)\n",
    "d = BinNode(4)\n",
    "e = BinNode(5)\n",
    "f = BinNode(6)\n",
    "g = BinNode(7)\n",
    "h = BinNode(8)\n",
    "a.left = b\n",
    "a.right = c\n",
    "b.left = d\n",
    "b.right = e\n",
    "e.left = g\n",
    "c.right = f\n",
    "g.left = h\n",
    "\n",
    "z = BinNode(99)"
   ]
  },
  {
   "cell_type": "code",
   "execution_count": 20,
   "metadata": {},
   "outputs": [],
   "source": [
    "class Solution(object):\n",
    "    def findPath(self,root,node,arr):\n",
    "        if root is None:\n",
    "            return False\n",
    "        if root is not node:\n",
    "            arr.append(root.val)\n",
    "        else:\n",
    "            arr.append(root.val)\n",
    "            return True\n",
    "        flag = self.findPath(root.left,node,arr) or self.findPath(root.right,node,arr)\n",
    "        # 如果该节点不在到node的路径中, 则从arr中删除该节点\n",
    "        if not flag:\n",
    "            arr.pop()\n",
    "        return flag"
   ]
  },
  {
   "cell_type": "code",
   "execution_count": 25,
   "metadata": {},
   "outputs": [
    {
     "name": "stdout",
     "output_type": "stream",
     "text": [
      "True\n",
      "[1, 3, 6]\n",
      "False\n",
      "[]\n"
     ]
    }
   ],
   "source": [
    "s = Solution()\n",
    "arr = []\n",
    "print(s.findPath(a,f,arr))\n",
    "print(arr)\n",
    "arr = []\n",
    "print(s.findPath(a,z,arr))\n",
    "print(arr)"
   ]
  }
 ],
 "metadata": {
  "kernelspec": {
   "display_name": "Python 3",
   "language": "python",
   "name": "python3"
  },
  "language_info": {
   "codemirror_mode": {
    "name": "ipython",
    "version": 3
   },
   "file_extension": ".py",
   "mimetype": "text/x-python",
   "name": "python",
   "nbconvert_exporter": "python",
   "pygments_lexer": "ipython3",
   "version": "3.6.5"
  }
 },
 "nbformat": 4,
 "nbformat_minor": 2
}

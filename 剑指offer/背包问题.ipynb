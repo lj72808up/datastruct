{
 "cells": [
  {
   "cell_type": "markdown",
   "metadata": {},
   "source": [
    "[https://www.jianshu.com/p/25f4a183ede5](https://www.jianshu.com/p/25f4a183ede5)  \n",
    "[https://www.jianshu.com/p/0b9018bbacd7?utm_campaign=maleskine&utm_content=note&utm_medium=seo_notes&utm_source=recommendation](https://www.jianshu.com/p/0b9018bbacd7?utm_campaign=maleskine&utm_content=note&utm_medium=seo_notes&utm_source=recommendation)"
   ]
  },
  {
   "cell_type": "code",
   "execution_count": 18,
   "metadata": {},
   "outputs": [],
   "source": [
    "import numpy as np\n",
    "\n",
    "def solve(values,weights,totalWeight):\n",
    "    n = len(values)\n",
    "    arr = np.zeros((n,totalWeight+1),dtype=np.int32)\n",
    "    for i in range(1,n):\n",
    "        for w in range(1,totalWeight+1):\n",
    "            if weights[i]>w:\n",
    "                arr[i][w] = arr[i-1][w]\n",
    "            value_include_i = arr[i-1][w-weights[i]]+values[i]\n",
    "            value_noinclude_i = arr[i-1][w]\n",
    "            arr[i][w] = max(value_include_i,value_noinclude_i)\n",
    "#     return arr[-1][-1]\n",
    "    return arr[n-1][totalWeight]"
   ]
  },
  {
   "cell_type": "code",
   "execution_count": 19,
   "metadata": {},
   "outputs": [
    {
     "name": "stdout",
     "output_type": "stream",
     "text": [
      "220\n"
     ]
    }
   ],
   "source": [
    "v = [0,60,100,120]\n",
    "w = [0,10,20,30]\n",
    "totalWeight = 50\n",
    "result = solve(v,w,totalWeight)\n",
    "print(result)"
   ]
  }
 ],
 "metadata": {
  "kernelspec": {
   "display_name": "Python 3",
   "language": "python",
   "name": "python3"
  },
  "language_info": {
   "codemirror_mode": {
    "name": "ipython",
    "version": 3
   },
   "file_extension": ".py",
   "mimetype": "text/x-python",
   "name": "python",
   "nbconvert_exporter": "python",
   "pygments_lexer": "ipython3",
   "version": "3.6.5"
  }
 },
 "nbformat": 4,
 "nbformat_minor": 2
}

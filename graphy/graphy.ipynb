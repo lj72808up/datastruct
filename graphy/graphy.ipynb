{
 "cells": [
  {
   "cell_type": "markdown",
   "metadata": {},
   "source": [
    "#### 一. 邻接矩阵\n",
    "1. 什么是邻接矩阵  \n",
    "  1. 邻接矩阵是图的一种表示方法, 能表示出顶点和边的关系  \n",
    "  2. 邻接矩阵比邻接表在时间性能上更好, 因为大量查找变得操作可以通过矩阵直接定位, 而邻接表只能遍历顶点所在链表\n",
    "1. 邻接矩阵 : 使用二维数组表示图中顶点和边的关系  \n",
    " 1. 无向图 : $A[i][j]$=1表示两个定点之间存在边. 无向图的邻接矩阵是对称阵  \n",
    " 2. 有向图 : $A[i][j]$=1表示两个定点之间存在从定点$i$ 到顶点$j$ 的边  \n",
    " 3. 网络 : $A[i][j]$=n表示顶点之间边的权值\n",
    " \n",
    "2. 邻接表编程实现的功能    \n",
    "  1. 邻接表使用二维矩阵表示边集,一维向量表示顶点集\n",
    "  3. 顶点上的操作 :  \n",
    "    1. 获取顶点的一些信息  \n",
    "    2. 插入新顶点 :  \n",
    "     插入新顶点时, 顶点集增加, 边集中的入边和出边要设置成None  \n",
    "    3. 删除顶点 :  \n",
    "     删除顶点一切相关的边, 并修改相关顶点的入度出度\n",
    "  4. 边的操作  \n",
    "    1. 插入新边  \n",
    "    2. 删除边  \n",
    "     插入删除边都要修改对应的出度入度"
   ]
  },
  {
   "cell_type": "code",
   "execution_count": 125,
   "metadata": {
    "collapsed": true
   },
   "outputs": [],
   "source": [
    "###########################\n",
    "###### 顶点和边的状态 #######\n",
    "###########################\n",
    "from enum import Enum\n",
    "class Vstatus(Enum):\n",
    "    '''顶点状态'''\n",
    "    UNDISCOVERED = 1\n",
    "    DISCOVERED = 2\n",
    "    VISITED = 3\n",
    "class EType(Enum):\n",
    "    '''边的状态'''\n",
    "    UNDETERMINED = 1\n",
    "    TREE = 2\n",
    "    CROSS = 3\n",
    "    FORWARD = 4\n",
    "    BACKWARD = 5"
   ]
  },
  {
   "cell_type": "code",
   "execution_count": 126,
   "metadata": {
    "collapsed": true
   },
   "outputs": [],
   "source": [
    "import sys\n",
    "\n",
    "class Vertex(object):\n",
    "    '''顶点'''\n",
    "    def __init__(self,data,in_degree = 0,out_degree = 0,status = Vstatus.UNDISCOVERED,d_time = -1,\n",
    "                f_time = -1,parent = -1,priority = sys.maxint):\n",
    "        self.data = data\n",
    "        self.in_degree = in_degree  # 入度\n",
    "        self.out_degree = out_degree # 出度\n",
    "        self.status = status\n",
    "        self.d_time = d_time  # discover time\n",
    "        self.f_time = f_time  # finish time\n",
    "        self.parent = parent  # 顶点在遍历树中的父节点\n",
    "        self.priority = priority # 顶点在遍历树中的优先级\n",
    "        \n",
    "class Edge(object):\n",
    "    '''边'''\n",
    "    def __init__(self,data,weight=-1,e_type=EType.UNDETERMINED):\n",
    "        self.data = data\n",
    "        self.weight = weight\n",
    "        self.e_type = e_type\n",
    "    \n",
    "class Graph_Matrix(object):\n",
    "    '''邻接矩阵表示的图'''\n",
    "    def __init__(self):\n",
    "        self.n = 0 # 顶点数\n",
    "        self.e = 0 # 边数\n",
    "        self.V = [] # 顶点集 : 一维数组\n",
    "        self.E = [] # 边集 : 二维数组       \n",
    "        \n",
    "    ##### 顶点操作 \n",
    "    def insert_vertex(self,vertex_data):\n",
    "        '''插入顶点, 将其入边, 出边设成None'''\n",
    "        self.n = self.n + 1\n",
    "        # 出边设成None\n",
    "        self.E.append([None for i in range(self.n)])\n",
    "        # 入边设成None\n",
    "        for i in range(self.n): \n",
    "            self.E[i].append(None)\n",
    "        self.V.append(Vertex(vertex_data))\n",
    "        \n",
    "    def remove_vertes(self,i):\n",
    "        '''删除顶点时,既要从顶点集中删除, 又要删除其关联变, 对应入度出度减1'''\n",
    "        for j in range(self.n):\n",
    "            self.E[j] = self.E[j][:i] + self.E[j][i+1:]  # 使用列表切片删除列表index下的元素\n",
    "            self.V[j].in_degree = self.V[j].out_degree-1 # 出度减1\n",
    "        for j in range(self.n):\n",
    "            if self.exist_edge(i,j):\n",
    "                self.V[j].in_degree = self.V[j].in_degree-1 # 入度减1\n",
    "        self.E = self.E[:i]+self.E[i+1:]  # 删除该顶点所有出边集合\n",
    "        v_remove = self.V[i]\n",
    "        self.V = self.V[:i]+self.V[i+1:]  \n",
    "        return v_remove\n",
    "    \n",
    "    ### 边操作\n",
    "    def exist_edge(self,i,j):\n",
    "        return self.E[i][j] is not None\n",
    "    def insert_edge(self,edge_data,w,i,j):\n",
    "        if self.exist_edge(i,j):  # 确保边尚不存在\n",
    "            print 'return'\n",
    "            return \n",
    "        self.E[i][j] = Edge(edge_data,w)\n",
    "        self.e = self.e+1 \n",
    "        self.V[i].out_degree = self.V[i].out_degree+1\n",
    "        self.V[j].in_degree = self.V[j].in_degree+1\n",
    "    def remove_edge(self,i,j):\n",
    "        '''删除边'''\n",
    "        e_bak = self.E[i][j]\n",
    "        self.E[i][j] = None\n",
    "        e = e-1\n",
    "        self.V[i].out_degree = self.V[i].out_degree-1\n",
    "        self.V[j].in_degree = self.V[j].in_degree-1\n",
    "        return e_bak"
   ]
  },
  {
   "cell_type": "markdown",
   "metadata": {},
   "source": [
    "#### 二. 遍历\n",
    "1. 深度优先    \n",
    "  1. 深度优先遍历, 优先选取最后一个被访问到的顶点的邻居  \n",
    "  2. 以顶点$s$为基点的$DFS$搜索, 首先访问$s$, 再从所有尚未访问到的邻居中任取其一, 并以之为基点, 再次递归进行$DFS$搜索  \n",
    "   因此, 顶点被访问到的次序, 类似于树的先序遍历; 而各顶点被访问完毕的次序, 类似后序遍历  \n",
    "  3. 如下程序展示了深度优先遍历如下图  \n",
    "  <img src='img/shenduyouxian.png' height='30%' width='30%'>\n",
    "2. 广度优先  \n",
    "  1. 广度优先遍历, 越早被访问到的顶点, 其邻居优先被访问  \n",
    "  2. 广度优先遍历在发现顶点后立刻访问, 所以顶点的d_time(发现时间)和f_time(完成时间)相等.  \n",
    "   而深度优先遍历不同, 深度优先在发现顶点后, 不能立即访问, 先把自己和其邻居入栈, 等待最后回溯到该顶点时, 才能弹栈访问"
   ]
  },
  {
   "cell_type": "code",
   "execution_count": 127,
   "metadata": {
    "collapsed": true
   },
   "outputs": [],
   "source": [
    "class GraphTraverse(object):\n",
    "    @staticmethod\n",
    "    def DFS(start,graph,visit):\n",
    "        '''start: 从哪个顶点开始遍历, 因为存在多连通分量的情况, 所以需要遍历整个节点看师傅都被访问到了\n",
    "           graph: 需要被遍历的图\n",
    "           visit: 访问函数\n",
    "                `visit(current_idx,current_vertex)`: 2个参数, 顶点index和顶点对象\n",
    "        '''\n",
    "        edge_matrix = graph.E\n",
    "        vertexs = graph.V\n",
    "        n = graph.n  # 顶点个数\n",
    "        \n",
    "        clock = 1\n",
    "        stack = []\n",
    "        \n",
    "        traverse_idx_order = range(start,n)+range(0,start) # 从开始位置向后遍历\n",
    "        \n",
    "        for start in traverse_idx_order:\n",
    "            if vertexs[start].status == Vstatus.UNDISCOVERED:\n",
    "                stack.append(start)\n",
    "                vertexs[start].d_time = clock\n",
    "                clock = clock + 1\n",
    "            while len(stack) >0:\n",
    "                s = stack[-1]\n",
    "                # 所有邻居节点\n",
    "                neighbors_idxs = [i for i in range(n) if edge_matrix[s][i] is not None]\n",
    "                undiscover_neighbors = [i for i in neighbors_idxs if vertexs[i].status==Vstatus.UNDISCOVERED]\n",
    "                disovered_neighbors = [i for i in neighbors_idxs if vertexs[i].status==Vstatus.DISCOVERED]\n",
    "                visited_neighbors = [i for i in neighbors_idxs if vertexs[i].status==Vstatus.VISITED]\n",
    "\n",
    "                # 1.如果栈顶顶点没有'未访问'的邻居, 则可弹栈进行访问\n",
    "                if len(undiscover_neighbors)==0:\n",
    "                    current_idx = stack.pop() # 弹栈\n",
    "                    current_vertex = vertexs[current_idx]\n",
    "                    current_vertex.status = Vstatus.VISITED\n",
    "                    current_vertex.f_time = clock\n",
    "                    visit(current_idx,current_vertex)\n",
    "                # 2.未发现的邻居节点\n",
    "                else:\n",
    "                    for i in undiscover_neighbors:\n",
    "                        stack.append(i) # 未发现的邻居节点先入栈,但不访问.\n",
    "                        vertexs[i].status = Vstatus.DISCOVERED\n",
    "                        vertexs[i].parent = s\n",
    "                        vertexs[i].d_time = clock\n",
    "                        edge_matrix[s][i].status = EType.TREE\n",
    "\n",
    "                # 3.已发现的邻居节点\n",
    "                for i in disovered_neighbors:\n",
    "                    edge_matrix[s][i].status = EType.BACKWARD\n",
    "\n",
    "                # 4.已访问的邻居节点\n",
    "                for i in visited_neighbors:\n",
    "                    edge_matrix[s][i].status = (EType.CROSS if vertexs[s].d_time < vertexs[i].d_time else EType.FORWARD)\n",
    "\n",
    "                clock = clock + 1\n",
    "\n",
    "    @staticmethod       \n",
    "    def BFS(start,graph):\n",
    "        '''广度优先遍历'''\n",
    "        return\n",
    "        "
   ]
  },
  {
   "cell_type": "code",
   "execution_count": 128,
   "metadata": {},
   "outputs": [
    {
     "name": "stdout",
     "output_type": "stream",
     "text": [
      "index->vertex.data: 2->C, dtime:5, ftime:6\n",
      "index->vertex.data: 6->G, dtime:4, ftime:7\n",
      "index->vertex.data: 5->F, dtime:3, ftime:8\n",
      "index->vertex.data: 4->E, dtime:2, ftime:9\n",
      "index->vertex.data: 1->B, dtime:10, ftime:11\n",
      "index->vertex.data: 0->A, dtime:2, ftime:12\n",
      "index->vertex.data: 3->D, dtime:1, ftime:13\n"
     ]
    }
   ],
   "source": [
    "if __name__ == '__main__':\n",
    "    graph = Graph_Matrix()\n",
    "    graph.insert_vertex('A')\n",
    "    graph.insert_vertex('B')\n",
    "    graph.insert_vertex('C')\n",
    "    graph.insert_vertex('D')\n",
    "    graph.insert_vertex('E')\n",
    "    graph.insert_vertex('F')\n",
    "    graph.insert_vertex('G')\n",
    "    \n",
    "    graph.insert_edge(-1,-1,0,1)\n",
    "    graph.insert_edge(-1,-1,0,2)\n",
    "    graph.insert_edge(-1,-1,0,5)\n",
    "    graph.insert_edge(-1,-1,3,0)\n",
    "    graph.insert_edge(-1,-1,3,4)\n",
    "    graph.insert_edge(-1,-1,4,5)\n",
    "    graph.insert_edge(-1,-1,5,6)\n",
    "    graph.insert_edge(-1,-1,1,2)\n",
    "    graph.insert_edge(-1,-1,6,2)\n",
    "    \n",
    "    def visit(index,vertex):\n",
    "        print 'index->vertex.data: %s->%s, dtime:%s, ftime:%s'%(index,vertex.data,vertex.d_time,vertex.f_time)\n",
    "    GraphTraverse.DFS(3,graph,visit)"
   ]
  },
  {
   "cell_type": "markdown",
   "metadata": {},
   "source": [
    "#### 三. 拓扑排序  \n",
    "1. 何为拓扑排序  \n",
    " 给定一个实际应用, 依赖时间发生顺序形成有向图, 将该有向图在'相容'的条件下, 转换成一个线性序列. 该线性序列称为图的'拓扑排序'  \n",
    " '相容'指每一顶点, 都不会通过边, 指向此序列中的前驱节点  \n",
    "2. 任一不含回路的有向无环图, 都尤其对应的拓扑排序\n",
    " 有向无环图的拓扑排序并不唯一  \n",
    "3. 一种递归实现的拓扑排序  \n",
    " 因为有向无环图都至少含有1个入度为0的点.(否则的话, 图存在回路). 因此, 将该入度为0的点和从其出发的边从图中删去后, 剩下的图形仍然是有向无环图, 依然存在拓扑序列. 因此, 从递归的角度看:  \n",
    "   1. 递归基 : 只剩一个顶点时, 拓扑序列为该顶点  \n",
    "   2. 递归条件 : 每次从图中删除入度为0的顶点, 剩下的图队规执行进行拓扑排序\n",
    "4. 使用深度优先遍历进行拓扑排序 \n",
    "  1. 上面拓扑排序中, 不断删除入度为0的点进行递归. 现在, 假如我们每次从图中删除出度为0的顶点, 则这个删除的顺序构成拓扑排序的逆序\n",
    "  1. 深度优先遍历, 在顶点没有UNDISCOVERED状态的邻居时可以访问该顶点, 恰恰能满足了删除出度为0的顶点构成拓扑逆序的要求. 只是从入度为0的顶点开始深度优先遍历, 从而得到拓扑排序的逆序  \n",
    "    1. python使用list[::-1]反转list"
   ]
  },
  {
   "cell_type": "code",
   "execution_count": 174,
   "metadata": {
    "collapsed": true
   },
   "outputs": [],
   "source": [
    "import numpy as np\n",
    "class TopologicalSort(object):\n",
    "    @staticmethod\n",
    "    def t_sort(graphy,visit):\n",
    "        n = graphy.n\n",
    "        zero_out = [None for i in range(n)]\n",
    "        # 查找第一个出度为0的点的index. 翻转edge矩阵在查找, 相当于查找原来edge矩阵哪一个为全None\n",
    "        start = np.array(graph.E).T.tolist().index(zero_out)  \n",
    "        GraphTraverse.DFS(start,graph,visit)"
   ]
  },
  {
   "cell_type": "code",
   "execution_count": 175,
   "metadata": {},
   "outputs": [
    {
     "name": "stdout",
     "output_type": "stream",
     "text": [
      "['B', 'A', 'C', 'E', 'F', 'D']\n"
     ]
    }
   ],
   "source": [
    "if __name__ == '__main__':\n",
    "    graph = Graph_Matrix()\n",
    "    graph.insert_vertex('A')\n",
    "    graph.insert_vertex('B')\n",
    "    graph.insert_vertex('C')\n",
    "    graph.insert_vertex('D')\n",
    "    graph.insert_vertex('E')\n",
    "    graph.insert_vertex('F')\n",
    "    \n",
    "    graph.insert_edge(-1,-1,0,2)\n",
    "    graph.insert_edge(-1,-1,0,3)\n",
    "    graph.insert_edge(-1,-1,1,2)\n",
    "    graph.insert_edge(-1,-1,2,3)\n",
    "    graph.insert_edge(-1,-1,2,4)\n",
    "    graph.insert_edge(-1,-1,2,5)\n",
    "    graph.insert_edge(-1,-1,4,5)\n",
    "    \n",
    "    stack = []\n",
    "    def visit(index,vertex):\n",
    "        stack.append(vertex.data)\n",
    "    TopologicalSort.t_sort(graph,visit)\n",
    "    print stack[::-1]"
   ]
  },
  {
   "cell_type": "code",
   "execution_count": 161,
   "metadata": {},
   "outputs": [
    {
     "data": {
      "text/plain": [
       "array([[ 0,  5, 10],\n",
       "       [ 1,  6, 11],\n",
       "       [ 2,  7, 12],\n",
       "       [ 3,  8, 13],\n",
       "       [ 4,  9, 14]])"
      ]
     },
     "execution_count": 161,
     "metadata": {},
     "output_type": "execute_result"
    }
   ],
   "source": [
    "arr = np.arange(15).reshape(3,5)\n",
    "arr.T.to"
   ]
  },
  {
   "cell_type": "markdown",
   "metadata": {},
   "source": [
    "#### 四. 双联通分量分解\n",
    "略"
   ]
  },
  {
   "cell_type": "markdown",
   "metadata": {},
   "source": [
    "#### 五.优先级搜索\n",
    "略"
   ]
  },
  {
   "cell_type": "markdown",
   "metadata": {},
   "source": [
    "#### 六. 最小支撑树\n",
    "1. "
   ]
  },
  {
   "cell_type": "code",
   "execution_count": null,
   "metadata": {
    "collapsed": true
   },
   "outputs": [],
   "source": []
  },
  {
   "cell_type": "markdown",
   "metadata": {},
   "source": [
    "#### 七. 最短路径"
   ]
  },
  {
   "cell_type": "code",
   "execution_count": 180,
   "metadata": {},
   "outputs": [
    {
     "ename": "SyntaxError",
     "evalue": "invalid syntax (<ipython-input-180-630aaab9ef4d>, line 9)",
     "output_type": "error",
     "traceback": [
      "\u001b[0;36m  File \u001b[0;32m\"<ipython-input-180-630aaab9ef4d>\"\u001b[0;36m, line \u001b[0;32m9\u001b[0m\n\u001b[0;31m    [edge_matrix[src_idx][i] if i in neighbors_idxs else  for i in range(n)]\u001b[0m\n\u001b[0m                                                            ^\u001b[0m\n\u001b[0;31mSyntaxError\u001b[0m\u001b[0;31m:\u001b[0m invalid syntax\n"
     ]
    }
   ],
   "source": [
    "import sys\n",
    "class Dijkstra(object):\n",
    "    @staticmethod\n",
    "    def route(graph,src_idx):\n",
    "        n = graph.n\n",
    "        vertexs = graph.V\n",
    "        edge_matrix = graph.E\n",
    "        # 节点的weight属性, 记录源点到目标点路径的权值总和\n",
    "        vertexs[src_idx].weight = 0 \n",
    "        # 源点的邻居节点\n",
    "        neighbors_idxs = [i for i in range(n) if edge_matrix[src_idx][i] is not None]\n",
    "        # 初始化权值向量, 每个元素为该点到源点的距离, 若该店到源点之间没有边, 则将距离设为int最大值\n",
    "        initweights = [edge_matrix[src_idx][i] if i in neighbors_idxs else sys.maxint for i in range(n)]\n",
    "\n",
    "        for i in range(n):\n",
    "            vertexs[i].parent = src_idx\n",
    "            \n",
    "            "
   ]
  },
  {
   "cell_type": "code",
   "execution_count": 179,
   "metadata": {},
   "outputs": [
    {
     "data": {
      "text/plain": [
       "[-1, -1, -1, 1]"
      ]
     },
     "execution_count": 179,
     "metadata": {},
     "output_type": "execute_result"
    }
   ],
   "source": [
    "[1 if i>2 else -1 for i in range(4)]"
   ]
  },
  {
   "cell_type": "code",
   "execution_count": null,
   "metadata": {
    "collapsed": true
   },
   "outputs": [],
   "source": []
  }
 ],
 "metadata": {
  "kernelspec": {
   "display_name": "Python 2",
   "language": "python",
   "name": "python2"
  },
  "language_info": {
   "codemirror_mode": {
    "name": "ipython",
    "version": 2
   },
   "file_extension": ".py",
   "mimetype": "text/x-python",
   "name": "python",
   "nbconvert_exporter": "python",
   "pygments_lexer": "ipython2",
   "version": "2.7.14"
  }
 },
 "nbformat": 4,
 "nbformat_minor": 2
}

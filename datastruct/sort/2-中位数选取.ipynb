{
 "cells": [
  {
   "cell_type": "markdown",
   "metadata": {},
   "source": [
    "### 2.1 众数\n",
    "\n",
    "#### 一. 众数的概念\n",
    "1. 何为众数 :    \n",
    " 1. 在任一无序向量$A$中, 若有一半以上的元素值为m, 则称m为向量$A$的众数  \n",
    " [注] : 3在向量$\\left\\{ 5,3,9,3,1,2,3,3 \\right\\} $虽然最多(4/8), 但没超过一半, 所以不是众数\n",
    " \n",
    "#### 二. 众数查找\n",
    "1. 如果向量存在众数, 则其对应的有序向量, 该众数一定是其中位数  \n",
    " 因为如果众数不是中位数, 则被众数分割的向量两端, 都必存在众数, 这与向量的有序性相违背 \n",
    "2. 如何找到众数  \n",
    "  1. 基于以上思路, 我们首先找到有序向量的中位数`majEleCandidate`,   \n",
    "  2. 再看这个中位数是否满足众数的要求`majEleCheck`: 在线性时间内扫描一遍向量, 统计该中位数出现的次数  \n",
    "  2. 若满足, 则找到众数, 否则不存在众数\n",
    "  \n",
    "3. 众数的减而治之  \n",
    "在尚未找到搞笑的中位数选取算法之前,该如何解决众数选取问题呢?\n",
    "  1. 众数的另一个性质 :   \n",
    "   设$p$为无序向量$A$中, 长度为$2m$的前缀向量. 则若$p$中元素$x$恰好出现$m次$($p$长度的一半), 则其后缀$A-P$的众数必为$A$的众数  \n",
    "  2. 减而治之的中位数选取算法  \n",
    "    1. 基于以上思想, 引入计数器c, 记录maj与其他元素的数额差距. \n",
    "    2. 经过线性时间, 因此设maj为后缀向量的首个元素.\n",
    "    3. 每当计数器c归0, 则意味着前缀可以被减除"
   ]
  },
  {
   "cell_type": "code",
   "execution_count": 10,
   "metadata": {},
   "outputs": [
    {
     "data": {
      "text/plain": [
       "4"
      ]
     },
     "execution_count": 10,
     "metadata": {},
     "output_type": "execute_result"
    }
   ],
   "source": [
    "def majelecandidate(l):\n",
    "    '''基于前缀减除的众数候选者选取'''\n",
    "    c = 0 # 计数器, 记录maj与其他元素的数量差额\n",
    "    for i in range(0,len(l)):\n",
    "        if c==0: # c归0时,前缀可以减除\n",
    "            maj = l[i] # 众数候选者为当前元素\n",
    "            c = 1 # maj与其他元素的个数差额变为1\n",
    "        else:\n",
    "            if maj == l[i]:\n",
    "                c = c+1\n",
    "            else:\n",
    "                c = c-1\n",
    "    return maj\n",
    "\n",
    "#test\n",
    "majelecandidate([6,2,6,1,4])"
   ]
  },
  {
   "cell_type": "code",
   "execution_count": 11,
   "metadata": {},
   "outputs": [],
   "source": [
    "def majelecheck(l,candidate):\n",
    "    '''线性时间检查后选择是否为众数'''\n",
    "    count = 0\n",
    "    for elem in l:\n",
    "        if elem == candidate:\n",
    "            count = count+1\n",
    "    # 看maj的个数是否超过了列表的一半\n",
    "    return count*2 > len(l)"
   ]
  },
  {
   "cell_type": "code",
   "execution_count": 14,
   "metadata": {},
   "outputs": [
    {
     "name": "stdout",
     "output_type": "stream",
     "text": [
      "candidate:  2\n",
      "False\n"
     ]
    }
   ],
   "source": [
    "if __name__==\"__main__\":\n",
    "    l = [2,3,61,43,1,2,2,2]\n",
    "    candidate = majelecandidate(l)\n",
    "    print('candidate: ',candidate)\n",
    "    flag = majelecheck(l,candidate)\n",
    "    print(flag)"
   ]
  },
  {
   "cell_type": "markdown",
   "metadata": {},
   "source": [
    "### 2.2 归并向量的中位数\n",
    "\n",
    "#### 一. 问题描述  \n",
    " 给定2个有序向量, 如何找出它们归并后所得的有序向量$S={ S }_{ 1 }\\cup { S }_{ 2 }$的中位数\n",
    " \n",
    "#### 二. 解决办法\n",
    "1. 蛮力法  \n",
    "  1. 可使用归并排序, 将2个有序子序列合并成1个大的有序列表$S$, 然后取元素$S\\left[ \\left\\lfloor \\frac { { n }_{ 1 }+{ n }_{ 2 } }{ 2 }  \\right\\rfloor  \\right] $\n",
    "  2. 缺点是 :   \n",
    "   没有充分利用2个子序列已经有序的条件"
   ]
  },
  {
   "cell_type": "code",
   "execution_count": 1,
   "metadata": {},
   "outputs": [
    {
     "data": {
      "text/plain": [
       "3"
      ]
     },
     "execution_count": 1,
     "metadata": {},
     "output_type": "execute_result"
    }
   ],
   "source": [
    "import math\n",
    "def trivalMedian(s1,s2):\n",
    "    '''蛮力归并排序法,找到中位数 (适用于2个序列很短的情况)'''\n",
    "    i=0;j=0\n",
    "    s = []\n",
    "    m = len(s1)\n",
    "    n = len(s2)\n",
    "    while i<m and j<n:\n",
    "        if(s1[i]<=s2[j]):\n",
    "            s.append(s1[i])\n",
    "            i = i+1\n",
    "        else:\n",
    "            s.append(s2[j])\n",
    "            j = j+1\n",
    "    while i<m:\n",
    "        s.append(s1[i])\n",
    "        i = i+1\n",
    "    while j<n:\n",
    "        s.append(s2[j])\n",
    "        j = j+1\n",
    "    # math.floor向下取整\n",
    "    return s[math.floor((m+n)/2)]\n",
    "\n",
    "trivalMedian([1,2,3],[2,3,4])"
   ]
  },
  {
   "cell_type": "markdown",
   "metadata": {},
   "source": [
    "#### 2. $S_1$和$S_2$等长的情况\n",
    "  1. 首先找到$S_1$的中位数: $m_1={ S }_{ 1 }\\left[ \\left\\lfloor \\frac { n }{ 2 }  \\right\\rfloor  \\right]$,   \n",
    "   和$S_2$的逆向中位数: $m_2={ S }_{ 2 }\\left[ \\left\\lceil \\frac { n }{ 2 }  \\right\\rceil -1 \\right] ={ S }_{ 2 }\\left[ \\left\\lfloor \\frac { n-1 }{ 2 }  \\right\\rfloor  \\right] $  \n",
    "   2. 若$m_1=m_2$:   \n",
    "    因为2个子序列的中位数相等, 所以小于$m_1=m_2$的数, 在$S={ S }_{ 1 }\\cup { S }_{ 2 }$中的个数为$\\left\\lfloor \\frac { n }{ 2 }  \\right\\rfloor +\\left\\lceil \\frac { n }{ 2 }  \\right\\rceil -1=n-1$, 同理, 大于$m_1=m_2$的个数也为$n-1$, 因此, 中位数就是$m_1=m_2$.  \n",
    "    如下图, 左侧为n为偶数, 右侧为n为奇数\n",
    "    <img src='img/medianequal.png' width='80%' height='80%'>\n",
    "   3. 若$m_1<m_2$   \n",
    "    则意味着, 合并后的大向量$S$的中位数, 必在大于$m_1$小于$m_2$的两段中. 此时将问题规模变为$S_1$的右半段和$S_2$的左半端, 问题规模缩减一半, 因此比满立法要快  \n",
    "   4. 当问题规模缩减到3, 则可直接使用满立法求解\n",
    "   \n",
    "如上求解办法, 因为递归总深度不超过$log_2{n}$, 因此, 时间复杂度为$log(n)$"
   ]
  },
  {
   "cell_type": "code",
   "execution_count": 8,
   "metadata": {},
   "outputs": [],
   "source": [
    "def median(s1,lo1,s2,lo2,n):\n",
    "    '''s1: 子列表1, lo1: 子列表1起始位置\n",
    "       s2: 子列表2, lo2:子列表2起始位置\n",
    "       n: s1和s2的长度'''\n",
    "    if n<3:\n",
    "        return trivalMedian(s1[lo1:],s2[lo2:])\n",
    "    mid1 = lo1 + math.floor(n/2)\n",
    "    mid2 = lo2 + math.floor((n-1)/2)\n",
    "    if s1[mid1] == s2[mid2]:\n",
    "        return s1[mid1]\n",
    "    if s1[mid1] > s2[mid2]: #取s1的右端,s2的左端\n",
    "        n = n-(mid1-lo1)  # s1和s2的长度都减小为 n-(mid1-lo1)\n",
    "        return median(s1,mid1,s2,lo2,n)\n",
    "    if  s1[mid1] < s2[mid2]:\n",
    "        n = n-(mid2-lo2)\n",
    "        return median(s1,lo1,s2,mid2,n)"
   ]
  },
  {
   "cell_type": "code",
   "execution_count": 9,
   "metadata": {},
   "outputs": [
    {
     "name": "stdout",
     "output_type": "stream",
     "text": [
      "中位数:  6\n"
     ]
    }
   ],
   "source": [
    "if __name__==\"__main__\":\n",
    "    s1 = [2,4,5,6] # 要等长\n",
    "    s2 = [4,6,7,8]\n",
    "    mid_num = median(s1,0,s2,0,4)\n",
    "    print('中位数: ', mid_num)"
   ]
  },
  {
   "cell_type": "markdown",
   "metadata": {},
   "source": [
    "#### 3. $S_1$和$S_2$不等长的情况  \n",
    "1.  不等长的情况下, 如果要向等长情况的裁剪思路, 必须保证2个列表裁剪掉的元素个数相等.   \n",
    "   这样才能保证裁剪后的向量, 中位数和大向量S的中位数一致\n",
    "   \n",
    "2. 为了确保实现简单, 默认s2的长度大于s1"
   ]
  },
  {
   "cell_type": "code",
   "execution_count": null,
   "metadata": {},
   "outputs": [],
   "source": [
    "def median2(s1,lo1,n1,s2,lo2,n2):\n",
    "    if n2<n1:\n",
    "        return median2(s2,lo2,n2,s1,lo1,n1)\n",
    "    if n2<6:\n",
    "        return trivalMedian(s1[lo1:lo1+n1],s2[lo2:lo2+n2])\n",
    "    # s1的中位数\n",
    "    mid1 = lo1+math.floor(n1/2)\n",
    "    # s2刨除与s1一半等长的前缀\n",
    "    mid2a = lo2+math.floor((n1-1)/2)\n",
    "    # s2刨除与s1一半等长的后缀\n",
    "    mid2b = lo2+(n2-1)-math.floor(n1/2)\n",
    "    #TODO"
   ]
  }
 ],
 "metadata": {
  "kernelspec": {
   "display_name": "Python 3",
   "language": "python",
   "name": "python3"
  },
  "language_info": {
   "codemirror_mode": {
    "name": "ipython",
    "version": 3
   },
   "file_extension": ".py",
   "mimetype": "text/x-python",
   "name": "python",
   "nbconvert_exporter": "python",
   "pygments_lexer": "ipython3",
   "version": "3.6.5"
  }
 },
 "nbformat": 4,
 "nbformat_minor": 2
}

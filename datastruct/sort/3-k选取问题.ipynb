{
 "cells": [
  {
   "cell_type": "markdown",
   "metadata": {},
   "source": [
    "### 一. 问题描述\n",
    "1. 我们要解决, 选取一组元素中, 第k大的元素  \n",
    "2. 该问题包含的排序量, 远远少于经过全排序后得到整个有序序列的时间复杂度  \n",
    "  因此, 我们以全排序的成本, 却为了获取少量局部信息"
   ]
  },
  {
   "cell_type": "markdown",
   "metadata": {},
   "source": [
    "### 二. 基于快随划分的选取\n",
    "1. 回想快速排序的轴点选取算法, 有以下特点 :  \n",
    " 轴点构造好后, 其左侧元素均小于之; 其右侧元素均大于之  \n",
    "2. 基于轴点划分的k-选取 :   \n",
    "  1.  若轴点构造好后, 其角标$i=k$ : 则轴点就是k-选取的点  \n",
    "  2. 若$i>k$, 则i后面的元素可以全部抛弃, 因为这些元素都要比第k个数值大  \n",
    "  3. 若$i<k$, 则应在轴点右面的元素上, 做$k-i$选取. 其前面的元素直接抛弃"
   ]
  },
  {
   "cell_type": "code",
   "execution_count": 20,
   "metadata": {},
   "outputs": [],
   "source": [
    "def partition(l,low,high):\n",
    "    '''轴点构造方法'''\n",
    "    # 选取首元素为待构造的轴点\n",
    "    pivot = l[low]\n",
    "    while low<high: \n",
    "        while l[high]>=pivot and low<high:\n",
    "            high = high-1\n",
    "        l[low] = l[high]\n",
    "        while l[low]<=pivot and low<high:\n",
    "            low = low+1\n",
    "        l[high] = l[low]\n",
    "    # 循环结束时,low==high\n",
    "    l[low] = pivot\n",
    "    return low"
   ]
  },
  {
   "cell_type": "code",
   "execution_count": 23,
   "metadata": {},
   "outputs": [],
   "source": [
    "def quickSelect(l,low,high,k):\n",
    "    '''从列表l中进行k-选择'''\n",
    "    idx = partition(l,low,high)\n",
    "    print(\"idx:\",idx,\"k:\",k,\"low:\",low,\"high:\",high)\n",
    "    if idx==k:\n",
    "        return l[idx]\n",
    "    if idx>k: # 从index的左面选\n",
    "        return quickSelect(l,low,idx-1,k)\n",
    "    if idx<k: # 从index的右面选\n",
    "        return quickSelect(l,idx+1,high,k)"
   ]
  },
  {
   "cell_type": "code",
   "execution_count": 24,
   "metadata": {},
   "outputs": [
    {
     "name": "stdout",
     "output_type": "stream",
     "text": [
      "idx: 0 k: 2 low: 0 high: 3\n",
      "idx: 1 k: 2 low: 1 high: 3\n",
      "idx: 2 k: 2 low: 2 high: 3\n",
      "2-select: 12\n",
      "l: [3, 5, 12, 89]\n"
     ]
    }
   ],
   "source": [
    "l = [3,5,12,89]\n",
    "k = 2\n",
    "print ('%s-select: %s' % (k,quickSelect(l,0,len(l)-1,k)))\n",
    "print('l:', l)"
   ]
  }
 ],
 "metadata": {
  "kernelspec": {
   "display_name": "Python 3",
   "language": "python",
   "name": "python3"
  },
  "language_info": {
   "codemirror_mode": {
    "name": "ipython",
    "version": 3
   },
   "file_extension": ".py",
   "mimetype": "text/x-python",
   "name": "python",
   "nbconvert_exporter": "python",
   "pygments_lexer": "ipython3",
   "version": "3.6.5"
  }
 },
 "nbformat": 4,
 "nbformat_minor": 2
}

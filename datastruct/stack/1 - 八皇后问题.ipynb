{
 "cells": [
  {
   "cell_type": "markdown",
   "metadata": {},
   "source": [
    "#### 1. n皇后问题\n",
    "国际象棋中， 皇后的势力覆盖其所在的水平线， 垂直线，以及2条对角线。  \n",
    "先考虑如下问题，如何在n×n的棋盘上放置n个皇后， 使他们之间不互相攻击  \n",
    "\n",
    "#### 2. 解决方法  \n",
    "1. 对于2个皇后是否冲突的判断， 可使用类的equals方法判断  \n",
    "2. 有了判断2个皇后是否冲突的判断的方法, 可先将皇后放置到每一行。 然后从空棋盘开始， 尝试将它们放置到无冲突的列。每放置好一个皇后， 再继续试探下一个。若当前皇后在任何列都会造成冲突，则后续皇后的试探都必将是徒劳的，故此应该回溯到上一个皇后\n",
    "\n",
    "#### 3. 四皇后的完整求解过程\n",
    "<img src=\"img/queen.png\" height=\"80%\" width=\"80%\">\n",
    "\n",
    "#### 4. python列表增加元素方法  \n",
    "```python\n",
    "# python列表增加元素实例  \n",
    "# lst.append(elem1)后，如果elem1=other_val，再调用lst.append(elem1)，则lst有2个元素\n",
    "lst = []\n",
    "ele1 = 1\n",
    "lst.append(ele1)\n",
    "print(lst)\n",
    "ele1 = 2\n",
    "lst.append(ele1)\n",
    "print(lst)\n",
    "\n",
    "#[1]\n",
    "#[1, 2]\n",
    "```"
   ]
  },
  {
   "cell_type": "markdown",
   "metadata": {},
   "source": [
    "#### 5. Queen类的设计  \n",
    "复写判等方法"
   ]
  },
  {
   "cell_type": "code",
   "execution_count": 44,
   "metadata": {},
   "outputs": [],
   "source": [
    "class Queen(object):\n",
    "    def __init__(self,x,y):\n",
    "        self.x = x\n",
    "        self.y = y\n",
    "    def __eq__(self,other):                                               \n",
    "        return((self.x==other.x) or \n",
    "               (self.y==other.y) or \n",
    "               (self.x-other.x == self.y-other.y) or  # y=x+b \n",
    "               (self.x-other.x == other.y-self.y))    # y=-x+b\n",
    "    def __str__(self):\n",
    "        return \"x:%s,y:%s\"%(self.x,self.y)"
   ]
  },
  {
   "cell_type": "markdown",
   "metadata": {},
   "source": [
    "#### 6. 摆置皇后"
   ]
  }
 ],
 "metadata": {
  "kernelspec": {
   "display_name": "Python 3",
   "language": "python",
   "name": "python3"
  },
  "language_info": {
   "codemirror_mode": {
    "name": "ipython",
    "version": 3
   },
   "file_extension": ".py",
   "mimetype": "text/x-python",
   "name": "python",
   "nbconvert_exporter": "python",
   "pygments_lexer": "ipython3",
   "version": "3.6.5"
  }
 },
 "nbformat": 4,
 "nbformat_minor": 2
}

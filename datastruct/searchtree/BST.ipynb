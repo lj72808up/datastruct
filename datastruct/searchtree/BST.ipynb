{
 "cells": [
  {
   "cell_type": "code",
   "execution_count": 1,
   "metadata": {},
   "outputs": [],
   "source": [
    "from bintree import BinNode,BinTree,BinNodeUtil,BinTreeUtility"
   ]
  },
  {
   "cell_type": "markdown",
   "metadata": {
    "collapsed": true
   },
   "source": [
    "### 1.1 二叉搜索树模板\n",
    "\n",
    "#### 一. 二叉搜索树的结构\n",
    "1. 二叉搜索树处处满足顺序性 :   \n",
    "  任一节点$r$的左(右)子树中, 所有节点(若存在)均不大于(不小于)$r$ \n",
    "2. 若按照\"左子树<父节点<右子树\"的顺序组织节点, 则该二叉搜索树的中序遍历序列单调非降  \n",
    "3. 1. 二叉搜索树BST继承自前文介绍的二叉树类  \n",
    " [二叉树类](http://nbviewer.jupyter.org/github/lj72808up/datastruct/blob/master/bintree/1-BinaryTree.ipynb)\n",
    "\n",
    "#### 二. BST关键码查找\n",
    "1. BST查找  \n",
    "  1. 从根节点开始, 按照关键码比较结果决定递归查找左子树或右子树  \n",
    "  2. BST类的属性hot, 记录查找节点的父节点(该位置可作为后面插入节点到BST的接入位置)   \n",
    "  3. BST查找, 一般将叶子节点的None孩子节点也看做\"真实节点\",便于递归  \n",
    "2. 查找效率  \n",
    " BST的每一层, 算法至多访问1个节点, 只需常数时间. 然而不幸的是, 规模为n的BST, 其深度可能为n. 此时退化成一个有序列表, 此时的查找等效于顺序查找, 因此提高BST的搜索效率, 关键在于减小树的高度\n",
    " \n",
    "#### 三. BST节点插入\n",
    "1. 插入步骤  \n",
    "  1. 首先, 利用BST查找算法, 找到插入位置及方向, 然后将新节点作为叶子节点插入  \n",
    "  2. 从节点hot开始, 更新其父节点的高度  \n",
    "  \n",
    "#### 四. BST节点删除\n",
    "节点删除的情况比较复杂, 需要分情况讨论待删除节点的状态, 找到能够替换掉该节点的节点    \n",
    "首先找到待删除节点的位置\n",
    "1. 待删除节点只有单分支  \n",
    " 当待删除节点只有单分支, 将该待删除节点替换为该节点的孩子节点即可  \n",
    "2. 待删除节点有双分支  \n",
    " 当待删除节点有双分支, 为保证BST的顺序定义(左孩子<节点<右孩子), 该节点应被替换为中序遍历下的后继节点:   \n",
    "   1. 即若该节点有右孩子, 则其后继为右子树的最左节点\n",
    "   2. 若该节点无右孩子, 则其后继为一直向左上方提升,知道无法提升后的父节点k\n",
    "   其右子树的最左节点. 因为右子树的最左节点必无左孩子, 所以删除该最左节点的情形同只有一个分支的情况\n",
    "<img src='img/bstremove1.png' height='85%' width='85%'>"
   ]
  },
  {
   "cell_type": "code",
   "execution_count": 2,
   "metadata": {},
   "outputs": [],
   "source": [
    "class BST(BinTree):\n",
    "    def __init__(self):\n",
    "        # 命中节点的父亲\n",
    "        self.hot = None\n",
    "        self.root = None\n",
    "        \n",
    "    def searchIn(self,node,data):\n",
    "        '''从节点node开始查找关键码为data的节点\n",
    "           hot指向其父节点'''\n",
    "        if (node is None ) or (node.data == data):\n",
    "            return node\n",
    "        self.hot = node\n",
    "        if data<node.data:\n",
    "            return search(node.lc,data)\n",
    "        if data>node.data:\n",
    "            return search(node.rc,data)\n",
    "        \n",
    "    def search(self,data):\n",
    "        '''从根节点开始,查找关键码为data的节点'''\n",
    "        return self.searchIn(self.root,data)\n",
    "    \n",
    "    def insert(self,data):\n",
    "        '''将关键码data插入BST树'''\n",
    "        x = self.search(data)\n",
    "        # 查找成功, 直接返回\n",
    "        if x is not None:\n",
    "            return x\n",
    "        # 查找不成功, 新建节点, \n",
    "        new_x = BinNode(data,parent=self.hot)\n",
    "        # 插入子孩子\n",
    "        if data<self.hot.data:\n",
    "            self.hot.lc = new_x\n",
    "        if data>self.hot.data:\n",
    "            self.hot.rc = new_x\n",
    "        # 更新节点数, 数高\n",
    "        self.size = self.size + 1\n",
    "        self.update_height_above(self,new_x)\n",
    "        return new_x\n",
    "    \n",
    "    def removeAt(self,node):\n",
    "        '''删除节点:\n",
    "           succ : 返回值,为实际被删除节点的接替者\n",
    "           self.hot : 实际被删除节点的parent. \n",
    "                      单分支下hot为被删除节点的父节点\n",
    "                      双分支下hot为右子树最左节点的parent \n",
    "        '''\n",
    "        w = node\n",
    "        succ = None # 始终指向被删除节点的接替者\n",
    "        if not BinNodeUtil.has_lchild(node):\n",
    "            succ = node.rc\n",
    "        elif not BinNodeUtil.has_rchild(node):\n",
    "            succ = node.lc\n",
    "        else: # 两个分支都存在\n",
    "            w = BinTreeUtility.succ(w)\n",
    "            # 交换待删除节点和其后继节点的元素值后, 再删除这个后继节点\n",
    "            tmp = node.data\n",
    "            node.data = w.data\n",
    "            w.data = tmp\n",
    "            u = w.parent\n",
    "            if u is node: # 后继节点是该节点的父亲,\n",
    "                succ = w.rc\n",
    "                u.rc = w.rc\n",
    "            else:\n",
    "                succ = w.rc\n",
    "                u.lc = w.rc\n",
    "        self.hot = w.parent\n",
    "        if succ is not None:\n",
    "            succ.parent = self.hot\n",
    "        return succ\n",
    "    \n",
    "    def remove(self,data):\n",
    "        x = self.search(data)\n",
    "        if x is None:\n",
    "            return False\n",
    "        self.removeAt(data)\n",
    "        self.size = self.size-1\n",
    "        self.update_height_above(self.hot)\n",
    "        return True"
   ]
  },
  {
   "cell_type": "markdown",
   "metadata": {},
   "source": [
    "### 1.2 平衡二叉树的树型调整\n",
    "\n",
    "#### 一. 为什么要调整平衡二叉树的树形结构\n",
    "1. 如上模板实现, search(),insert(),delete()方法, 其时间复杂度均线性正比于二叉搜索树的高度,  \n",
    " 最坏情况下, 二叉搜索树可能退化为列表, 其查找效率甚至可能退化为$O(n)$  \n",
    "2. 树型机构不同的原因   \n",
    "  同一组数据, 由于插入二叉搜索树的顺序不同, 导致生成的BST树形结构不同\n",
    "  <img src='img/bst2.png' width='75%' height='75%'>"
   ]
  },
  {
   "cell_type": "markdown",
   "metadata": {},
   "source": [
    "#### 二. 等价二叉搜索树\n",
    "1. 何为等价二叉树  \n",
    " 若2棵二叉搜索树的中序遍历相同, 则称他们彼此等价  \n",
    " 如下图所示的2棵二叉搜索树是等价的.\n",
    " <img src='img/dengjiaerchasousuoshu.png' width='70%' height='70%'>\n",
    "2. 等价二叉搜索树的性质  \n",
    " 如上图所示, 等价二叉搜索树, 各节点的垂直高度可能有所不同, 但水平次序完全一致. 即\"上下可变,左右不乱\""
   ]
  },
  {
   "cell_type": "markdown",
   "metadata": {},
   "source": [
    "#### 三. AVL树\n",
    "1. 平衡因子  \n",
    " 任意节点v的平衡因子, 定义为\"其左右子树的高度差\", 即$$balFac(v) = height\\left( lc(v) \\right) -height\\left( rc(v) \\right) $$[注]:空树高度为-1,单节点子树高度为0\n",
    "2. AVL树的限制条件  \n",
    " AVL树, 即平衡因子受限的二叉搜索树, 其各节点平衡因子的绝对值不超过1\n",
    "3. 为了判断平衡因子, 增加工具类`BalancedUtil`"
   ]
  },
  {
   "cell_type": "code",
   "execution_count": null,
   "metadata": {},
   "outputs": [],
   "source": [
    "class AVL(BST):\n",
    "    def insert(self,data):\n",
    "        \n",
    "    def remove(self,data):\n",
    "        "
   ]
  },
  {
   "cell_type": "code",
   "execution_count": null,
   "metadata": {},
   "outputs": [],
   "source": [
    "class BalancedUtil(object):\n",
    "    @staticmethod\n",
    "    def Balanced(node):\n",
    "        '''理想平衡条件'''\n",
    "        return BinNodeUtil.stature(node.lc) == BinNodeUtil.stature(node.rc)\n",
    "    @staticmethod\n",
    "    def BalFac(node):\n",
    "        '''平衡因子'''\n",
    "        return BinNodeUtil.stature(node.lc) - BinNodeUtil.stature(node.rc)\n",
    "    @staticmethod\n",
    "    def AvlBalanced(node):\n",
    "        '''AVL平衡条件'''\n",
    "        return (-2<BalancedUtil.BalFac(node)) and (BalancedUtil.BalFac(node)<2)"
   ]
  },
  {
   "cell_type": "code",
   "execution_count": null,
   "metadata": {},
   "outputs": [],
   "source": []
  },
  {
   "cell_type": "code",
   "execution_count": null,
   "metadata": {},
   "outputs": [],
   "source": []
  },
  {
   "cell_type": "code",
   "execution_count": null,
   "metadata": {},
   "outputs": [],
   "source": []
  },
  {
   "cell_type": "code",
   "execution_count": null,
   "metadata": {},
   "outputs": [],
   "source": []
  },
  {
   "cell_type": "code",
   "execution_count": null,
   "metadata": {},
   "outputs": [],
   "source": []
  },
  {
   "cell_type": "code",
   "execution_count": null,
   "metadata": {},
   "outputs": [],
   "source": []
  },
  {
   "cell_type": "code",
   "execution_count": null,
   "metadata": {},
   "outputs": [],
   "source": []
  },
  {
   "cell_type": "code",
   "execution_count": null,
   "metadata": {},
   "outputs": [],
   "source": []
  },
  {
   "cell_type": "code",
   "execution_count": null,
   "metadata": {},
   "outputs": [],
   "source": []
  },
  {
   "cell_type": "code",
   "execution_count": null,
   "metadata": {},
   "outputs": [],
   "source": []
  },
  {
   "cell_type": "code",
   "execution_count": null,
   "metadata": {},
   "outputs": [],
   "source": []
  }
 ],
 "metadata": {
  "kernelspec": {
   "display_name": "Python 3",
   "language": "python",
   "name": "python3"
  },
  "language_info": {
   "codemirror_mode": {
    "name": "ipython",
    "version": 3
   },
   "file_extension": ".py",
   "mimetype": "text/x-python",
   "name": "python",
   "nbconvert_exporter": "python",
   "pygments_lexer": "ipython3",
   "version": "3.6.5"
  }
 },
 "nbformat": 4,
 "nbformat_minor": 2
}

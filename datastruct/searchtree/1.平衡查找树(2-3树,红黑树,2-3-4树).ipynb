{
 "cells": [
  {
   "cell_type": "markdown",
   "metadata": {},
   "source": [
    "### 一. 宽松平衡的树    \n",
    "&nbsp;&nbsp;&nbsp;&nbsp;二分查找树虽然使用了二分查找, 加快了最优情况下的查找效率(O(logN)), 但在最坏情况下却没有改善(O(n)); 完全平衡二叉搜索树虽然改善了最坏情况下的查找效率, 但是最坏情况下的插入操作变得很繁琐; 如果我们适当放宽平衡的条件, 就会找到一种在最坏情况下, insert和search都是对数级时间复杂度的方法"
   ]
  },
  {
   "cell_type": "markdown",
   "metadata": {},
   "source": [
    "### 二. 2-3查找树思想\n",
    "#### 2.1 节点包含key个数的宽松 \n",
    "&nbsp;&nbsp;&nbsp;&nbsp;首先, 我们要允许树中的节点包含多于1个的key; 标准BST中都是**2-节点**,而现在我们允许出现**3-节点**(1个节点包含2个key和3个link指针); 一个完美平衡的2-3树, 其空指针将全在同一层(最后一层)出现; 为了简洁, 说2-3树的时候, 就是在指完美平衡的2-3树\n",
    "#### 2.2 search操作\n",
    "&nbsp;&nbsp;&nbsp;&nbsp;2-3树的查找, 从root节点开始, 查找节点中是否包含待查找的key值, 没有就选择节点的1个link分支向下查找, 知道找到\"null\"\n",
    "<img src=\"img/23search.png\" width=\"70%\">\n",
    "#### 2.3 insert操作\n",
    "插入操作需要分几种情况讨论:  \n",
    "1. **插入\"2节点\"**  \n",
    "如果最终把key插入\"2节点\", 则实际上做了一次失败查找, 然后将key插入后形成\"3节点\"\n",
    "2. **插入\"3节点\"**  \n",
    "    1. 插入的\"3节点\", 其父节点是\"2节点\"  \n",
    "        1. 先将key插入该\"3节点\", 导致其形成\"4节点\",\n",
    "        2. 然后选择该\"4节点\"的中间位置元素剔除并入父亲节点, 此时父节点成为\"3节点\", 该位置的\"4节点\"分裂成2个\"2节点\" \n",
    "        3. 将父节点增加2个link, 分别指向分裂出来的2个\"2节点\"   \n",
    "        <img src=\"img/23insert1.png\" width=\"30%\">\n",
    "    2. 插入的\"3节点\", 其父节点是\"3节点\"  \n",
    "        1. 先将key插入该\"3节点\", 导致其形成\"4节点\"\n",
    "        2. 然后选择该\"4节点\"的中间位置元素并入父亲节点, 此时父节点成为\"4节点\", 该位置的\"4节点\"分裂成2个\"2节点\" \n",
    "        3. 将父节点的中间位置元素剔除并加入更父一级的节点, 此时低一级的父节点分裂成2个\"2节点\";  \n",
    "           一直调整直到遇到父节点是\"2节点\", 或遇到root节点(此时若root节点是\"2节点\", 直接插入; 若为\"3节点\", root节点分裂, 树增高一层)\n",
    "\n",
    "<img src=\"img/2-3insert2.png\" width=\"90%\">\n",
    "\n",
    "#### 2.4 局部调整\n",
    "1. 无论是将key插入\"2节点\"; 还是将key插入了\"父节点2节点\", 孩子节点分裂为2个\"2节点\"; 亦或是将key插入\"父节点3节点\"循环向上调整, 树的高度都不会发生变化, 只有root节点分裂时, 树高才+1;  \n",
    "2. \"2-3树\"的每次调整都是局部调整, 每次都能保证\"完美平衡\"和有序性  \n",
    "3. 由于2-3树的link分支由2~3个, 所以树的高度总是在$log_2N和log_3N$之间\n",
    "4. 2-3树的设计是为了避免标准平衡查找树最坏情况下, 查找退化为O(n)的情况, 但是由于\"2-3\"树要维护两种节点:\"2节点\"和\"3节点\"; 且节点在分裂时会在\"2节点\"和\"3节点\"之间转换, 增加了属性拷贝时间, 所以在非最坏情况下, 2-3树可能会比标准BST树稍慢"
   ]
  },
  {
   "cell_type": "markdown",
   "metadata": {},
   "source": [
    "### 三. 红黑树 - (改造2-3树变为BST形式) \n",
    "#### 3.1 编码2-3树的\"3节点\", 改造为\"2节点\"\n",
    "1. 红黑树的link分为2种类型: \n",
    "    1. red link: red link连接2个\"2节点\", 来表示2-3树中的\"3节点\"  \n",
    "    尤其指出, red link时左倾的, 表示1个\"2节点\"时另一个\"2节点\"的左孩子\n",
    "    <img src=\"img/encodee3node.png\" width=\"30%\">\n",
    "    2. black link: black link连接2个2-3树\n",
    "2. 红黑树和\"2-3树\"和\"BST\"的关系 \n",
    "    1. 红黑树的get()方法和标准BST中的完全一致, 不需要任何修改就能使用;\n",
    "    2. 给定一个\"2-3树\", 可以立刻转得到对应的\"BST树\", 通过转换\"3节点\"为2个连接的\"2节点\";  \n",
    "       同样的, 可以使用red,black link立刻将BST表示为\"2-3树\"\n",
    "3. 红黑树另一种等价的定义  \n",
    "红黑树是一种**red-black BST**, 即存在red link和black link的BST树, 且树满足如下限制:  \n",
    "    1. red link时左倾斜的  \n",
    "    2. 不存在有2个red link的节点\n",
    "    3. 树是\"黑平衡\"的: 所有null指针, 到root的距离都包括相同个数的black link  \n",
    "4. 通过拉平red link, 展示红黑树和\"2-3树\"的\"1-1对应\"关系\n",
    "    1. 如果拉平red link, 会得到如下水平red link图示:  \n",
    "    <img src=\"img/horizonrbtree.png\" width=\"70%\">  \n",
    "    2. red-black树, 水平red link,2-3树的**1-1对应关系**\n",
    "    <img src=\"img/rbtree1on1.png\" width=\"40%\">  \n",
    "    \n",
    "#### 3.2 红黑树类的构造\n",
    "1. **颜色表示**  \n",
    "红黑树由于用于2种2link, 因此, 其节点表示方法需要改造: \n",
    "    1. 首先, 在节点中加入一个boolean属性: true表示red link, false表示black link  \n",
    "    2. 其次, 加入一个isRed()方法, 表示自己和父节点的连接是否为red link\n",
    "    <img src=\"img/colorpresent.png\" width=\"54%\">\n",
    "2. **旋转**   \n",
    "为了便于操作, 我们允许存在\"向右倾斜的red link\"和\"同一行由2个red link\"的中间过程, 但是在完成操作后, 一定会满足3.1中red link的限制条件  \n",
    "    1. \"右倾斜red link的左旋操作\"  \n",
    "    <img src=\"img/rotateleft.png\" width=\"80%\">"
   ]
  },
  {
   "cell_type": "code",
   "execution_count": null,
   "metadata": {},
   "outputs": [],
   "source": []
  }
 ],
 "metadata": {
  "kernelspec": {
   "display_name": "Python 3",
   "language": "python",
   "name": "python3"
  },
  "language_info": {
   "codemirror_mode": {
    "name": "ipython",
    "version": 3
   },
   "file_extension": ".py",
   "mimetype": "text/x-python",
   "name": "python",
   "nbconvert_exporter": "python",
   "pygments_lexer": "ipython3",
   "version": "3.7.0"
  }
 },
 "nbformat": 4,
 "nbformat_minor": 2
}
